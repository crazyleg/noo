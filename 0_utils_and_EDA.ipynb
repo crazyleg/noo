{
 "cells": [
  {
   "cell_type": "code",
   "execution_count": 1,
   "id": "f36dda46-c197-42f3-ade4-0bbfe35f9150",
   "metadata": {},
   "outputs": [],
   "source": [
    "import pandas as pd\n",
    "import csv\n",
    "import numpy as np\n",
    "import matplotlib.pyplot as plt\n",
    "import scipy.stats as stats\n",
    "import math\n",
    "from scipy.stats import chi2\n",
    "import gzip\n",
    "from joblib import Parallel, delayed\n",
    "from tqdm.notebook import trange, tqdm\n",
    "import glob"
   ]
  },
  {
   "cell_type": "code",
   "execution_count": 3,
   "id": "109a608b-3e3a-4ff1-bf35-0a9652fa4296",
   "metadata": {},
   "outputs": [],
   "source": [
    "#The 200-bit trial sums have expected mean = 100 and standard deviation = 7.071\n",
    "#we also know from following analysis that"
   ]
  },
  {
   "cell_type": "code",
   "execution_count": 4,
   "id": "1833da0c-3c5a-44b0-9f82-49b1d0663c1c",
   "metadata": {},
   "outputs": [],
   "source": [
    "STD_200_FLIPS = math.sqrt(200)/2\n",
    "N_JOBS = 8"
   ]
  },
  {
   "cell_type": "code",
   "execution_count": 5,
   "id": "1056a880-5b14-474a-a30b-c68702964991",
   "metadata": {},
   "outputs": [],
   "source": [
    "def split_into_chunks(data, chunks=8):\n",
    "    return [data[i:i + chunks] for i in range(0, len(data), chunks)]\n",
    "\n",
    "def flatten(t):\n",
    "    return [item for sublist in t for item in sublist]"
   ]
  },
  {
   "cell_type": "code",
   "execution_count": 8,
   "id": "b63f47dc-e23c-4c07-80b7-429f5d6e3697",
   "metadata": {},
   "outputs": [],
   "source": [
    "# Create real data\n",
    "def read_eggs_by_chunk(chunk, gen_synthetic_version=False):\n",
    "    datas = []\n",
    "    for filename in chunk:\n",
    "        with gzip.open(filename, mode='rt') as f:\n",
    "            reader = csv.reader(f)\n",
    "            i=0\n",
    "            for line in reader:\n",
    "                i+=1\n",
    "                if line[0]=='12': \n",
    "                    egg_names = line[3:]\n",
    "                    break\n",
    "        data = pd.read_csv(filename, skiprows=i, names=['rowtype','timestamp','HRtimestamp']+egg_names)\n",
    "        \n",
    "        if not gen_synthetic_version:\n",
    "            datas.append(data)\n",
    "            \n",
    "            \n",
    "        else:\n",
    "            syn_data = data.copy()\n",
    "            random_set = np.random.default_rng().binomial(200,0.5,(data.shape[0],data.shape[1]-3))\n",
    "\n",
    "            syn_data.iloc[:,3:] = random_set\n",
    "            mask = data.iloc[:,3:].isna()   \n",
    "            syn_data.iloc[:,3:] = syn_data.iloc[:,3:].where(~mask,other=np.nan)\n",
    "\n",
    "            assert data.iloc[:,3:].isna().sum().sum() == syn_data.iloc[:,3:].isna().sum().sum()\n",
    "\n",
    "            datas.append(syn_data)\n",
    "            \n",
    "    return datas\n"
   ]
  },
  {
   "cell_type": "code",
   "execution_count": 9,
   "id": "90acb0ef",
   "metadata": {},
   "outputs": [
    {
     "ename": "NameError",
     "evalue": "name 'data' is not defined",
     "output_type": "error",
     "traceback": [
      "\u001b[1;31m---------------------------------------------------------------------------\u001b[0m",
      "\u001b[1;31mNameError\u001b[0m                                 Traceback (most recent call last)",
      "\u001b[1;32m<ipython-input-9-c5d84736ba45>\u001b[0m in \u001b[0;36m<module>\u001b[1;34m\u001b[0m\n\u001b[1;32m----> 1\u001b[1;33m \u001b[0mdata\u001b[0m\u001b[1;33m\u001b[0m\u001b[1;33m\u001b[0m\u001b[0m\n\u001b[0m",
      "\u001b[1;31mNameError\u001b[0m: name 'data' is not defined"
     ]
    }
   ],
   "source": [
    "data"
   ]
  },
  {
   "cell_type": "code",
   "execution_count": 6,
   "id": "23e3fc71-97eb-42a6-ba80-a79c26cd2a50",
   "metadata": {},
   "outputs": [
    {
     "data": {
      "application/vnd.jupyter.widget-view+json": {
       "model_id": "1e5f8f6c6e3146c0b3db9e4725d7dcc6",
       "version_major": 2,
       "version_minor": 0
      },
      "text/plain": [
       "  0%|          | 0/46 [00:00<?, ?it/s]"
      ]
     },
     "metadata": {},
     "output_type": "display_data"
    }
   ],
   "source": [
    "file_chunks = split_into_chunks(glob.glob('eggsummary/2019/*'), 8)\n",
    "datas =  Parallel(n_jobs=N_JOBS)(delayed(read_eggs_by_chunk)(i) for i in tqdm(file_chunks))"
   ]
  },
  {
   "cell_type": "code",
   "execution_count": 7,
   "id": "1be32909-62f7-4c3e-aeb0-bd63bed0fde3",
   "metadata": {},
   "outputs": [],
   "source": [
    "datas = flatten(datas)"
   ]
  },
  {
   "cell_type": "code",
   "execution_count": 8,
   "id": "ac76355a-dcea-475b-83f6-052d85ee87ca",
   "metadata": {},
   "outputs": [],
   "source": [
    "data = datas[0].append(datas[1:])"
   ]
  },
  {
   "cell_type": "code",
   "execution_count": 9,
   "id": "aa66b6f8-a115-487c-8511-8ab5db61ed24",
   "metadata": {},
   "outputs": [],
   "source": [
    "del datas"
   ]
  },
  {
   "cell_type": "code",
   "execution_count": 10,
   "id": "cf5051eb-72f1-432c-bf57-6959048d5048",
   "metadata": {},
   "outputs": [],
   "source": [
    "# Looking for rotten eggs\n",
    "BAD_EGGS = []"
   ]
  },
  {
   "cell_type": "code",
   "execution_count": 11,
   "id": "903f276c-5591-48db-ac5d-983a49e043b2",
   "metadata": {},
   "outputs": [
    {
     "data": {
      "text/plain": [
       "1       7.073840\n",
       "37      7.070001\n",
       "112     7.068353\n",
       "226     7.072796\n",
       "228     7.074319\n",
       "1021    7.070751\n",
       "1070    7.069762\n",
       "1092    7.070643\n",
       "1237    7.075864\n",
       "2000    7.071978\n",
       "2028    7.071450\n",
       "2052         NaN\n",
       "2080    7.071639\n",
       "2083    7.069925\n",
       "2178    7.074951\n",
       "2221    7.071985\n",
       "2232    9.259247\n",
       "2241    7.073217\n",
       "2250    7.071182\n",
       "3101    7.072264\n",
       "3104    7.071726\n",
       "3106    7.070836\n",
       "3247    7.068929\n",
       "4002    7.071169\n",
       "4234    7.071718\n",
       "3066    7.071010\n",
       "3108    7.071270\n",
       "2049    7.041942\n",
       "108     7.078792\n",
       "2220    7.073993\n",
       "110     7.072190\n",
       "dtype: float64"
      ]
     },
     "execution_count": 11,
     "metadata": {},
     "output_type": "execute_result"
    }
   ],
   "source": [
    "data.iloc[:,3:].std(axis=0)"
   ]
  },
  {
   "cell_type": "code",
   "execution_count": 12,
   "id": "1b3b5f01-7d13-4bcb-96cf-a77bfc419447",
   "metadata": {},
   "outputs": [],
   "source": [
    "BAD_EGGS += ['2052','2232']"
   ]
  },
  {
   "cell_type": "code",
   "execution_count": 13,
   "id": "cd3ab94c-986a-4415-ad97-5e381375e0d3",
   "metadata": {},
   "outputs": [
    {
     "data": {
      "text/plain": [
       "['2052', '2232']"
      ]
     },
     "execution_count": 13,
     "metadata": {},
     "output_type": "execute_result"
    }
   ],
   "source": [
    "BAD_EGGS"
   ]
  },
  {
   "cell_type": "code",
   "execution_count": 14,
   "id": "9a00a002-8a15-4988-aaa1-9a0455272d11",
   "metadata": {},
   "outputs": [],
   "source": [
    "# Egg-wise Z score normalization\n",
    "data.iloc[:,3:] = (data.iloc[:,3:]-100)/data.iloc[:,3:].std(axis=0)"
   ]
  },
  {
   "cell_type": "code",
   "execution_count": 15,
   "id": "4cb1f11d-bbf4-4c2c-bd80-a23c6fef161c",
   "metadata": {},
   "outputs": [
    {
     "data": {
      "text/html": [
       "<div>\n",
       "<style scoped>\n",
       "    .dataframe tbody tr th:only-of-type {\n",
       "        vertical-align: middle;\n",
       "    }\n",
       "\n",
       "    .dataframe tbody tr th {\n",
       "        vertical-align: top;\n",
       "    }\n",
       "\n",
       "    .dataframe thead th {\n",
       "        text-align: right;\n",
       "    }\n",
       "</style>\n",
       "<table border=\"1\" class=\"dataframe\">\n",
       "  <thead>\n",
       "    <tr style=\"text-align: right;\">\n",
       "      <th></th>\n",
       "      <th>1</th>\n",
       "      <th>37</th>\n",
       "      <th>112</th>\n",
       "      <th>226</th>\n",
       "      <th>228</th>\n",
       "      <th>1021</th>\n",
       "      <th>1070</th>\n",
       "      <th>1092</th>\n",
       "      <th>1237</th>\n",
       "      <th>2000</th>\n",
       "      <th>...</th>\n",
       "      <th>3106</th>\n",
       "      <th>3247</th>\n",
       "      <th>4002</th>\n",
       "      <th>4234</th>\n",
       "      <th>3066</th>\n",
       "      <th>3108</th>\n",
       "      <th>2049</th>\n",
       "      <th>108</th>\n",
       "      <th>2220</th>\n",
       "      <th>110</th>\n",
       "    </tr>\n",
       "  </thead>\n",
       "  <tbody>\n",
       "    <tr>\n",
       "      <th>0</th>\n",
       "      <td>0.989562</td>\n",
       "      <td>-0.282885</td>\n",
       "      <td>-2.546562</td>\n",
       "      <td>0.282774</td>\n",
       "      <td>-2.544414</td>\n",
       "      <td>0.000000</td>\n",
       "      <td>-0.424342</td>\n",
       "      <td>2.121448</td>\n",
       "      <td>0.282651</td>\n",
       "      <td>-0.141403</td>\n",
       "      <td>...</td>\n",
       "      <td>-0.707130</td>\n",
       "      <td>0.848785</td>\n",
       "      <td>1.979871</td>\n",
       "      <td>-0.707042</td>\n",
       "      <td>NaN</td>\n",
       "      <td>NaN</td>\n",
       "      <td>NaN</td>\n",
       "      <td>NaN</td>\n",
       "      <td>NaN</td>\n",
       "      <td>NaN</td>\n",
       "    </tr>\n",
       "    <tr>\n",
       "      <th>1</th>\n",
       "      <td>0.706830</td>\n",
       "      <td>0.141443</td>\n",
       "      <td>-1.131805</td>\n",
       "      <td>1.413868</td>\n",
       "      <td>-1.272207</td>\n",
       "      <td>0.282855</td>\n",
       "      <td>0.282895</td>\n",
       "      <td>-0.565719</td>\n",
       "      <td>-0.141325</td>\n",
       "      <td>-0.707016</td>\n",
       "      <td>...</td>\n",
       "      <td>0.141426</td>\n",
       "      <td>-0.141464</td>\n",
       "      <td>0.424258</td>\n",
       "      <td>0.848450</td>\n",
       "      <td>NaN</td>\n",
       "      <td>NaN</td>\n",
       "      <td>NaN</td>\n",
       "      <td>NaN</td>\n",
       "      <td>NaN</td>\n",
       "      <td>NaN</td>\n",
       "    </tr>\n",
       "    <tr>\n",
       "      <th>2</th>\n",
       "      <td>0.989562</td>\n",
       "      <td>0.707214</td>\n",
       "      <td>0.990330</td>\n",
       "      <td>-1.131094</td>\n",
       "      <td>-0.141356</td>\n",
       "      <td>-0.282855</td>\n",
       "      <td>-0.848685</td>\n",
       "      <td>-0.282860</td>\n",
       "      <td>-1.978557</td>\n",
       "      <td>-1.414031</td>\n",
       "      <td>...</td>\n",
       "      <td>1.697112</td>\n",
       "      <td>1.414642</td>\n",
       "      <td>-0.141419</td>\n",
       "      <td>-1.131267</td>\n",
       "      <td>NaN</td>\n",
       "      <td>NaN</td>\n",
       "      <td>NaN</td>\n",
       "      <td>NaN</td>\n",
       "      <td>NaN</td>\n",
       "      <td>NaN</td>\n",
       "    </tr>\n",
       "    <tr>\n",
       "      <th>3</th>\n",
       "      <td>0.282732</td>\n",
       "      <td>0.000000</td>\n",
       "      <td>-0.707378</td>\n",
       "      <td>0.706934</td>\n",
       "      <td>-0.989494</td>\n",
       "      <td>-1.414277</td>\n",
       "      <td>-1.414475</td>\n",
       "      <td>0.565719</td>\n",
       "      <td>0.282651</td>\n",
       "      <td>1.272628</td>\n",
       "      <td>...</td>\n",
       "      <td>0.141426</td>\n",
       "      <td>-1.556106</td>\n",
       "      <td>1.979871</td>\n",
       "      <td>-1.272675</td>\n",
       "      <td>NaN</td>\n",
       "      <td>NaN</td>\n",
       "      <td>NaN</td>\n",
       "      <td>NaN</td>\n",
       "      <td>NaN</td>\n",
       "      <td>NaN</td>\n",
       "    </tr>\n",
       "    <tr>\n",
       "      <th>4</th>\n",
       "      <td>0.000000</td>\n",
       "      <td>-2.263083</td>\n",
       "      <td>-0.282951</td>\n",
       "      <td>-0.282774</td>\n",
       "      <td>0.706782</td>\n",
       "      <td>0.282855</td>\n",
       "      <td>0.424342</td>\n",
       "      <td>0.990009</td>\n",
       "      <td>-1.978557</td>\n",
       "      <td>0.707016</td>\n",
       "      <td>...</td>\n",
       "      <td>-0.424278</td>\n",
       "      <td>-0.565857</td>\n",
       "      <td>-0.989935</td>\n",
       "      <td>-1.979717</td>\n",
       "      <td>NaN</td>\n",
       "      <td>NaN</td>\n",
       "      <td>NaN</td>\n",
       "      <td>NaN</td>\n",
       "      <td>NaN</td>\n",
       "      <td>NaN</td>\n",
       "    </tr>\n",
       "    <tr>\n",
       "      <th>...</th>\n",
       "      <td>...</td>\n",
       "      <td>...</td>\n",
       "      <td>...</td>\n",
       "      <td>...</td>\n",
       "      <td>...</td>\n",
       "      <td>...</td>\n",
       "      <td>...</td>\n",
       "      <td>...</td>\n",
       "      <td>...</td>\n",
       "      <td>...</td>\n",
       "      <td>...</td>\n",
       "      <td>...</td>\n",
       "      <td>...</td>\n",
       "      <td>...</td>\n",
       "      <td>...</td>\n",
       "      <td>...</td>\n",
       "      <td>...</td>\n",
       "      <td>...</td>\n",
       "      <td>...</td>\n",
       "      <td>...</td>\n",
       "      <td>...</td>\n",
       "    </tr>\n",
       "    <tr>\n",
       "      <th>86395</th>\n",
       "      <td>-0.989562</td>\n",
       "      <td>-0.565771</td>\n",
       "      <td>-1.697708</td>\n",
       "      <td>-1.272481</td>\n",
       "      <td>NaN</td>\n",
       "      <td>-0.848566</td>\n",
       "      <td>0.282895</td>\n",
       "      <td>NaN</td>\n",
       "      <td>0.565302</td>\n",
       "      <td>0.000000</td>\n",
       "      <td>...</td>\n",
       "      <td>-0.424278</td>\n",
       "      <td>-0.565857</td>\n",
       "      <td>NaN</td>\n",
       "      <td>-0.565633</td>\n",
       "      <td>-0.282845</td>\n",
       "      <td>NaN</td>\n",
       "      <td>0.426019</td>\n",
       "      <td>NaN</td>\n",
       "      <td>0.282726</td>\n",
       "      <td>1.272590</td>\n",
       "    </tr>\n",
       "    <tr>\n",
       "      <th>86396</th>\n",
       "      <td>0.989562</td>\n",
       "      <td>0.141443</td>\n",
       "      <td>0.282951</td>\n",
       "      <td>-0.141387</td>\n",
       "      <td>NaN</td>\n",
       "      <td>-1.555705</td>\n",
       "      <td>0.707237</td>\n",
       "      <td>NaN</td>\n",
       "      <td>0.989278</td>\n",
       "      <td>0.424209</td>\n",
       "      <td>...</td>\n",
       "      <td>0.141426</td>\n",
       "      <td>0.424392</td>\n",
       "      <td>NaN</td>\n",
       "      <td>-0.565633</td>\n",
       "      <td>0.424268</td>\n",
       "      <td>NaN</td>\n",
       "      <td>-1.136050</td>\n",
       "      <td>NaN</td>\n",
       "      <td>-0.424089</td>\n",
       "      <td>0.848394</td>\n",
       "    </tr>\n",
       "    <tr>\n",
       "      <th>86397</th>\n",
       "      <td>0.000000</td>\n",
       "      <td>-0.282885</td>\n",
       "      <td>-1.131805</td>\n",
       "      <td>-0.565547</td>\n",
       "      <td>NaN</td>\n",
       "      <td>-0.424283</td>\n",
       "      <td>-1.414475</td>\n",
       "      <td>NaN</td>\n",
       "      <td>0.565302</td>\n",
       "      <td>0.989822</td>\n",
       "      <td>...</td>\n",
       "      <td>0.282852</td>\n",
       "      <td>1.414642</td>\n",
       "      <td>NaN</td>\n",
       "      <td>0.424225</td>\n",
       "      <td>0.565690</td>\n",
       "      <td>NaN</td>\n",
       "      <td>-0.284013</td>\n",
       "      <td>NaN</td>\n",
       "      <td>0.565451</td>\n",
       "      <td>0.424197</td>\n",
       "    </tr>\n",
       "    <tr>\n",
       "      <th>86398</th>\n",
       "      <td>-0.706830</td>\n",
       "      <td>0.000000</td>\n",
       "      <td>0.424427</td>\n",
       "      <td>0.141387</td>\n",
       "      <td>NaN</td>\n",
       "      <td>1.272849</td>\n",
       "      <td>-0.707237</td>\n",
       "      <td>NaN</td>\n",
       "      <td>1.978557</td>\n",
       "      <td>-0.989822</td>\n",
       "      <td>...</td>\n",
       "      <td>-0.141426</td>\n",
       "      <td>0.000000</td>\n",
       "      <td>NaN</td>\n",
       "      <td>-1.414084</td>\n",
       "      <td>-2.969873</td>\n",
       "      <td>NaN</td>\n",
       "      <td>1.420063</td>\n",
       "      <td>NaN</td>\n",
       "      <td>0.989540</td>\n",
       "      <td>-0.424197</td>\n",
       "    </tr>\n",
       "    <tr>\n",
       "      <th>86399</th>\n",
       "      <td>0.000000</td>\n",
       "      <td>-1.131542</td>\n",
       "      <td>-0.707378</td>\n",
       "      <td>-1.131094</td>\n",
       "      <td>NaN</td>\n",
       "      <td>1.272849</td>\n",
       "      <td>-1.131580</td>\n",
       "      <td>NaN</td>\n",
       "      <td>0.847953</td>\n",
       "      <td>0.000000</td>\n",
       "      <td>...</td>\n",
       "      <td>0.000000</td>\n",
       "      <td>0.000000</td>\n",
       "      <td>NaN</td>\n",
       "      <td>0.282817</td>\n",
       "      <td>1.131380</td>\n",
       "      <td>NaN</td>\n",
       "      <td>0.000000</td>\n",
       "      <td>NaN</td>\n",
       "      <td>1.837717</td>\n",
       "      <td>-0.848394</td>\n",
       "    </tr>\n",
       "  </tbody>\n",
       "</table>\n",
       "<p>31278900 rows × 31 columns</p>\n",
       "</div>"
      ],
      "text/plain": [
       "              1        37       112       226       228      1021      1070  \\\n",
       "0      0.989562 -0.282885 -2.546562  0.282774 -2.544414  0.000000 -0.424342   \n",
       "1      0.706830  0.141443 -1.131805  1.413868 -1.272207  0.282855  0.282895   \n",
       "2      0.989562  0.707214  0.990330 -1.131094 -0.141356 -0.282855 -0.848685   \n",
       "3      0.282732  0.000000 -0.707378  0.706934 -0.989494 -1.414277 -1.414475   \n",
       "4      0.000000 -2.263083 -0.282951 -0.282774  0.706782  0.282855  0.424342   \n",
       "...         ...       ...       ...       ...       ...       ...       ...   \n",
       "86395 -0.989562 -0.565771 -1.697708 -1.272481       NaN -0.848566  0.282895   \n",
       "86396  0.989562  0.141443  0.282951 -0.141387       NaN -1.555705  0.707237   \n",
       "86397  0.000000 -0.282885 -1.131805 -0.565547       NaN -0.424283 -1.414475   \n",
       "86398 -0.706830  0.000000  0.424427  0.141387       NaN  1.272849 -0.707237   \n",
       "86399  0.000000 -1.131542 -0.707378 -1.131094       NaN  1.272849 -1.131580   \n",
       "\n",
       "           1092      1237      2000  ...      3106      3247      4002  \\\n",
       "0      2.121448  0.282651 -0.141403  ... -0.707130  0.848785  1.979871   \n",
       "1     -0.565719 -0.141325 -0.707016  ...  0.141426 -0.141464  0.424258   \n",
       "2     -0.282860 -1.978557 -1.414031  ...  1.697112  1.414642 -0.141419   \n",
       "3      0.565719  0.282651  1.272628  ...  0.141426 -1.556106  1.979871   \n",
       "4      0.990009 -1.978557  0.707016  ... -0.424278 -0.565857 -0.989935   \n",
       "...         ...       ...       ...  ...       ...       ...       ...   \n",
       "86395       NaN  0.565302  0.000000  ... -0.424278 -0.565857       NaN   \n",
       "86396       NaN  0.989278  0.424209  ...  0.141426  0.424392       NaN   \n",
       "86397       NaN  0.565302  0.989822  ...  0.282852  1.414642       NaN   \n",
       "86398       NaN  1.978557 -0.989822  ... -0.141426  0.000000       NaN   \n",
       "86399       NaN  0.847953  0.000000  ...  0.000000  0.000000       NaN   \n",
       "\n",
       "           4234      3066  3108      2049  108      2220       110  \n",
       "0     -0.707042       NaN   NaN       NaN  NaN       NaN       NaN  \n",
       "1      0.848450       NaN   NaN       NaN  NaN       NaN       NaN  \n",
       "2     -1.131267       NaN   NaN       NaN  NaN       NaN       NaN  \n",
       "3     -1.272675       NaN   NaN       NaN  NaN       NaN       NaN  \n",
       "4     -1.979717       NaN   NaN       NaN  NaN       NaN       NaN  \n",
       "...         ...       ...   ...       ...  ...       ...       ...  \n",
       "86395 -0.565633 -0.282845   NaN  0.426019  NaN  0.282726  1.272590  \n",
       "86396 -0.565633  0.424268   NaN -1.136050  NaN -0.424089  0.848394  \n",
       "86397  0.424225  0.565690   NaN -0.284013  NaN  0.565451  0.424197  \n",
       "86398 -1.414084 -2.969873   NaN  1.420063  NaN  0.989540 -0.424197  \n",
       "86399  0.282817  1.131380   NaN  0.000000  NaN  1.837717 -0.848394  \n",
       "\n",
       "[31278900 rows x 31 columns]"
      ]
     },
     "execution_count": 15,
     "metadata": {},
     "output_type": "execute_result"
    }
   ],
   "source": [
    "data.iloc[:,3:]"
   ]
  },
  {
   "cell_type": "code",
   "execution_count": null,
   "id": "44e2bf5a-85bd-4e9c-be22-a1afa603b430",
   "metadata": {},
   "outputs": [],
   "source": []
  },
  {
   "cell_type": "code",
   "execution_count": 8,
   "id": "577342b9-2c3a-46f4-988a-55aab5ce9174",
   "metadata": {},
   "outputs": [],
   "source": [
    "\n",
    "data.sort_values('timestamp',inplace=True)\n",
    "\n",
    "# This is true only for test 2019 year - we know those are broken\n",
    "data.drop(['2049','2232','228','2052','3104','4002'],axis=1,inplace=True) "
   ]
  },
  {
   "cell_type": "code",
   "execution_count": 9,
   "id": "a9c8ac38-7d52-44e9-b874-043ff3c4b873",
   "metadata": {},
   "outputs": [],
   "source": [
    "data.to_parquet('data2019.parquet')"
   ]
  },
  {
   "cell_type": "code",
   "execution_count": 10,
   "id": "37365abd-a868-4417-b270-9886bdfd7f17",
   "metadata": {},
   "outputs": [],
   "source": [
    "del data"
   ]
  },
  {
   "cell_type": "code",
   "execution_count": 11,
   "id": "41680e6f-8412-44f5-80bf-5e4a33eb7b31",
   "metadata": {},
   "outputs": [
    {
     "data": {
      "application/vnd.jupyter.widget-view+json": {
       "model_id": "e719457ff156419d90b0a492632529e9",
       "version_major": 2,
       "version_minor": 0
      },
      "text/plain": [
       "  0%|          | 0/46 [00:00<?, ?it/s]"
      ]
     },
     "metadata": {},
     "output_type": "display_data"
    }
   ],
   "source": [
    "file_chunks = split_into_chunks(glob.glob('eggsummary/2019/*'), 8)\n",
    "datas =  Parallel(n_jobs=N_JOBS)(delayed(read_eggs_by_chunk)(i, True) for i in tqdm(file_chunks))"
   ]
  },
  {
   "cell_type": "code",
   "execution_count": 12,
   "id": "df702503-f8f8-4fb6-a46a-f146b5c50dfa",
   "metadata": {},
   "outputs": [],
   "source": [
    "datas = flatten(datas)"
   ]
  },
  {
   "cell_type": "code",
   "execution_count": 13,
   "id": "9eeb18cf-81e1-495f-b2b6-668c70c6ce65",
   "metadata": {},
   "outputs": [],
   "source": [
    "data = datas[0].append(datas[1:])\n",
    "data.sort_values('timestamp',inplace=True)\n",
    "\n",
    "# This is true only for test 2019 year - we know those are broken\n",
    "data.drop(['2049','2232','228','2052','3104','4002'],axis=1,inplace=True) "
   ]
  },
  {
   "cell_type": "code",
   "execution_count": 14,
   "id": "77a2f69b-3e66-4b8f-8640-7bae32d1691a",
   "metadata": {},
   "outputs": [],
   "source": [
    "data.to_parquet('syn_data2019.parquet')"
   ]
  },
  {
   "cell_type": "code",
   "execution_count": 16,
   "id": "13c0677d-7db3-4cad-a43e-016d062175f8",
   "metadata": {},
   "outputs": [],
   "source": [
    "del data"
   ]
  },
  {
   "cell_type": "markdown",
   "id": "0a832cb6-1e1c-4023-af8a-dcd5b1ec2c5f",
   "metadata": {},
   "source": [
    "## data created successfully"
   ]
  },
  {
   "cell_type": "code",
   "execution_count": null,
   "id": "e98a83c2-0ed1-45ef-adff-2abcf77bb66d",
   "metadata": {},
   "outputs": [],
   "source": []
  }
 ],
 "metadata": {
  "kernelspec": {
   "display_name": "Python 3",
   "language": "python",
   "name": "python3"
  },
  "language_info": {
   "codemirror_mode": {
    "name": "ipython",
    "version": 3
   },
   "file_extension": ".py",
   "mimetype": "text/x-python",
   "name": "python",
   "nbconvert_exporter": "python",
   "pygments_lexer": "ipython3",
   "version": "3.8.8"
  }
 },
 "nbformat": 4,
 "nbformat_minor": 5
}
