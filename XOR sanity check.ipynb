{
 "cells": [
  {
   "cell_type": "code",
   "execution_count": 1,
   "id": "b39c41f8",
   "metadata": {},
   "outputs": [],
   "source": [
    "import pandas as pd\n",
    "import csv\n",
    "import numpy as np\n",
    "import matplotlib.pyplot as plt\n",
    "import scipy.stats as stats\n",
    "import math\n",
    "from scipy.stats import chi2\n",
    "import gzip\n",
    "from tqdm.notebook import trange, tqdm\n",
    "import glob\n",
    "import random\n",
    "import seaborn as sns\n",
    "from joblib import Parallel, delayed\n",
    "import scipy as sp\n"
   ]
  },
  {
   "cell_type": "code",
   "execution_count": 65,
   "id": "f61be712",
   "metadata": {},
   "outputs": [],
   "source": [
    "STD_200_FLIPS = math.sqrt(200)/2"
   ]
  },
  {
   "cell_type": "code",
   "execution_count": 38,
   "id": "4e2d4a99",
   "metadata": {},
   "outputs": [
    {
     "name": "stdout",
     "output_type": "stream",
     "text": [
      "mean: 0.49997441  std:  0.4999999993451525\n"
     ]
    }
   ],
   "source": [
    "l = 100000000\n",
    "random_data = np.random.binomial(1, 0.5, l)\n",
    "xor_filter = np.tile([0,1],l//2)\n",
    "random_data = np.logical_xor(random_data,xor_filter).astype(np.int8)\n",
    "print(\"mean:\", random_data.mean(), \" std: \", random_data.std() )"
   ]
  },
  {
   "cell_type": "code",
   "execution_count": 41,
   "id": "a3520453",
   "metadata": {},
   "outputs": [
    {
     "name": "stdout",
     "output_type": "stream",
     "text": [
      "mean: 0.60004445  std:  0.4898888731377756\n"
     ]
    }
   ],
   "source": [
    "l = 100000000\n",
    "fake_shift = 0.1\n",
    "random_data = np.random.binomial(1, 0.5+fake_shift, l)\n",
    "#xor_filter = np.tile([0,1],l//2)\n",
    "#random_data = np.logical_xor(random_data,xor_filter).astype(np.int8)\n",
    "print(\"mean:\", random_data.mean(), \" std: \", random_data.std() )"
   ]
  },
  {
   "cell_type": "code",
   "execution_count": 45,
   "id": "262aa10f",
   "metadata": {},
   "outputs": [
    {
     "name": "stdout",
     "output_type": "stream",
     "text": [
      "mean: 0.50001603  std:  0.49999999974303805\n"
     ]
    }
   ],
   "source": [
    "l = 100000000\n",
    "fake_shift = 0.01\n",
    "random_data = np.random.binomial(1, 0.5+fake_shift, l)\n",
    "xor_filter = np.tile([0,1],l//2)\n",
    "random_data = np.logical_xor(random_data,xor_filter).astype(np.int8)\n",
    "print(\"mean:\", random_data.mean(), \" std: \", random_data.std() )"
   ]
  },
  {
   "cell_type": "code",
   "execution_count": 33,
   "id": "15633186",
   "metadata": {},
   "outputs": [
    {
     "data": {
      "text/plain": [
       "0.4999999999908207"
      ]
     },
     "execution_count": 33,
     "metadata": {},
     "output_type": "execute_result"
    }
   ],
   "source": []
  },
  {
   "cell_type": "code",
   "execution_count": 82,
   "id": "f2fb7685",
   "metadata": {},
   "outputs": [
    {
     "data": {
      "text/plain": [
       "[<matplotlib.lines.Line2D at 0x1ce9678ba90>]"
      ]
     },
     "execution_count": 82,
     "metadata": {},
     "output_type": "execute_result"
    },
    {
     "data": {
      "image/png": "[encoded data removed]",
      "text/plain": [
       "<Figure size 432x288 with 1 Axes>"
      ]
     },
     "metadata": {
      "needs_background": "light"
     },
     "output_type": "display_data"
    }
   ],
   "source": [
    "l = 100000\n",
    "fake_shift = 0.0\n",
    "random_data = np.random.binomial(1, 0.5+fake_shift, (l,200))\n",
    "#xor_filter = np.tile([0,1],(l,100))\n",
    "#random_data = np.logical_xor(random_data,xor_filter).astype(np.int8)\n",
    "random_data = random_data.sum(axis=1)\n",
    "\n",
    "z_norm_test=(random_data-100)/STD_200_FLIPS\n",
    "plt.plot(list(range(len(z_norm_test))), np.cumsum(z_norm_test**2-1))"
   ]
  },
  {
   "cell_type": "code",
   "execution_count": 115,
   "id": "b4790af7",
   "metadata": {},
   "outputs": [
    {
     "data": {
      "application/vnd.jupyter.widget-view+json": {
       "model_id": "3720b3e2590a455c819fa3b833baf5d0",
       "version_major": 2,
       "version_minor": 0
      },
      "text/plain": [
       "  0%|          | 0/200 [00:00<?, ?it/s]"
      ]
     },
     "metadata": {},
     "output_type": "display_data"
    }
   ],
   "source": [
    "l = 500000\n",
    "fake_shift = 0.1\n",
    "\n",
    "results = []\n",
    "for i in tqdm(range(0,200)):\n",
    "    random_bit = random.getrandbits(1)\n",
    "    to_shift_bit = random.getrandbits(1)\n",
    "    \n",
    "    random_data = np.random.binomial(1, 0.5+(fake_shift if to_shift_bit else 0) , (l,200))\n",
    "    \n",
    "    if random_bit:\n",
    "        xor_filter = np.tile([0,1],(l,100))\n",
    "        random_data = np.logical_xor(random_data,xor_filter).astype(np.int8)\n",
    "    \n",
    "    random_data = random_data.sum(axis=1)\n",
    "\n",
    "    z_norm_test=(random_data-100)/STD_200_FLIPS\n",
    "    \n",
    "    results.append({\"result\":np.cumsum(z_norm_test**2-1)[-1],\n",
    "                    \"random_bit\":random_bit,\n",
    "                    \"random_shift_bit\":to_shift_bit})"
   ]
  },
  {
   "cell_type": "code",
   "execution_count": 116,
   "id": "cbe6d412",
   "metadata": {},
   "outputs": [],
   "source": [
    "results = pd.DataFrame(results)"
   ]
  },
  {
   "cell_type": "code",
   "execution_count": 120,
   "id": "f0d92134",
   "metadata": {},
   "outputs": [
    {
     "data": {
      "text/plain": [
       "-146.09060606093112"
      ]
     },
     "execution_count": 120,
     "metadata": {},
     "output_type": "execute_result"
    }
   ],
   "source": [
    "results[(results.random_bit==0)&(results.random_shift_bit==0)].result.mean()"
   ]
  },
  {
   "cell_type": "code",
   "execution_count": 122,
   "id": "f6be486b",
   "metadata": {},
   "outputs": [
    {
     "data": {
      "text/plain": [
       "3979551.2823540634"
      ]
     },
     "execution_count": 122,
     "metadata": {},
     "output_type": "execute_result"
    }
   ],
   "source": [
    "results[(results.random_bit==0)&(results.random_shift_bit==1)].result.mean()"
   ]
  },
  {
   "cell_type": "code",
   "execution_count": 121,
   "id": "e8c1f223",
   "metadata": {},
   "outputs": [
    {
     "data": {
      "text/plain": [
       "280.1773333331073"
      ]
     },
     "execution_count": 121,
     "metadata": {},
     "output_type": "execute_result"
    }
   ],
   "source": [
    "results[(results.random_bit==1)&(results.random_shift_bit==0)].result.mean()"
   ]
  },
  {
   "cell_type": "code",
   "execution_count": 123,
   "id": "8f324e3b",
   "metadata": {},
   "outputs": [
    {
     "data": {
      "text/plain": [
       "-20026.525263141422"
      ]
     },
     "execution_count": 123,
     "metadata": {},
     "output_type": "execute_result"
    }
   ],
   "source": [
    "results[(results.random_bit==1)&(results.random_shift_bit==1)].result.mean()"
   ]
  },
  {
   "cell_type": "code",
   "execution_count": null,
   "id": "554298ac",
   "metadata": {},
   "outputs": [],
   "source": []
  }
 ],
 "metadata": {
  "kernelspec": {
   "display_name": "Python 3",
   "language": "python",
   "name": "python3"
  },
  "language_info": {
   "codemirror_mode": {
    "name": "ipython",
    "version": 3
   },
   "file_extension": ".py",
   "mimetype": "text/x-python",
   "name": "python",
   "nbconvert_exporter": "python",
   "pygments_lexer": "ipython3",
   "version": "3.8.8"
  }
 },
 "nbformat": 4,
 "nbformat_minor": 5
}
