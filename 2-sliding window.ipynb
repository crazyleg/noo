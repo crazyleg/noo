{
 "cells": [
  {
   "cell_type": "markdown",
   "id": "f4f9e6d3",
   "metadata": {},
   "source": [
    "So, based on previous analysis we are seeing something at 2..4 second intervals.\n",
    "Now, let's repeat eveything - doing the splits, and scanning with a 2..4 sliding windows over test and control.\n",
    "\n",
    "possible metrics:\n",
    "\n",
    "1) directional change p>0.5 == p>0.5\n",
    "2) z-score metric: (p1-0.5) (exp 0) + (p2-0.5) (exp 0)\n",
    "3) moments of p (low and high) -> I would need a vector of Ps with a sliding windows for 2 (test + control) x amount of windsor splits \n"
   ]
  },
  {
   "cell_type": "code",
   "execution_count": 2,
   "id": "12ee5c1b",
   "metadata": {},
   "outputs": [],
   "source": [
    "import pandas as pd\n",
    "import csv\n",
    "import numpy as np\n",
    "import matplotlib.pyplot as plt\n",
    "import scipy.stats as stats\n",
    "import math\n",
    "from scipy.stats import chi2, binom\n",
    "import gzip\n",
    "from tqdm.notebook import tqdm\n",
    "import glob\n",
    "import random\n",
    "import seaborn as sns\n",
    "from joblib import Parallel, delayed\n",
    "import scipy as sp\n",
    "from statsmodels.stats.proportion import proportion_confint\n",
    "import scipy.stats\n"
   ]
  },
  {
   "cell_type": "code",
   "execution_count": 16,
   "id": "1e6193be",
   "metadata": {},
   "outputs": [],
   "source": [
    "data = pd.read_parquet('data2014.parquet')"
   ]
  },
  {
   "cell_type": "code",
   "execution_count": 17,
   "id": "c98802d8",
   "metadata": {},
   "outputs": [],
   "source": [
    "data_std = data.std(axis=0)[3:]"
   ]
  },
  {
   "cell_type": "code",
   "execution_count": 18,
   "id": "07ac3cfc",
   "metadata": {},
   "outputs": [],
   "source": [
    "data -= 100"
   ]
  },
  {
   "cell_type": "code",
   "execution_count": 19,
   "id": "962a0c72",
   "metadata": {},
   "outputs": [
    {
     "data": {
      "text/plain": [
       "3.170979198376459e-07"
      ]
     },
     "execution_count": 19,
     "metadata": {},
     "output_type": "execute_result"
    }
   ],
   "source": [
    "data.loc[:,'37'].isna().mean()"
   ]
  },
  {
   "cell_type": "code",
   "execution_count": 20,
   "id": "00f498dd",
   "metadata": {},
   "outputs": [],
   "source": [
    "#     if use_real_std:\n",
    "#         STD_200_FLIPS = data_std\n",
    "#     else:\n",
    "#         STD_200_FLIPS = math.sqrt(200)/2\n",
    "\n",
    "data.iloc[:, 3:] /= data_std"
   ]
  },
  {
   "cell_type": "code",
   "execution_count": 21,
   "id": "7ffda07d",
   "metadata": {},
   "outputs": [],
   "source": [
    "nans = data.iloc[3:].isna().sum(axis=1)\n",
    "sqrts = np.sqrt(data.iloc[3:].shape[1]-nans)\n",
    "z_norm_data = (data.iloc[3:]).sum(axis=1)/sqrts\n",
    "    "
   ]
  },
  {
   "cell_type": "code",
   "execution_count": 22,
   "id": "d8224e60",
   "metadata": {},
   "outputs": [],
   "source": [
    "def zscore_to_proba_vector(seq, window, mode='full'):\n",
    "    return stats.chi2.sf(np.convolve(seq**2,np.ones(window),mode),window)"
   ]
  },
  {
   "cell_type": "code",
   "execution_count": 23,
   "id": "5fb07e69",
   "metadata": {},
   "outputs": [
    {
     "name": "stdout",
     "output_type": "stream",
     "text": [
      "0.0 0.0 0.0\n"
     ]
    }
   ],
   "source": [
    "print(np.nanmean(zscore_to_proba_vector(z_norm_data,1)),\n",
    "      np.nanmean(zscore_to_proba_vector(z_norm_data,2)),\n",
    "      np.nanmean(zscore_to_proba_vector(z_norm_data,3)))"
   ]
  },
  {
   "cell_type": "code",
   "execution_count": 24,
   "id": "cc0d2da1",
   "metadata": {},
   "outputs": [],
   "source": [
    "# some sanity - Z score for all data set\n",
    "eggs = set(data.columns[3:])\n",
    "         \n",
    "data_full = data[eggs]\n",
    "data_nans = data_full.isna().sum(axis=1)\n",
    "sqrts = np.sqrt(data_full.shape[1]-data_nans)\n",
    "z_norm_data = (data_full).sum(axis=1)/sqrts"
   ]
  },
  {
   "cell_type": "code",
   "execution_count": 25,
   "id": "97fed1d8",
   "metadata": {},
   "outputs": [],
   "source": [
    "def make_a_data_split(data, use_real_std=False):\n",
    "    eggs = set(data.columns[3:])\n",
    "         \n",
    "    \n",
    "    test_eggs = list(random.sample(eggs,len(eggs)//2))\n",
    "    control_eggs = list(set(eggs) - set(test_eggs))\n",
    "\n",
    "    assert set(test_eggs) - set(control_eggs) == set(test_eggs)\n",
    "\n",
    "    test_data = data[test_eggs]\n",
    "    test_nans = test_data.isna().sum(axis=1)\n",
    "    sqrts = np.sqrt(test_data.shape[1]-test_nans)\n",
    "    z_norm_test = (test_data).sum(axis=1)/sqrts\n",
    "\n",
    "\n",
    "    control_data = data[control_eggs]\n",
    "    control_nans = control_data.isna().sum(axis=1)\n",
    "    sqrts = np.sqrt(control_data.shape[1]-control_nans)\n",
    "    z_norm_control = (control_data).sum(axis=1)/sqrts\n",
    "    \n",
    "    return z_norm_test, z_norm_control, test_nans, control_nans"
   ]
  },
  {
   "cell_type": "code",
   "execution_count": 26,
   "id": "34d9857f",
   "metadata": {},
   "outputs": [],
   "source": [
    "# just a test run of a split function\n",
    "test, control, test_nans, control_nans = make_a_data_split(data)"
   ]
  },
  {
   "cell_type": "code",
   "execution_count": 27,
   "id": "064d979a",
   "metadata": {},
   "outputs": [],
   "source": [
    "def make_run(thr, window):\n",
    "    test, control, test_nans, control_nans = make_a_data_split(data)\n",
    "    test_nans = test_nans[2:-2]\n",
    "    \n",
    "    control_nans = control_nans[2:-2]\n",
    "    test_probas = zscore_to_proba_vector(test, window, mode='same')[2:-2]\n",
    "\n",
    "    control_probas = zscore_to_proba_vector(control, window, mode='same')[2:-2]\n",
    "    random_mask_for_control = np.random.binomial(1, thr, len(control_probas)).astype(bool)\n",
    "    random_mask_for_test = np.random.binomial(1, thr, len(test_probas)).astype(bool)\n",
    "\n",
    "    return {'direct_mean': np.nanmean(control_probas[test_probas<thr]),\n",
    "            'direct_counts': (test_probas<thr).sum(),\n",
    "            'direct_nans': control_nans.iloc[test_probas<thr].mean(),\n",
    "\n",
    "            'random_direct_mean': np.nanmean(control_probas[random_mask_for_control]),\n",
    "            'random_direct_counts': (random_mask_for_control).sum(),\n",
    "            'random_direct_nans': control_nans.iloc[random_mask_for_control].mean(),\n",
    "\n",
    "            'inverted_mean': np.nanmean(test_probas[control_probas<thr]),\n",
    "            'inverted_counts': (control_probas<thr).sum(),\n",
    "            'inverted_nans': test_nans.iloc[control_probas<thr].mean(),\n",
    "\n",
    "            'random_inverted_mean': np.nanmean(test_probas[random_mask_for_test]),\n",
    "            'random_inverted_counts': (random_mask_for_test).sum(),\n",
    "            'random_inverted_nans': test_nans.iloc[random_mask_for_test].mean(),\n",
    "\n",
    "            'window': window,\n",
    "            'thr': thr}\n",
    "    "
   ]
  },
  {
   "cell_type": "code",
   "execution_count": 15,
   "id": "5b5641fb",
   "metadata": {},
   "outputs": [
    {
     "data": {
      "text/plain": [
       "{'direct_mean': 0.5002170568579719,\n",
       " 'direct_counts': 316002,\n",
       " 'direct_nans': 1.2291504484148834,\n",
       " 'random_direct_mean': 0.5001752855765595,\n",
       " 'random_direct_counts': 316229,\n",
       " 'random_direct_nans': 1.227727374782199,\n",
       " 'inverted_mean': 0.49947898326398327,\n",
       " 'inverted_counts': 314569,\n",
       " 'inverted_nans': 0.7292867383626486,\n",
       " 'random_inverted_mean': 0.49975574109907056,\n",
       " 'random_inverted_counts': 315786,\n",
       " 'random_inverted_nans': 0.7305833697504006,\n",
       " 'window': 2,\n",
       " 'thr': 0.01}"
      ]
     },
     "execution_count": 15,
     "metadata": {},
     "output_type": "execute_result"
    }
   ],
   "source": [
    "# test run for a full split analysis\n",
    "make_run(0.01, 2)"
   ]
  },
  {
   "cell_type": "code",
   "execution_count": 28,
   "id": "e26fb78e",
   "metadata": {},
   "outputs": [
    {
     "data": {
      "application/vnd.jupyter.widget-view+json": {
       "model_id": "5d431ee92cec4eafae54ef129e8fa055",
       "version_major": 2,
       "version_minor": 0
      },
      "text/plain": [
       "  0%|          | 0/5 [00:00<?, ?it/s]"
      ]
     },
     "metadata": {},
     "output_type": "display_data"
    }
   ],
   "source": [
    "results = []\n",
    "with tqdm(total=5*1) as pbar:\n",
    "    for thr in [0.5, 0.25, 0.1, 0.05, 0.01,0.0075,0.005,0.0025]:\n",
    "        for window in [1]:\n",
    "            partial_results = Parallel(n_jobs=2, prefer=\"threads\")(delayed(make_run)(thr, window) for i in range(32))\n",
    "            results.append(partial_results)\n",
    "            pbar.update(1)"
   ]
  },
  {
   "cell_type": "code",
   "execution_count": 31,
   "id": "b7c0038b",
   "metadata": {},
   "outputs": [],
   "source": [
    "def flatten(t):\n",
    "    return [item for sublist in t for item in sublist]"
   ]
  },
  {
   "cell_type": "code",
   "execution_count": 40,
   "id": "6ca69af2",
   "metadata": {},
   "outputs": [],
   "source": [
    "results_tmp = flatten(results)"
   ]
  },
  {
   "cell_type": "code",
   "execution_count": 41,
   "id": "9131fafd",
   "metadata": {},
   "outputs": [],
   "source": [
    "# add save\n",
    "pd.DataFrame(results_tmp).to_pickle('results2014.pickle')"
   ]
  },
  {
   "cell_type": "code",
   "execution_count": null,
   "id": "35953181",
   "metadata": {},
   "outputs": [],
   "source": []
  },
  {
   "cell_type": "code",
   "execution_count": 43,
   "id": "eaac6a77",
   "metadata": {},
   "outputs": [
    {
     "data": {
      "text/html": [
       "<div>\n",
       "<style scoped>\n",
       "    .dataframe tbody tr th:only-of-type {\n",
       "        vertical-align: middle;\n",
       "    }\n",
       "\n",
       "    .dataframe tbody tr th {\n",
       "        vertical-align: top;\n",
       "    }\n",
       "\n",
       "    .dataframe thead th {\n",
       "        text-align: right;\n",
       "    }\n",
       "</style>\n",
       "<table border=\"1\" class=\"dataframe\">\n",
       "  <thead>\n",
       "    <tr style=\"text-align: right;\">\n",
       "      <th></th>\n",
       "      <th>direct_mean</th>\n",
       "      <th>direct_counts</th>\n",
       "      <th>direct_nans</th>\n",
       "      <th>random_direct_mean</th>\n",
       "      <th>random_direct_counts</th>\n",
       "      <th>random_direct_nans</th>\n",
       "      <th>inverted_mean</th>\n",
       "      <th>inverted_counts</th>\n",
       "      <th>inverted_nans</th>\n",
       "      <th>random_inverted_mean</th>\n",
       "      <th>random_inverted_counts</th>\n",
       "      <th>random_inverted_nans</th>\n",
       "      <th>window</th>\n",
       "      <th>thr</th>\n",
       "    </tr>\n",
       "  </thead>\n",
       "  <tbody>\n",
       "    <tr>\n",
       "      <th>0</th>\n",
       "      <td>0.500022</td>\n",
       "      <td>15742194</td>\n",
       "      <td>0.935463</td>\n",
       "      <td>0.499937</td>\n",
       "      <td>15772817</td>\n",
       "      <td>0.935559</td>\n",
       "      <td>0.500156</td>\n",
       "      <td>15749858</td>\n",
       "      <td>1.021713</td>\n",
       "      <td>0.500148</td>\n",
       "      <td>15769521</td>\n",
       "      <td>1.021965</td>\n",
       "      <td>2</td>\n",
       "      <td>0.5000</td>\n",
       "    </tr>\n",
       "    <tr>\n",
       "      <th>1</th>\n",
       "      <td>0.499911</td>\n",
       "      <td>15744496</td>\n",
       "      <td>0.775489</td>\n",
       "      <td>0.499902</td>\n",
       "      <td>15770551</td>\n",
       "      <td>0.775490</td>\n",
       "      <td>0.499966</td>\n",
       "      <td>15750329</td>\n",
       "      <td>1.182119</td>\n",
       "      <td>0.499975</td>\n",
       "      <td>15768845</td>\n",
       "      <td>1.182100</td>\n",
       "      <td>2</td>\n",
       "      <td>0.5000</td>\n",
       "    </tr>\n",
       "    <tr>\n",
       "      <th>2</th>\n",
       "      <td>0.500049</td>\n",
       "      <td>15741540</td>\n",
       "      <td>0.972681</td>\n",
       "      <td>0.499962</td>\n",
       "      <td>15763970</td>\n",
       "      <td>0.972897</td>\n",
       "      <td>0.500305</td>\n",
       "      <td>15747975</td>\n",
       "      <td>0.985109</td>\n",
       "      <td>0.500128</td>\n",
       "      <td>15771515</td>\n",
       "      <td>0.984585</td>\n",
       "      <td>2</td>\n",
       "      <td>0.5000</td>\n",
       "    </tr>\n",
       "    <tr>\n",
       "      <th>3</th>\n",
       "      <td>0.499910</td>\n",
       "      <td>15741893</td>\n",
       "      <td>0.818034</td>\n",
       "      <td>0.499878</td>\n",
       "      <td>15771952</td>\n",
       "      <td>0.817783</td>\n",
       "      <td>0.500069</td>\n",
       "      <td>15754119</td>\n",
       "      <td>1.139335</td>\n",
       "      <td>0.500000</td>\n",
       "      <td>15768634</td>\n",
       "      <td>1.139344</td>\n",
       "      <td>2</td>\n",
       "      <td>0.5000</td>\n",
       "    </tr>\n",
       "    <tr>\n",
       "      <th>4</th>\n",
       "      <td>0.499978</td>\n",
       "      <td>15749593</td>\n",
       "      <td>1.018848</td>\n",
       "      <td>0.499976</td>\n",
       "      <td>15772674</td>\n",
       "      <td>1.018692</td>\n",
       "      <td>0.499947</td>\n",
       "      <td>15742804</td>\n",
       "      <td>0.938680</td>\n",
       "      <td>0.500014</td>\n",
       "      <td>15769698</td>\n",
       "      <td>0.938673</td>\n",
       "      <td>2</td>\n",
       "      <td>0.5000</td>\n",
       "    </tr>\n",
       "    <tr>\n",
       "      <th>...</th>\n",
       "      <td>...</td>\n",
       "      <td>...</td>\n",
       "      <td>...</td>\n",
       "      <td>...</td>\n",
       "      <td>...</td>\n",
       "      <td>...</td>\n",
       "      <td>...</td>\n",
       "      <td>...</td>\n",
       "      <td>...</td>\n",
       "      <td>...</td>\n",
       "      <td>...</td>\n",
       "      <td>...</td>\n",
       "      <td>...</td>\n",
       "      <td>...</td>\n",
       "    </tr>\n",
       "    <tr>\n",
       "      <th>251</th>\n",
       "      <td>0.499285</td>\n",
       "      <td>79136</td>\n",
       "      <td>0.807167</td>\n",
       "      <td>0.499811</td>\n",
       "      <td>79137</td>\n",
       "      <td>0.814638</td>\n",
       "      <td>0.500270</td>\n",
       "      <td>79084</td>\n",
       "      <td>1.142911</td>\n",
       "      <td>0.500009</td>\n",
       "      <td>79026</td>\n",
       "      <td>1.147458</td>\n",
       "      <td>2</td>\n",
       "      <td>0.0025</td>\n",
       "    </tr>\n",
       "    <tr>\n",
       "      <th>252</th>\n",
       "      <td>0.499910</td>\n",
       "      <td>78577</td>\n",
       "      <td>0.903941</td>\n",
       "      <td>0.501351</td>\n",
       "      <td>78980</td>\n",
       "      <td>0.902760</td>\n",
       "      <td>0.497934</td>\n",
       "      <td>78892</td>\n",
       "      <td>1.059740</td>\n",
       "      <td>0.497174</td>\n",
       "      <td>78925</td>\n",
       "      <td>1.061311</td>\n",
       "      <td>2</td>\n",
       "      <td>0.0025</td>\n",
       "    </tr>\n",
       "    <tr>\n",
       "      <th>253</th>\n",
       "      <td>0.500489</td>\n",
       "      <td>78480</td>\n",
       "      <td>0.889386</td>\n",
       "      <td>0.501634</td>\n",
       "      <td>79140</td>\n",
       "      <td>0.887819</td>\n",
       "      <td>0.500345</td>\n",
       "      <td>78917</td>\n",
       "      <td>1.065132</td>\n",
       "      <td>0.499323</td>\n",
       "      <td>78942</td>\n",
       "      <td>1.068937</td>\n",
       "      <td>2</td>\n",
       "      <td>0.0025</td>\n",
       "    </tr>\n",
       "    <tr>\n",
       "      <th>254</th>\n",
       "      <td>0.500532</td>\n",
       "      <td>79123</td>\n",
       "      <td>0.881994</td>\n",
       "      <td>0.500307</td>\n",
       "      <td>79152</td>\n",
       "      <td>0.876832</td>\n",
       "      <td>0.500712</td>\n",
       "      <td>77945</td>\n",
       "      <td>1.074784</td>\n",
       "      <td>0.499579</td>\n",
       "      <td>78997</td>\n",
       "      <td>1.076155</td>\n",
       "      <td>2</td>\n",
       "      <td>0.0025</td>\n",
       "    </tr>\n",
       "    <tr>\n",
       "      <th>255</th>\n",
       "      <td>0.500242</td>\n",
       "      <td>78613</td>\n",
       "      <td>1.035618</td>\n",
       "      <td>0.499142</td>\n",
       "      <td>78535</td>\n",
       "      <td>1.036124</td>\n",
       "      <td>0.499822</td>\n",
       "      <td>78498</td>\n",
       "      <td>0.924775</td>\n",
       "      <td>0.501891</td>\n",
       "      <td>79004</td>\n",
       "      <td>0.922915</td>\n",
       "      <td>2</td>\n",
       "      <td>0.0025</td>\n",
       "    </tr>\n",
       "  </tbody>\n",
       "</table>\n",
       "<p>256 rows × 14 columns</p>\n",
       "</div>"
      ],
      "text/plain": [
       "     direct_mean  direct_counts  direct_nans  random_direct_mean  \\\n",
       "0       0.500022       15742194     0.935463            0.499937   \n",
       "1       0.499911       15744496     0.775489            0.499902   \n",
       "2       0.500049       15741540     0.972681            0.499962   \n",
       "3       0.499910       15741893     0.818034            0.499878   \n",
       "4       0.499978       15749593     1.018848            0.499976   \n",
       "..           ...            ...          ...                 ...   \n",
       "251     0.499285          79136     0.807167            0.499811   \n",
       "252     0.499910          78577     0.903941            0.501351   \n",
       "253     0.500489          78480     0.889386            0.501634   \n",
       "254     0.500532          79123     0.881994            0.500307   \n",
       "255     0.500242          78613     1.035618            0.499142   \n",
       "\n",
       "     random_direct_counts  random_direct_nans  inverted_mean  inverted_counts  \\\n",
       "0                15772817            0.935559       0.500156         15749858   \n",
       "1                15770551            0.775490       0.499966         15750329   \n",
       "2                15763970            0.972897       0.500305         15747975   \n",
       "3                15771952            0.817783       0.500069         15754119   \n",
       "4                15772674            1.018692       0.499947         15742804   \n",
       "..                    ...                 ...            ...              ...   \n",
       "251                 79137            0.814638       0.500270            79084   \n",
       "252                 78980            0.902760       0.497934            78892   \n",
       "253                 79140            0.887819       0.500345            78917   \n",
       "254                 79152            0.876832       0.500712            77945   \n",
       "255                 78535            1.036124       0.499822            78498   \n",
       "\n",
       "     inverted_nans  random_inverted_mean  random_inverted_counts  \\\n",
       "0         1.021713              0.500148                15769521   \n",
       "1         1.182119              0.499975                15768845   \n",
       "2         0.985109              0.500128                15771515   \n",
       "3         1.139335              0.500000                15768634   \n",
       "4         0.938680              0.500014                15769698   \n",
       "..             ...                   ...                     ...   \n",
       "251       1.142911              0.500009                   79026   \n",
       "252       1.059740              0.497174                   78925   \n",
       "253       1.065132              0.499323                   78942   \n",
       "254       1.074784              0.499579                   78997   \n",
       "255       0.924775              0.501891                   79004   \n",
       "\n",
       "     random_inverted_nans  window     thr  \n",
       "0                1.021965       2  0.5000  \n",
       "1                1.182100       2  0.5000  \n",
       "2                0.984585       2  0.5000  \n",
       "3                1.139344       2  0.5000  \n",
       "4                0.938673       2  0.5000  \n",
       "..                    ...     ...     ...  \n",
       "251              1.147458       2  0.0025  \n",
       "252              1.061311       2  0.0025  \n",
       "253              1.068937       2  0.0025  \n",
       "254              1.076155       2  0.0025  \n",
       "255              0.922915       2  0.0025  \n",
       "\n",
       "[256 rows x 14 columns]"
      ]
     },
     "execution_count": 43,
     "metadata": {},
     "output_type": "execute_result"
    }
   ],
   "source": [
    "pd.DataFrame(results_tmp)"
   ]
  },
  {
   "cell_type": "code",
   "execution_count": 3,
   "id": "1939f9b0",
   "metadata": {},
   "outputs": [],
   "source": [
    "results = pd.read_pickle('results2014.pickle')"
   ]
  },
  {
   "cell_type": "code",
   "execution_count": 4,
   "id": "3ac6af09",
   "metadata": {},
   "outputs": [
    {
     "name": "stdout",
     "output_type": "stream",
     "text": [
      "7.713866641120246e-05\n"
     ]
    }
   ],
   "source": [
    "def mean_confidence_interval(data, confidence=0.95):\n",
    "    a = 1.0 * np.array(data)\n",
    "    n = len(a)\n",
    "    m, se = np.mean(a), scipy.stats.sem(a)\n",
    "    h = se * scipy.stats.t.ppf((1 + confidence) / 2., n-1)\n",
    "    return h\n",
    "\n",
    "print(mean_confidence_interval(results.direct_mean))"
   ]
  },
  {
   "cell_type": "code",
   "execution_count": 5,
   "id": "0135cdbb",
   "metadata": {},
   "outputs": [
    {
     "data": {
      "image/png": "[encoded data removed]",
      "text/plain": [
       "<Figure size 432x288 with 1 Axes>"
      ]
     },
     "metadata": {
      "needs_background": "light"
     },
     "output_type": "display_data"
    }
   ],
   "source": [
    "import matplotlib.pyplot as plt\n",
    "fig = plt.figure()\n",
    "ax = fig.add_axes([0,0,1,1])\n",
    "langs = ['Direct test', 'Direct Test Random', 'Inverted mean' , 'Inverted Random']\n",
    "means = [results.direct_mean.mean(),\n",
    "         results.random_direct_mean.mean(),\n",
    "         results.inverted_mean.mean(),\n",
    "         results.random_inverted_mean.mean()]\n",
    "errors = [mean_confidence_interval(results.direct_mean),\n",
    "         mean_confidence_interval(results.random_direct_mean),\n",
    "         mean_confidence_interval(results.inverted_mean),\n",
    "         mean_confidence_interval(results.random_inverted_mean)]\n",
    "ax.bar(langs,means,yerr=errors)\n",
    "ax.set_ylim(0.4995, 0.5008)\n",
    "ax.axhline(y=0.5, color='r', linestyle='-')\n",
    "\n",
    "plt.show()"
   ]
  },
  {
   "cell_type": "code",
   "execution_count": 36,
   "id": "fda51d8a",
   "metadata": {},
   "outputs": [
    {
     "data": {
      "text/plain": [
       "array([2])"
      ]
     },
     "execution_count": 36,
     "metadata": {},
     "output_type": "execute_result"
    }
   ],
   "source": [
    "results.window.unique()"
   ]
  },
  {
   "cell_type": "code",
   "execution_count": 37,
   "id": "fe4b37f8",
   "metadata": {},
   "outputs": [],
   "source": [
    "results.thr.unique().sort()"
   ]
  },
  {
   "cell_type": "code",
   "execution_count": 12,
   "id": "2b08bb9e",
   "metadata": {},
   "outputs": [
    {
     "data": {
      "image/png": "[encoded data removed]",
      "text/plain": [
       "<Figure size 1800x720 with 8 Axes>"
      ]
     },
     "metadata": {
      "needs_background": "light"
     },
     "output_type": "display_data"
    }
   ],
   "source": [
    "window = 2\n",
    "f, axs = plt.subplots(1,8)\n",
    "f.set_figwidth(25)\n",
    "f.set_figheight(10)\n",
    "sorted_ = results.thr.unique()\n",
    "sorted_.sort()\n",
    "for thr, ax in zip(sorted_, axs):\n",
    "\n",
    "    results_tmp = results[(results.window==window)&(results.thr==thr)]\n",
    "    langs = ['Direct test', 'Direct Test Random', 'Inverted mean' , 'Inverted Random']\n",
    "    means = [results_tmp.direct_mean.mean(),\n",
    "            results_tmp.random_direct_mean.mean(),\n",
    "            results_tmp.inverted_mean.mean(),\n",
    "            results_tmp.random_inverted_mean.mean()]\n",
    "    errors = [mean_confidence_interval(results_tmp.direct_mean),\n",
    "            mean_confidence_interval(results_tmp.random_direct_mean),\n",
    "            mean_confidence_interval(results_tmp.inverted_mean),\n",
    "            mean_confidence_interval(results_tmp.random_inverted_mean)]\n",
    "    ax.bar(langs,means,yerr=errors)\n",
    "    fig.autofmt_xdate()\n",
    "    ax.set_title(\"prob. threshold =\" +str(thr))\n",
    "    ax.set_ylim(0.4992, 0.5008)\n",
    "    ax.tick_params(axis='x', labelrotation=-80)\n",
    "    ax.axhline(y=0.5, color='r', linestyle='-')\n"
   ]
  },
  {
   "cell_type": "code",
   "execution_count": 29,
   "id": "432366dc",
   "metadata": {},
   "outputs": [
    {
     "data": {
      "image/png": "[encoded data removed]",
      "text/plain": [
       "<Figure size 1800x720 with 5 Axes>"
      ]
     },
     "metadata": {
      "needs_background": "light"
     },
     "output_type": "display_data"
    }
   ],
   "source": [
    "\n",
    "window = 3\n",
    "f, axs = plt.subplots(1,5)\n",
    "f.set_figwidth(25)\n",
    "f.set_figheight(10)\n",
    "sorted_ = results.thr.unique()\n",
    "sorted_.sort()\n",
    "for thr, ax in zip(sorted_, axs):\n",
    "\n",
    "    results_tmp = results[(results.window==window)&(results.thr==thr)]\n",
    "    langs = ['Direct test', 'Direct Test Random', 'Inverted mean' , 'Inverted Random']\n",
    "    means = [results_tmp.direct_mean.mean(),\n",
    "            results_tmp.random_direct_mean.mean(),\n",
    "            results_tmp.inverted_mean.mean(),\n",
    "            results_tmp.random_inverted_mean.mean()]\n",
    "    errors = [mean_confidence_interval(results_tmp.direct_mean),\n",
    "            mean_confidence_interval(results_tmp.random_direct_mean),\n",
    "            mean_confidence_interval(results_tmp.inverted_mean),\n",
    "            mean_confidence_interval(results_tmp.random_inverted_mean)]\n",
    "    ax.bar(langs,means,yerr=errors)\n",
    "    ax.set_title(thr)\n",
    "    ax.set_ylim(0.4992, 0.5008)\n",
    "    ax.axhline(y=0.5, color='r', linestyle='-')\n"
   ]
  },
  {
   "cell_type": "code",
   "execution_count": 10,
   "id": "9064d29b",
   "metadata": {},
   "outputs": [
    {
     "data": {
      "text/plain": [
       "0.5003085105775387"
      ]
     },
     "execution_count": 10,
     "metadata": {},
     "output_type": "execute_result"
    }
   ],
   "source": [
    "results.direct_mean.mean()"
   ]
  },
  {
   "cell_type": "code",
   "execution_count": 12,
   "id": "1446b39c",
   "metadata": {},
   "outputs": [
    {
     "data": {
      "text/plain": [
       "0.5003928619899972"
      ]
     },
     "execution_count": 12,
     "metadata": {},
     "output_type": "execute_result"
    }
   ],
   "source": [
    "results.inverted_mean.mean()"
   ]
  },
  {
   "cell_type": "code",
   "execution_count": 13,
   "id": "d971014a",
   "metadata": {},
   "outputs": [
    {
     "data": {
      "text/plain": [
       "0.49984293204069524"
      ]
     },
     "execution_count": 13,
     "metadata": {},
     "output_type": "execute_result"
    }
   ],
   "source": [
    "results.random_inverted_mean.mean()"
   ]
  },
  {
   "cell_type": "code",
   "execution_count": 14,
   "id": "982549e2",
   "metadata": {},
   "outputs": [
    {
     "data": {
      "text/plain": [
       "0.0012493638645021626"
      ]
     },
     "execution_count": 14,
     "metadata": {},
     "output_type": "execute_result"
    }
   ],
   "source": [
    "results.direct_mean.std()"
   ]
  },
  {
   "cell_type": "code",
   "execution_count": null,
   "id": "f901e786",
   "metadata": {},
   "outputs": [],
   "source": []
  },
  {
   "cell_type": "code",
   "execution_count": 11,
   "id": "ec936b50",
   "metadata": {},
   "outputs": [
    {
     "data": {
      "text/html": [
       "<div>\n",
       "<style scoped>\n",
       "    .dataframe tbody tr th:only-of-type {\n",
       "        vertical-align: middle;\n",
       "    }\n",
       "\n",
       "    .dataframe tbody tr th {\n",
       "        vertical-align: top;\n",
       "    }\n",
       "\n",
       "    .dataframe thead th {\n",
       "        text-align: right;\n",
       "    }\n",
       "</style>\n",
       "<table border=\"1\" class=\"dataframe\">\n",
       "  <thead>\n",
       "    <tr style=\"text-align: right;\">\n",
       "      <th></th>\n",
       "      <th>direct_mean</th>\n",
       "      <th>direct_counts</th>\n",
       "      <th>direct_nans</th>\n",
       "      <th>random_direct_mean</th>\n",
       "      <th>random_direct_counts</th>\n",
       "      <th>random_direct_nans</th>\n",
       "      <th>inverted_mean</th>\n",
       "      <th>inverted_counts</th>\n",
       "      <th>inverted_nans</th>\n",
       "      <th>random_inverted_mean</th>\n",
       "      <th>random_inverted_counts</th>\n",
       "      <th>random_inverted_nans</th>\n",
       "      <th>window</th>\n",
       "      <th>thr</th>\n",
       "    </tr>\n",
       "  </thead>\n",
       "  <tbody>\n",
       "    <tr>\n",
       "      <th>0</th>\n",
       "      <td>0.500396</td>\n",
       "      <td>313197</td>\n",
       "      <td>3.999071</td>\n",
       "      <td>0.500439</td>\n",
       "      <td>312361</td>\n",
       "      <td>3.998671</td>\n",
       "      <td>0.499634</td>\n",
       "      <td>313971</td>\n",
       "      <td>1.574499</td>\n",
       "      <td>0.500606</td>\n",
       "      <td>312067</td>\n",
       "      <td>1.577302</td>\n",
       "      <td>2</td>\n",
       "      <td>0.010</td>\n",
       "    </tr>\n",
       "    <tr>\n",
       "      <th>1</th>\n",
       "      <td>0.500430</td>\n",
       "      <td>313421</td>\n",
       "      <td>2.816825</td>\n",
       "      <td>0.500418</td>\n",
       "      <td>314199</td>\n",
       "      <td>2.815712</td>\n",
       "      <td>0.500628</td>\n",
       "      <td>312328</td>\n",
       "      <td>2.755004</td>\n",
       "      <td>0.500405</td>\n",
       "      <td>313007</td>\n",
       "      <td>2.757782</td>\n",
       "      <td>2</td>\n",
       "      <td>0.010</td>\n",
       "    </tr>\n",
       "    <tr>\n",
       "      <th>2</th>\n",
       "      <td>0.500626</td>\n",
       "      <td>311300</td>\n",
       "      <td>4.647196</td>\n",
       "      <td>0.500954</td>\n",
       "      <td>313887</td>\n",
       "      <td>4.649125</td>\n",
       "      <td>0.500648</td>\n",
       "      <td>312987</td>\n",
       "      <td>0.928809</td>\n",
       "      <td>0.499787</td>\n",
       "      <td>312781</td>\n",
       "      <td>0.930415</td>\n",
       "      <td>2</td>\n",
       "      <td>0.010</td>\n",
       "    </tr>\n",
       "    <tr>\n",
       "      <th>3</th>\n",
       "      <td>0.500351</td>\n",
       "      <td>312969</td>\n",
       "      <td>3.069579</td>\n",
       "      <td>0.499574</td>\n",
       "      <td>313781</td>\n",
       "      <td>3.070116</td>\n",
       "      <td>0.501055</td>\n",
       "      <td>311975</td>\n",
       "      <td>2.509480</td>\n",
       "      <td>0.499929</td>\n",
       "      <td>312231</td>\n",
       "      <td>2.508777</td>\n",
       "      <td>2</td>\n",
       "      <td>0.010</td>\n",
       "    </tr>\n",
       "    <tr>\n",
       "      <th>4</th>\n",
       "      <td>0.501174</td>\n",
       "      <td>314178</td>\n",
       "      <td>2.725926</td>\n",
       "      <td>0.499938</td>\n",
       "      <td>312680</td>\n",
       "      <td>2.722560</td>\n",
       "      <td>0.500813</td>\n",
       "      <td>312638</td>\n",
       "      <td>2.855417</td>\n",
       "      <td>0.500488</td>\n",
       "      <td>312963</td>\n",
       "      <td>2.854468</td>\n",
       "      <td>2</td>\n",
       "      <td>0.010</td>\n",
       "    </tr>\n",
       "    <tr>\n",
       "      <th>...</th>\n",
       "      <td>...</td>\n",
       "      <td>...</td>\n",
       "      <td>...</td>\n",
       "      <td>...</td>\n",
       "      <td>...</td>\n",
       "      <td>...</td>\n",
       "      <td>...</td>\n",
       "      <td>...</td>\n",
       "      <td>...</td>\n",
       "      <td>...</td>\n",
       "      <td>...</td>\n",
       "      <td>...</td>\n",
       "      <td>...</td>\n",
       "      <td>...</td>\n",
       "    </tr>\n",
       "    <tr>\n",
       "      <th>315</th>\n",
       "      <td>0.498786</td>\n",
       "      <td>30900</td>\n",
       "      <td>3.387443</td>\n",
       "      <td>0.497907</td>\n",
       "      <td>31229</td>\n",
       "      <td>3.386788</td>\n",
       "      <td>0.503172</td>\n",
       "      <td>30959</td>\n",
       "      <td>2.191964</td>\n",
       "      <td>0.501660</td>\n",
       "      <td>31050</td>\n",
       "      <td>2.188019</td>\n",
       "      <td>3</td>\n",
       "      <td>0.001</td>\n",
       "    </tr>\n",
       "    <tr>\n",
       "      <th>316</th>\n",
       "      <td>0.502997</td>\n",
       "      <td>31284</td>\n",
       "      <td>1.949431</td>\n",
       "      <td>0.498436</td>\n",
       "      <td>31010</td>\n",
       "      <td>1.949145</td>\n",
       "      <td>0.497389</td>\n",
       "      <td>30828</td>\n",
       "      <td>3.653043</td>\n",
       "      <td>0.499252</td>\n",
       "      <td>31216</td>\n",
       "      <td>3.627883</td>\n",
       "      <td>3</td>\n",
       "      <td>0.001</td>\n",
       "    </tr>\n",
       "    <tr>\n",
       "      <th>317</th>\n",
       "      <td>0.499796</td>\n",
       "      <td>30970</td>\n",
       "      <td>2.737843</td>\n",
       "      <td>0.499309</td>\n",
       "      <td>31193</td>\n",
       "      <td>2.729875</td>\n",
       "      <td>0.500090</td>\n",
       "      <td>31166</td>\n",
       "      <td>2.852435</td>\n",
       "      <td>0.503592</td>\n",
       "      <td>31306</td>\n",
       "      <td>2.842810</td>\n",
       "      <td>3</td>\n",
       "      <td>0.001</td>\n",
       "    </tr>\n",
       "    <tr>\n",
       "      <th>318</th>\n",
       "      <td>0.502505</td>\n",
       "      <td>31785</td>\n",
       "      <td>2.836558</td>\n",
       "      <td>0.500451</td>\n",
       "      <td>31251</td>\n",
       "      <td>2.828389</td>\n",
       "      <td>0.499154</td>\n",
       "      <td>30922</td>\n",
       "      <td>2.748464</td>\n",
       "      <td>0.496254</td>\n",
       "      <td>31419</td>\n",
       "      <td>2.740444</td>\n",
       "      <td>3</td>\n",
       "      <td>0.001</td>\n",
       "    </tr>\n",
       "    <tr>\n",
       "      <th>319</th>\n",
       "      <td>0.500096</td>\n",
       "      <td>31193</td>\n",
       "      <td>3.624371</td>\n",
       "      <td>0.501659</td>\n",
       "      <td>31148</td>\n",
       "      <td>3.598016</td>\n",
       "      <td>0.497844</td>\n",
       "      <td>31506</td>\n",
       "      <td>1.986225</td>\n",
       "      <td>0.499833</td>\n",
       "      <td>31261</td>\n",
       "      <td>1.968747</td>\n",
       "      <td>3</td>\n",
       "      <td>0.001</td>\n",
       "    </tr>\n",
       "  </tbody>\n",
       "</table>\n",
       "<p>320 rows × 14 columns</p>\n",
       "</div>"
      ],
      "text/plain": [
       "     direct_mean  direct_counts  direct_nans  random_direct_mean  \\\n",
       "0       0.500396         313197     3.999071            0.500439   \n",
       "1       0.500430         313421     2.816825            0.500418   \n",
       "2       0.500626         311300     4.647196            0.500954   \n",
       "3       0.500351         312969     3.069579            0.499574   \n",
       "4       0.501174         314178     2.725926            0.499938   \n",
       "..           ...            ...          ...                 ...   \n",
       "315     0.498786          30900     3.387443            0.497907   \n",
       "316     0.502997          31284     1.949431            0.498436   \n",
       "317     0.499796          30970     2.737843            0.499309   \n",
       "318     0.502505          31785     2.836558            0.500451   \n",
       "319     0.500096          31193     3.624371            0.501659   \n",
       "\n",
       "     random_direct_counts  random_direct_nans  inverted_mean  inverted_counts  \\\n",
       "0                  312361            3.998671       0.499634           313971   \n",
       "1                  314199            2.815712       0.500628           312328   \n",
       "2                  313887            4.649125       0.500648           312987   \n",
       "3                  313781            3.070116       0.501055           311975   \n",
       "4                  312680            2.722560       0.500813           312638   \n",
       "..                    ...                 ...            ...              ...   \n",
       "315                 31229            3.386788       0.503172            30959   \n",
       "316                 31010            1.949145       0.497389            30828   \n",
       "317                 31193            2.729875       0.500090            31166   \n",
       "318                 31251            2.828389       0.499154            30922   \n",
       "319                 31148            3.598016       0.497844            31506   \n",
       "\n",
       "     inverted_nans  random_inverted_mean  random_inverted_counts  \\\n",
       "0         1.574499              0.500606                  312067   \n",
       "1         2.755004              0.500405                  313007   \n",
       "2         0.928809              0.499787                  312781   \n",
       "3         2.509480              0.499929                  312231   \n",
       "4         2.855417              0.500488                  312963   \n",
       "..             ...                   ...                     ...   \n",
       "315       2.191964              0.501660                   31050   \n",
       "316       3.653043              0.499252                   31216   \n",
       "317       2.852435              0.503592                   31306   \n",
       "318       2.748464              0.496254                   31419   \n",
       "319       1.986225              0.499833                   31261   \n",
       "\n",
       "     random_inverted_nans  window    thr  \n",
       "0                1.577302       2  0.010  \n",
       "1                2.757782       2  0.010  \n",
       "2                0.930415       2  0.010  \n",
       "3                2.508777       2  0.010  \n",
       "4                2.854468       2  0.010  \n",
       "..                    ...     ...    ...  \n",
       "315              2.188019       3  0.001  \n",
       "316              3.627883       3  0.001  \n",
       "317              2.842810       3  0.001  \n",
       "318              2.740444       3  0.001  \n",
       "319              1.968747       3  0.001  \n",
       "\n",
       "[320 rows x 14 columns]"
      ]
     },
     "execution_count": 11,
     "metadata": {},
     "output_type": "execute_result"
    }
   ],
   "source": [
    "results"
   ]
  },
  {
   "cell_type": "code",
   "execution_count": null,
   "id": "abe64318",
   "metadata": {},
   "outputs": [],
   "source": []
  },
  {
   "cell_type": "code",
   "execution_count": 4,
   "id": "7d20284b",
   "metadata": {},
   "outputs": [],
   "source": [
    "with open('r1.pickle','rb') as file:\n",
    "    results = pickle.load(file)"
   ]
  },
  {
   "cell_type": "code",
   "execution_count": 46,
   "id": "f5e046c8",
   "metadata": {},
   "outputs": [],
   "source": [
    "results1 = [x for x in results if type(x)==dict]"
   ]
  },
  {
   "cell_type": "code",
   "execution_count": 47,
   "id": "2689bc61",
   "metadata": {},
   "outputs": [],
   "source": [
    "results1 = pd.DataFrame(results1)"
   ]
  },
  {
   "cell_type": "code",
   "execution_count": 48,
   "id": "5c78b777",
   "metadata": {},
   "outputs": [
    {
     "data": {
      "text/html": [
       "<div>\n",
       "<style scoped>\n",
       "    .dataframe tbody tr th:only-of-type {\n",
       "        vertical-align: middle;\n",
       "    }\n",
       "\n",
       "    .dataframe tbody tr th {\n",
       "        vertical-align: top;\n",
       "    }\n",
       "\n",
       "    .dataframe thead th {\n",
       "        text-align: right;\n",
       "    }\n",
       "</style>\n",
       "<table border=\"1\" class=\"dataframe\">\n",
       "  <thead>\n",
       "    <tr style=\"text-align: right;\">\n",
       "      <th></th>\n",
       "      <th>mean</th>\n",
       "      <th>counts</th>\n",
       "      <th>window</th>\n",
       "      <th>thr</th>\n",
       "    </tr>\n",
       "  </thead>\n",
       "  <tbody>\n",
       "    <tr>\n",
       "      <th>0</th>\n",
       "      <td>0.500235</td>\n",
       "      <td>314154</td>\n",
       "      <td>2</td>\n",
       "      <td>0.010</td>\n",
       "    </tr>\n",
       "    <tr>\n",
       "      <th>1</th>\n",
       "      <td>0.500480</td>\n",
       "      <td>313777</td>\n",
       "      <td>2</td>\n",
       "      <td>0.010</td>\n",
       "    </tr>\n",
       "    <tr>\n",
       "      <th>2</th>\n",
       "      <td>0.500163</td>\n",
       "      <td>312978</td>\n",
       "      <td>2</td>\n",
       "      <td>0.010</td>\n",
       "    </tr>\n",
       "    <tr>\n",
       "      <th>3</th>\n",
       "      <td>0.501219</td>\n",
       "      <td>313177</td>\n",
       "      <td>2</td>\n",
       "      <td>0.010</td>\n",
       "    </tr>\n",
       "    <tr>\n",
       "      <th>4</th>\n",
       "      <td>0.500871</td>\n",
       "      <td>312021</td>\n",
       "      <td>2</td>\n",
       "      <td>0.010</td>\n",
       "    </tr>\n",
       "    <tr>\n",
       "      <th>...</th>\n",
       "      <td>...</td>\n",
       "      <td>...</td>\n",
       "      <td>...</td>\n",
       "      <td>...</td>\n",
       "    </tr>\n",
       "    <tr>\n",
       "      <th>155</th>\n",
       "      <td>0.500234</td>\n",
       "      <td>31100</td>\n",
       "      <td>3</td>\n",
       "      <td>0.001</td>\n",
       "    </tr>\n",
       "    <tr>\n",
       "      <th>156</th>\n",
       "      <td>0.499413</td>\n",
       "      <td>31508</td>\n",
       "      <td>3</td>\n",
       "      <td>0.001</td>\n",
       "    </tr>\n",
       "    <tr>\n",
       "      <th>157</th>\n",
       "      <td>0.500532</td>\n",
       "      <td>31052</td>\n",
       "      <td>3</td>\n",
       "      <td>0.001</td>\n",
       "    </tr>\n",
       "    <tr>\n",
       "      <th>158</th>\n",
       "      <td>0.495916</td>\n",
       "      <td>31294</td>\n",
       "      <td>3</td>\n",
       "      <td>0.001</td>\n",
       "    </tr>\n",
       "    <tr>\n",
       "      <th>159</th>\n",
       "      <td>0.502033</td>\n",
       "      <td>31354</td>\n",
       "      <td>3</td>\n",
       "      <td>0.001</td>\n",
       "    </tr>\n",
       "  </tbody>\n",
       "</table>\n",
       "<p>160 rows × 4 columns</p>\n",
       "</div>"
      ],
      "text/plain": [
       "         mean  counts  window    thr\n",
       "0    0.500235  314154       2  0.010\n",
       "1    0.500480  313777       2  0.010\n",
       "2    0.500163  312978       2  0.010\n",
       "3    0.501219  313177       2  0.010\n",
       "4    0.500871  312021       2  0.010\n",
       "..        ...     ...     ...    ...\n",
       "155  0.500234   31100       3  0.001\n",
       "156  0.499413   31508       3  0.001\n",
       "157  0.500532   31052       3  0.001\n",
       "158  0.495916   31294       3  0.001\n",
       "159  0.502033   31354       3  0.001\n",
       "\n",
       "[160 rows x 4 columns]"
      ]
     },
     "execution_count": 48,
     "metadata": {},
     "output_type": "execute_result"
    }
   ],
   "source": [
    "results1"
   ]
  },
  {
   "cell_type": "code",
   "execution_count": 69,
   "id": "860c62a1",
   "metadata": {},
   "outputs": [
    {
     "data": {
      "text/plain": [
       "(0.5004947108789995, 0.5003041563439701, 0.500685265414029)"
      ]
     },
     "execution_count": 69,
     "metadata": {},
     "output_type": "execute_result"
    }
   ],
   "source": [
    "import scipy \n",
    "\n",
    "means = results1[(results1.window==2)&(results1.thr==0.01)]\n",
    "\n",
    "def mean_confidence_interval(data, confidence=0.95):\n",
    "    a = 1.0 * np.array(data)\n",
    "    n = len(a)\n",
    "    m, se = np.mean(a), scipy.stats.sem(a)\n",
    "    h = se * scipy.stats.t.ppf((1 + confidence) / 2., n-1)\n",
    "    return m, m-h, m+h\n",
    "# print(means)\n",
    "mean_confidence_interval(means)"
   ]
  },
  {
   "cell_type": "code",
   "execution_count": 78,
   "id": "5bdd6bba",
   "metadata": {},
   "outputs": [
    {
     "data": {
      "text/plain": [
       "72916056.72138348"
      ]
     },
     "execution_count": 78,
     "metadata": {},
     "output_type": "execute_result"
    }
   ],
   "source": [
    "np.nanmean(data.iloc[3:])"
   ]
  },
  {
   "cell_type": "code",
   "execution_count": 76,
   "id": "0f894123",
   "metadata": {},
   "outputs": [
    {
     "data": {
      "text/html": [
       "<div>\n",
       "<style scoped>\n",
       "    .dataframe tbody tr th:only-of-type {\n",
       "        vertical-align: middle;\n",
       "    }\n",
       "\n",
       "    .dataframe tbody tr th {\n",
       "        vertical-align: top;\n",
       "    }\n",
       "\n",
       "    .dataframe thead th {\n",
       "        text-align: right;\n",
       "    }\n",
       "</style>\n",
       "<table border=\"1\" class=\"dataframe\">\n",
       "  <thead>\n",
       "    <tr style=\"text-align: right;\">\n",
       "      <th></th>\n",
       "      <th>mean</th>\n",
       "      <th>counts</th>\n",
       "      <th>window</th>\n",
       "    </tr>\n",
       "    <tr>\n",
       "      <th>thr</th>\n",
       "      <th></th>\n",
       "      <th></th>\n",
       "      <th></th>\n",
       "    </tr>\n",
       "  </thead>\n",
       "  <tbody>\n",
       "    <tr>\n",
       "      <th>0.0075</th>\n",
       "      <td>0.500459</td>\n",
       "      <td>234921.3750</td>\n",
       "      <td>2.0</td>\n",
       "    </tr>\n",
       "    <tr>\n",
       "      <th>0.0100</th>\n",
       "      <td>0.500495</td>\n",
       "      <td>313092.6875</td>\n",
       "      <td>2.0</td>\n",
       "    </tr>\n",
       "  </tbody>\n",
       "</table>\n",
       "</div>"
      ],
      "text/plain": [
       "            mean       counts  window\n",
       "thr                                  \n",
       "0.0075  0.500459  234921.3750     2.0\n",
       "0.0100  0.500495  313092.6875     2.0"
      ]
     },
     "execution_count": 76,
     "metadata": {},
     "output_type": "execute_result"
    }
   ],
   "source": [
    "data.iloc[3:]"
   ]
  },
  {
   "cell_type": "code",
   "execution_count": 54,
   "id": "a735938a",
   "metadata": {},
   "outputs": [
    {
     "data": {
      "text/plain": [
       "<matplotlib.collections.PathCollection at 0x200de161c70>"
      ]
     },
     "execution_count": 54,
     "metadata": {},
     "output_type": "execute_result"
    },
    {
     "data": {
      "image/png": "[encoded data removed]",
      "text/plain": [
       "<Figure size 1080x1080 with 2 Axes>"
      ]
     },
     "metadata": {
      "needs_background": "light"
     },
     "output_type": "display_data"
    }
   ],
   "source": [
    "fig, axs = plt.subplots(1, 2,figsize=(15,15))\n",
    "data = results1[(results1.window==2)].groupby('thr').mean()\n",
    "\n",
    "axs[0].scatter(data.index, data['mean'], alpha=0.5)\n",
    "ax.fill_between(q.index, (q['mean']-ci['mean']), (q['mean']+ci['mean']), color='b', alpha=.1)"
   ]
  },
  {
   "cell_type": "code",
   "execution_count": 32,
   "id": "f9ecd8aa",
   "metadata": {},
   "outputs": [],
   "source": [
    "def is_out(s):\n",
    "    return True if s[0]>0.5 or s[1]<0.5 else False\n",
    "\n",
    "results['ci'] = results.apply(lambda x: proportion_confint(int(x['mean']*x['counts']), x['counts']), axis=1)\n",
    "results['ci_out'] = results.apply(lambda x: is_out(proportion_confint(int(x['mean']*x['counts']), x['counts'])), axis=1)"
   ]
  },
  {
   "cell_type": "code",
   "execution_count": 35,
   "id": "56ae7ab6",
   "metadata": {},
   "outputs": [
    {
     "data": {
      "text/html": [
       "<div>\n",
       "<style scoped>\n",
       "    .dataframe tbody tr th:only-of-type {\n",
       "        vertical-align: middle;\n",
       "    }\n",
       "\n",
       "    .dataframe tbody tr th {\n",
       "        vertical-align: top;\n",
       "    }\n",
       "\n",
       "    .dataframe thead th {\n",
       "        text-align: right;\n",
       "    }\n",
       "</style>\n",
       "<table border=\"1\" class=\"dataframe\">\n",
       "  <thead>\n",
       "    <tr style=\"text-align: right;\">\n",
       "      <th></th>\n",
       "      <th>mean</th>\n",
       "      <th>counts</th>\n",
       "      <th>window</th>\n",
       "      <th>thr</th>\n",
       "      <th>ci</th>\n",
       "      <th>ci_out</th>\n",
       "    </tr>\n",
       "  </thead>\n",
       "  <tbody>\n",
       "    <tr>\n",
       "      <th>17</th>\n",
       "      <td>0.500568</td>\n",
       "      <td>3122247</td>\n",
       "      <td>2</td>\n",
       "      <td>0.100</td>\n",
       "      <td>(0.5000134148847756, 0.5011226259217333)</td>\n",
       "      <td>True</td>\n",
       "    </tr>\n",
       "    <tr>\n",
       "      <th>203</th>\n",
       "      <td>0.501820</td>\n",
       "      <td>311391</td>\n",
       "      <td>3</td>\n",
       "      <td>0.010</td>\n",
       "      <td>(0.5000631038129972, 0.5035754085396398)</td>\n",
       "      <td>True</td>\n",
       "    </tr>\n",
       "    <tr>\n",
       "      <th>279</th>\n",
       "      <td>0.502729</td>\n",
       "      <td>156902</td>\n",
       "      <td>3</td>\n",
       "      <td>0.005</td>\n",
       "      <td>(0.5002538304825795, 0.50520180424483)</td>\n",
       "      <td>True</td>\n",
       "    </tr>\n",
       "    <tr>\n",
       "      <th>287</th>\n",
       "      <td>0.502516</td>\n",
       "      <td>156917</td>\n",
       "      <td>3</td>\n",
       "      <td>0.005</td>\n",
       "      <td>(0.5000401937711982, 0.5049879421222996)</td>\n",
       "      <td>True</td>\n",
       "    </tr>\n",
       "  </tbody>\n",
       "</table>\n",
       "</div>"
      ],
      "text/plain": [
       "         mean   counts  window    thr  \\\n",
       "17   0.500568  3122247       2  0.100   \n",
       "203  0.501820   311391       3  0.010   \n",
       "279  0.502729   156902       3  0.005   \n",
       "287  0.502516   156917       3  0.005   \n",
       "\n",
       "                                           ci  ci_out  \n",
       "17   (0.5000134148847756, 0.5011226259217333)    True  \n",
       "203  (0.5000631038129972, 0.5035754085396398)    True  \n",
       "279    (0.5002538304825795, 0.50520180424483)    True  \n",
       "287  (0.5000401937711982, 0.5049879421222996)    True  "
      ]
     },
     "execution_count": 35,
     "metadata": {},
     "output_type": "execute_result"
    }
   ],
   "source": [
    "results[results.ci_out==True]"
   ]
  },
  {
   "cell_type": "code",
   "execution_count": 14,
   "id": "d2bdb2a4",
   "metadata": {},
   "outputs": [
    {
     "data": {
      "application/vnd.jupyter.widget-view+json": {
       "model_id": "3d6ce06d627644a48988793697e3b05f",
       "version_major": 2,
       "version_minor": 0
      },
      "text/plain": [
       "  0%|          | 0/5 [00:00<?, ?it/s]"
      ]
     },
     "metadata": {},
     "output_type": "display_data"
    },
    {
     "ename": "NameError",
     "evalue": "name 'make_run' is not defined",
     "output_type": "error",
     "traceback": [
      "\u001b[0;31m---------------------------------------------------------------------------\u001b[0m",
      "\u001b[0;31mEmpty\u001b[0m                                     Traceback (most recent call last)",
      "\u001b[0;32m~/anaconda3/lib/python3.8/site-packages/joblib/parallel.py\u001b[0m in \u001b[0;36mdispatch_one_batch\u001b[0;34m(self, iterator)\u001b[0m\n\u001b[1;32m    819\u001b[0m             \u001b[0;32mtry\u001b[0m\u001b[0;34m:\u001b[0m\u001b[0;34m\u001b[0m\u001b[0;34m\u001b[0m\u001b[0m\n\u001b[0;32m--> 820\u001b[0;31m                 \u001b[0mtasks\u001b[0m \u001b[0;34m=\u001b[0m \u001b[0mself\u001b[0m\u001b[0;34m.\u001b[0m\u001b[0m_ready_batches\u001b[0m\u001b[0;34m.\u001b[0m\u001b[0mget\u001b[0m\u001b[0;34m(\u001b[0m\u001b[0mblock\u001b[0m\u001b[0;34m=\u001b[0m\u001b[0;32mFalse\u001b[0m\u001b[0;34m)\u001b[0m\u001b[0;34m\u001b[0m\u001b[0;34m\u001b[0m\u001b[0m\n\u001b[0m\u001b[1;32m    821\u001b[0m             \u001b[0;32mexcept\u001b[0m \u001b[0mqueue\u001b[0m\u001b[0;34m.\u001b[0m\u001b[0mEmpty\u001b[0m\u001b[0;34m:\u001b[0m\u001b[0;34m\u001b[0m\u001b[0;34m\u001b[0m\u001b[0m\n",
      "\u001b[0;32m~/anaconda3/lib/python3.8/queue.py\u001b[0m in \u001b[0;36mget\u001b[0;34m(self, block, timeout)\u001b[0m\n\u001b[1;32m    166\u001b[0m                 \u001b[0;32mif\u001b[0m \u001b[0;32mnot\u001b[0m \u001b[0mself\u001b[0m\u001b[0;34m.\u001b[0m\u001b[0m_qsize\u001b[0m\u001b[0;34m(\u001b[0m\u001b[0;34m)\u001b[0m\u001b[0;34m:\u001b[0m\u001b[0;34m\u001b[0m\u001b[0;34m\u001b[0m\u001b[0m\n\u001b[0;32m--> 167\u001b[0;31m                     \u001b[0;32mraise\u001b[0m \u001b[0mEmpty\u001b[0m\u001b[0;34m\u001b[0m\u001b[0;34m\u001b[0m\u001b[0m\n\u001b[0m\u001b[1;32m    168\u001b[0m             \u001b[0;32melif\u001b[0m \u001b[0mtimeout\u001b[0m \u001b[0;32mis\u001b[0m \u001b[0;32mNone\u001b[0m\u001b[0;34m:\u001b[0m\u001b[0;34m\u001b[0m\u001b[0;34m\u001b[0m\u001b[0m\n",
      "\u001b[0;31mEmpty\u001b[0m: ",
      "\nDuring handling of the above exception, another exception occurred:\n",
      "\u001b[0;31mNameError\u001b[0m                                 Traceback (most recent call last)",
      "\u001b[0;32m<ipython-input-14-cfd5af02ce07>\u001b[0m in \u001b[0;36m<module>\u001b[0;34m\u001b[0m\n\u001b[1;32m      3\u001b[0m     \u001b[0;32mfor\u001b[0m \u001b[0mthr\u001b[0m \u001b[0;32min\u001b[0m \u001b[0;34m[\u001b[0m\u001b[0;36m0.5\u001b[0m\u001b[0;34m,\u001b[0m \u001b[0;36m0.25\u001b[0m\u001b[0;34m,\u001b[0m \u001b[0;36m0.1\u001b[0m\u001b[0;34m,\u001b[0m \u001b[0;36m0.05\u001b[0m\u001b[0;34m,\u001b[0m \u001b[0;36m0.01\u001b[0m\u001b[0;34m,\u001b[0m\u001b[0;36m0.0075\u001b[0m\u001b[0;34m,\u001b[0m\u001b[0;36m0.005\u001b[0m\u001b[0;34m,\u001b[0m\u001b[0;36m0.0025\u001b[0m\u001b[0;34m]\u001b[0m\u001b[0;34m:\u001b[0m\u001b[0;34m\u001b[0m\u001b[0;34m\u001b[0m\u001b[0m\n\u001b[1;32m      4\u001b[0m         \u001b[0;32mfor\u001b[0m \u001b[0mwindow\u001b[0m \u001b[0;32min\u001b[0m \u001b[0;34m[\u001b[0m\u001b[0;36m1\u001b[0m\u001b[0;34m]\u001b[0m\u001b[0;34m:\u001b[0m\u001b[0;34m\u001b[0m\u001b[0;34m\u001b[0m\u001b[0m\n\u001b[0;32m----> 5\u001b[0;31m             \u001b[0mpartial_results\u001b[0m \u001b[0;34m=\u001b[0m \u001b[0mParallel\u001b[0m\u001b[0;34m(\u001b[0m\u001b[0mn_jobs\u001b[0m\u001b[0;34m=\u001b[0m\u001b[0;36m2\u001b[0m\u001b[0;34m,\u001b[0m \u001b[0mprefer\u001b[0m\u001b[0;34m=\u001b[0m\u001b[0;34m\"threads\"\u001b[0m\u001b[0;34m)\u001b[0m\u001b[0;34m(\u001b[0m\u001b[0mdelayed\u001b[0m\u001b[0;34m(\u001b[0m\u001b[0mmake_run\u001b[0m\u001b[0;34m)\u001b[0m\u001b[0;34m(\u001b[0m\u001b[0mthr\u001b[0m\u001b[0;34m,\u001b[0m \u001b[0mwindow\u001b[0m\u001b[0;34m)\u001b[0m \u001b[0;32mfor\u001b[0m \u001b[0mi\u001b[0m \u001b[0;32min\u001b[0m \u001b[0mrange\u001b[0m\u001b[0;34m(\u001b[0m\u001b[0;36m32\u001b[0m\u001b[0;34m)\u001b[0m\u001b[0;34m)\u001b[0m\u001b[0;34m\u001b[0m\u001b[0;34m\u001b[0m\u001b[0m\n\u001b[0m\u001b[1;32m      6\u001b[0m             \u001b[0mresults\u001b[0m\u001b[0;34m.\u001b[0m\u001b[0mappend\u001b[0m\u001b[0;34m(\u001b[0m\u001b[0mpartial_results\u001b[0m\u001b[0;34m)\u001b[0m\u001b[0;34m\u001b[0m\u001b[0;34m\u001b[0m\u001b[0m\n\u001b[1;32m      7\u001b[0m             \u001b[0mpbar\u001b[0m\u001b[0;34m.\u001b[0m\u001b[0mupdate\u001b[0m\u001b[0;34m(\u001b[0m\u001b[0;36m1\u001b[0m\u001b[0;34m)\u001b[0m\u001b[0;34m\u001b[0m\u001b[0;34m\u001b[0m\u001b[0m\n",
      "\u001b[0;32m~/anaconda3/lib/python3.8/site-packages/joblib/parallel.py\u001b[0m in \u001b[0;36m__call__\u001b[0;34m(self, iterable)\u001b[0m\n\u001b[1;32m   1039\u001b[0m             \u001b[0;31m# remaining jobs.\u001b[0m\u001b[0;34m\u001b[0m\u001b[0;34m\u001b[0m\u001b[0;34m\u001b[0m\u001b[0m\n\u001b[1;32m   1040\u001b[0m             \u001b[0mself\u001b[0m\u001b[0;34m.\u001b[0m\u001b[0m_iterating\u001b[0m \u001b[0;34m=\u001b[0m \u001b[0;32mFalse\u001b[0m\u001b[0;34m\u001b[0m\u001b[0;34m\u001b[0m\u001b[0m\n\u001b[0;32m-> 1041\u001b[0;31m             \u001b[0;32mif\u001b[0m \u001b[0mself\u001b[0m\u001b[0;34m.\u001b[0m\u001b[0mdispatch_one_batch\u001b[0m\u001b[0;34m(\u001b[0m\u001b[0miterator\u001b[0m\u001b[0;34m)\u001b[0m\u001b[0;34m:\u001b[0m\u001b[0;34m\u001b[0m\u001b[0;34m\u001b[0m\u001b[0m\n\u001b[0m\u001b[1;32m   1042\u001b[0m                 \u001b[0mself\u001b[0m\u001b[0;34m.\u001b[0m\u001b[0m_iterating\u001b[0m \u001b[0;34m=\u001b[0m \u001b[0mself\u001b[0m\u001b[0;34m.\u001b[0m\u001b[0m_original_iterator\u001b[0m \u001b[0;32mis\u001b[0m \u001b[0;32mnot\u001b[0m \u001b[0;32mNone\u001b[0m\u001b[0;34m\u001b[0m\u001b[0;34m\u001b[0m\u001b[0m\n\u001b[1;32m   1043\u001b[0m \u001b[0;34m\u001b[0m\u001b[0m\n",
      "\u001b[0;32m~/anaconda3/lib/python3.8/site-packages/joblib/parallel.py\u001b[0m in \u001b[0;36mdispatch_one_batch\u001b[0;34m(self, iterator)\u001b[0m\n\u001b[1;32m    829\u001b[0m                 \u001b[0mbig_batch_size\u001b[0m \u001b[0;34m=\u001b[0m \u001b[0mbatch_size\u001b[0m \u001b[0;34m*\u001b[0m \u001b[0mn_jobs\u001b[0m\u001b[0;34m\u001b[0m\u001b[0;34m\u001b[0m\u001b[0m\n\u001b[1;32m    830\u001b[0m \u001b[0;34m\u001b[0m\u001b[0m\n\u001b[0;32m--> 831\u001b[0;31m                 \u001b[0mislice\u001b[0m \u001b[0;34m=\u001b[0m \u001b[0mlist\u001b[0m\u001b[0;34m(\u001b[0m\u001b[0mitertools\u001b[0m\u001b[0;34m.\u001b[0m\u001b[0mislice\u001b[0m\u001b[0;34m(\u001b[0m\u001b[0miterator\u001b[0m\u001b[0;34m,\u001b[0m \u001b[0mbig_batch_size\u001b[0m\u001b[0;34m)\u001b[0m\u001b[0;34m)\u001b[0m\u001b[0;34m\u001b[0m\u001b[0;34m\u001b[0m\u001b[0m\n\u001b[0m\u001b[1;32m    832\u001b[0m                 \u001b[0;32mif\u001b[0m \u001b[0mlen\u001b[0m\u001b[0;34m(\u001b[0m\u001b[0mislice\u001b[0m\u001b[0;34m)\u001b[0m \u001b[0;34m==\u001b[0m \u001b[0;36m0\u001b[0m\u001b[0;34m:\u001b[0m\u001b[0;34m\u001b[0m\u001b[0;34m\u001b[0m\u001b[0m\n\u001b[1;32m    833\u001b[0m                     \u001b[0;32mreturn\u001b[0m \u001b[0;32mFalse\u001b[0m\u001b[0;34m\u001b[0m\u001b[0;34m\u001b[0m\u001b[0m\n",
      "\u001b[0;32m<ipython-input-14-cfd5af02ce07>\u001b[0m in \u001b[0;36m<genexpr>\u001b[0;34m(.0)\u001b[0m\n\u001b[1;32m      3\u001b[0m     \u001b[0;32mfor\u001b[0m \u001b[0mthr\u001b[0m \u001b[0;32min\u001b[0m \u001b[0;34m[\u001b[0m\u001b[0;36m0.5\u001b[0m\u001b[0;34m,\u001b[0m \u001b[0;36m0.25\u001b[0m\u001b[0;34m,\u001b[0m \u001b[0;36m0.1\u001b[0m\u001b[0;34m,\u001b[0m \u001b[0;36m0.05\u001b[0m\u001b[0;34m,\u001b[0m \u001b[0;36m0.01\u001b[0m\u001b[0;34m,\u001b[0m\u001b[0;36m0.0075\u001b[0m\u001b[0;34m,\u001b[0m\u001b[0;36m0.005\u001b[0m\u001b[0;34m,\u001b[0m\u001b[0;36m0.0025\u001b[0m\u001b[0;34m]\u001b[0m\u001b[0;34m:\u001b[0m\u001b[0;34m\u001b[0m\u001b[0;34m\u001b[0m\u001b[0m\n\u001b[1;32m      4\u001b[0m         \u001b[0;32mfor\u001b[0m \u001b[0mwindow\u001b[0m \u001b[0;32min\u001b[0m \u001b[0;34m[\u001b[0m\u001b[0;36m1\u001b[0m\u001b[0;34m]\u001b[0m\u001b[0;34m:\u001b[0m\u001b[0;34m\u001b[0m\u001b[0;34m\u001b[0m\u001b[0m\n\u001b[0;32m----> 5\u001b[0;31m             \u001b[0mpartial_results\u001b[0m \u001b[0;34m=\u001b[0m \u001b[0mParallel\u001b[0m\u001b[0;34m(\u001b[0m\u001b[0mn_jobs\u001b[0m\u001b[0;34m=\u001b[0m\u001b[0;36m2\u001b[0m\u001b[0;34m,\u001b[0m \u001b[0mprefer\u001b[0m\u001b[0;34m=\u001b[0m\u001b[0;34m\"threads\"\u001b[0m\u001b[0;34m)\u001b[0m\u001b[0;34m(\u001b[0m\u001b[0mdelayed\u001b[0m\u001b[0;34m(\u001b[0m\u001b[0mmake_run\u001b[0m\u001b[0;34m)\u001b[0m\u001b[0;34m(\u001b[0m\u001b[0mthr\u001b[0m\u001b[0;34m,\u001b[0m \u001b[0mwindow\u001b[0m\u001b[0;34m)\u001b[0m \u001b[0;32mfor\u001b[0m \u001b[0mi\u001b[0m \u001b[0;32min\u001b[0m \u001b[0mrange\u001b[0m\u001b[0;34m(\u001b[0m\u001b[0;36m32\u001b[0m\u001b[0;34m)\u001b[0m\u001b[0;34m)\u001b[0m\u001b[0;34m\u001b[0m\u001b[0;34m\u001b[0m\u001b[0m\n\u001b[0m\u001b[1;32m      6\u001b[0m             \u001b[0mresults\u001b[0m\u001b[0;34m.\u001b[0m\u001b[0mappend\u001b[0m\u001b[0;34m(\u001b[0m\u001b[0mpartial_results\u001b[0m\u001b[0;34m)\u001b[0m\u001b[0;34m\u001b[0m\u001b[0;34m\u001b[0m\u001b[0m\n\u001b[1;32m      7\u001b[0m             \u001b[0mpbar\u001b[0m\u001b[0;34m.\u001b[0m\u001b[0mupdate\u001b[0m\u001b[0;34m(\u001b[0m\u001b[0;36m1\u001b[0m\u001b[0;34m)\u001b[0m\u001b[0;34m\u001b[0m\u001b[0;34m\u001b[0m\u001b[0m\n",
      "\u001b[0;31mNameError\u001b[0m: name 'make_run' is not defined"
     ]
    }
   ],
   "source": [
    "results = []\n",
    "with tqdm(total=5*1) as pbar:\n",
    "    for thr in [0.5, 0.25, 0.1, 0.05, 0.01,0.0075,0.005,0.0025]:\n",
    "        for window in [1]:\n",
    "            partial_results = Parallel(n_jobs=2, prefer=\"threads\")(delayed(make_run)(thr, window) for i in range(32))\n",
    "            results.append(partial_results)\n",
    "            pbar.update(1)"
   ]
  },
  {
   "cell_type": "code",
   "execution_count": 32,
   "id": "ef5719af",
   "metadata": {},
   "outputs": [],
   "source": [
    "results_tmp = flatten(results)"
   ]
  },
  {
   "cell_type": "code",
   "execution_count": 34,
   "id": "5a78746f",
   "metadata": {},
   "outputs": [],
   "source": [
    "pd.DataFrame(results_tmp).to_pickle('results_w1_2014.pickle')"
   ]
  },
  {
   "cell_type": "code",
   "execution_count": 35,
   "id": "82e32957",
   "metadata": {},
   "outputs": [],
   "source": [
    "results_w1 = pd.read_pickle('results_w1_2014.pickle')"
   ]
  },
  {
   "cell_type": "code",
   "execution_count": 38,
   "id": "4e77bd78",
   "metadata": {},
   "outputs": [
    {
     "data": {
      "text/html": [
       "<div>\n",
       "<style scoped>\n",
       "    .dataframe tbody tr th:only-of-type {\n",
       "        vertical-align: middle;\n",
       "    }\n",
       "\n",
       "    .dataframe tbody tr th {\n",
       "        vertical-align: top;\n",
       "    }\n",
       "\n",
       "    .dataframe thead th {\n",
       "        text-align: right;\n",
       "    }\n",
       "</style>\n",
       "<table border=\"1\" class=\"dataframe\">\n",
       "  <thead>\n",
       "    <tr style=\"text-align: right;\">\n",
       "      <th></th>\n",
       "      <th>direct_mean</th>\n",
       "      <th>direct_counts</th>\n",
       "      <th>direct_nans</th>\n",
       "      <th>random_direct_mean</th>\n",
       "      <th>random_direct_counts</th>\n",
       "      <th>random_direct_nans</th>\n",
       "      <th>inverted_mean</th>\n",
       "      <th>inverted_counts</th>\n",
       "      <th>inverted_nans</th>\n",
       "      <th>random_inverted_mean</th>\n",
       "      <th>random_inverted_counts</th>\n",
       "      <th>random_inverted_nans</th>\n",
       "      <th>window</th>\n",
       "      <th>thr</th>\n",
       "    </tr>\n",
       "  </thead>\n",
       "  <tbody>\n",
       "    <tr>\n",
       "      <th>0</th>\n",
       "      <td>0.500125</td>\n",
       "      <td>15793258</td>\n",
       "      <td>0.866195</td>\n",
       "      <td>0.500129</td>\n",
       "      <td>15768395</td>\n",
       "      <td>0.867464</td>\n",
       "      <td>0.500162</td>\n",
       "      <td>15806360</td>\n",
       "      <td>1.089926</td>\n",
       "      <td>0.500115</td>\n",
       "      <td>15767133</td>\n",
       "      <td>1.090102</td>\n",
       "      <td>1</td>\n",
       "      <td>0.5000</td>\n",
       "    </tr>\n",
       "    <tr>\n",
       "      <th>1</th>\n",
       "      <td>0.500055</td>\n",
       "      <td>15818866</td>\n",
       "      <td>1.191304</td>\n",
       "      <td>0.500103</td>\n",
       "      <td>15767065</td>\n",
       "      <td>1.192638</td>\n",
       "      <td>0.499942</td>\n",
       "      <td>15798302</td>\n",
       "      <td>0.765129</td>\n",
       "      <td>0.500029</td>\n",
       "      <td>15769153</td>\n",
       "      <td>0.764911</td>\n",
       "      <td>1</td>\n",
       "      <td>0.5000</td>\n",
       "    </tr>\n",
       "    <tr>\n",
       "      <th>2</th>\n",
       "      <td>0.500091</td>\n",
       "      <td>15834164</td>\n",
       "      <td>0.746508</td>\n",
       "      <td>0.500076</td>\n",
       "      <td>15765859</td>\n",
       "      <td>0.748337</td>\n",
       "      <td>0.500101</td>\n",
       "      <td>15829326</td>\n",
       "      <td>1.210853</td>\n",
       "      <td>0.500128</td>\n",
       "      <td>15762777</td>\n",
       "      <td>1.209537</td>\n",
       "      <td>1</td>\n",
       "      <td>0.5000</td>\n",
       "    </tr>\n",
       "    <tr>\n",
       "      <th>3</th>\n",
       "      <td>0.500019</td>\n",
       "      <td>15796653</td>\n",
       "      <td>0.869255</td>\n",
       "      <td>0.500081</td>\n",
       "      <td>15767002</td>\n",
       "      <td>0.869536</td>\n",
       "      <td>0.500071</td>\n",
       "      <td>15809720</td>\n",
       "      <td>1.086072</td>\n",
       "      <td>0.500001</td>\n",
       "      <td>15768910</td>\n",
       "      <td>1.087982</td>\n",
       "      <td>1</td>\n",
       "      <td>0.5000</td>\n",
       "    </tr>\n",
       "    <tr>\n",
       "      <th>4</th>\n",
       "      <td>0.500042</td>\n",
       "      <td>15809648</td>\n",
       "      <td>0.843914</td>\n",
       "      <td>0.500088</td>\n",
       "      <td>15771007</td>\n",
       "      <td>0.844702</td>\n",
       "      <td>0.499980</td>\n",
       "      <td>15812507</td>\n",
       "      <td>1.111445</td>\n",
       "      <td>0.500075</td>\n",
       "      <td>15768514</td>\n",
       "      <td>1.112939</td>\n",
       "      <td>1</td>\n",
       "      <td>0.5000</td>\n",
       "    </tr>\n",
       "    <tr>\n",
       "      <th>...</th>\n",
       "      <td>...</td>\n",
       "      <td>...</td>\n",
       "      <td>...</td>\n",
       "      <td>...</td>\n",
       "      <td>...</td>\n",
       "      <td>...</td>\n",
       "      <td>...</td>\n",
       "      <td>...</td>\n",
       "      <td>...</td>\n",
       "      <td>...</td>\n",
       "      <td>...</td>\n",
       "      <td>...</td>\n",
       "      <td>...</td>\n",
       "      <td>...</td>\n",
       "    </tr>\n",
       "    <tr>\n",
       "      <th>251</th>\n",
       "      <td>0.500634</td>\n",
       "      <td>79122</td>\n",
       "      <td>0.925052</td>\n",
       "      <td>0.499516</td>\n",
       "      <td>79090</td>\n",
       "      <td>0.922291</td>\n",
       "      <td>0.501431</td>\n",
       "      <td>79607</td>\n",
       "      <td>1.036077</td>\n",
       "      <td>0.500248</td>\n",
       "      <td>78845</td>\n",
       "      <td>1.035525</td>\n",
       "      <td>1</td>\n",
       "      <td>0.0025</td>\n",
       "    </tr>\n",
       "    <tr>\n",
       "      <th>252</th>\n",
       "      <td>0.499006</td>\n",
       "      <td>77799</td>\n",
       "      <td>1.017121</td>\n",
       "      <td>0.499751</td>\n",
       "      <td>78580</td>\n",
       "      <td>1.012280</td>\n",
       "      <td>0.500889</td>\n",
       "      <td>80205</td>\n",
       "      <td>0.946525</td>\n",
       "      <td>0.500620</td>\n",
       "      <td>78855</td>\n",
       "      <td>0.949020</td>\n",
       "      <td>1</td>\n",
       "      <td>0.0025</td>\n",
       "    </tr>\n",
       "    <tr>\n",
       "      <th>253</th>\n",
       "      <td>0.501444</td>\n",
       "      <td>78766</td>\n",
       "      <td>0.891476</td>\n",
       "      <td>0.499955</td>\n",
       "      <td>79059</td>\n",
       "      <td>0.890120</td>\n",
       "      <td>0.500840</td>\n",
       "      <td>78902</td>\n",
       "      <td>1.055030</td>\n",
       "      <td>0.499258</td>\n",
       "      <td>78631</td>\n",
       "      <td>1.063397</td>\n",
       "      <td>1</td>\n",
       "      <td>0.0025</td>\n",
       "    </tr>\n",
       "    <tr>\n",
       "      <th>254</th>\n",
       "      <td>0.499008</td>\n",
       "      <td>80094</td>\n",
       "      <td>1.005494</td>\n",
       "      <td>0.500322</td>\n",
       "      <td>78850</td>\n",
       "      <td>1.011224</td>\n",
       "      <td>0.499505</td>\n",
       "      <td>78428</td>\n",
       "      <td>0.956546</td>\n",
       "      <td>0.499643</td>\n",
       "      <td>78885</td>\n",
       "      <td>0.958598</td>\n",
       "      <td>1</td>\n",
       "      <td>0.0025</td>\n",
       "    </tr>\n",
       "    <tr>\n",
       "      <th>255</th>\n",
       "      <td>0.498578</td>\n",
       "      <td>80881</td>\n",
       "      <td>1.325206</td>\n",
       "      <td>0.499903</td>\n",
       "      <td>78596</td>\n",
       "      <td>1.313756</td>\n",
       "      <td>0.500387</td>\n",
       "      <td>77629</td>\n",
       "      <td>0.635729</td>\n",
       "      <td>0.500712</td>\n",
       "      <td>78937</td>\n",
       "      <td>0.636419</td>\n",
       "      <td>1</td>\n",
       "      <td>0.0025</td>\n",
       "    </tr>\n",
       "  </tbody>\n",
       "</table>\n",
       "<p>256 rows × 14 columns</p>\n",
       "</div>"
      ],
      "text/plain": [
       "     direct_mean  direct_counts  direct_nans  random_direct_mean  \\\n",
       "0       0.500125       15793258     0.866195            0.500129   \n",
       "1       0.500055       15818866     1.191304            0.500103   \n",
       "2       0.500091       15834164     0.746508            0.500076   \n",
       "3       0.500019       15796653     0.869255            0.500081   \n",
       "4       0.500042       15809648     0.843914            0.500088   \n",
       "..           ...            ...          ...                 ...   \n",
       "251     0.500634          79122     0.925052            0.499516   \n",
       "252     0.499006          77799     1.017121            0.499751   \n",
       "253     0.501444          78766     0.891476            0.499955   \n",
       "254     0.499008          80094     1.005494            0.500322   \n",
       "255     0.498578          80881     1.325206            0.499903   \n",
       "\n",
       "     random_direct_counts  random_direct_nans  inverted_mean  inverted_counts  \\\n",
       "0                15768395            0.867464       0.500162         15806360   \n",
       "1                15767065            1.192638       0.499942         15798302   \n",
       "2                15765859            0.748337       0.500101         15829326   \n",
       "3                15767002            0.869536       0.500071         15809720   \n",
       "4                15771007            0.844702       0.499980         15812507   \n",
       "..                    ...                 ...            ...              ...   \n",
       "251                 79090            0.922291       0.501431            79607   \n",
       "252                 78580            1.012280       0.500889            80205   \n",
       "253                 79059            0.890120       0.500840            78902   \n",
       "254                 78850            1.011224       0.499505            78428   \n",
       "255                 78596            1.313756       0.500387            77629   \n",
       "\n",
       "     inverted_nans  random_inverted_mean  random_inverted_counts  \\\n",
       "0         1.089926              0.500115                15767133   \n",
       "1         0.765129              0.500029                15769153   \n",
       "2         1.210853              0.500128                15762777   \n",
       "3         1.086072              0.500001                15768910   \n",
       "4         1.111445              0.500075                15768514   \n",
       "..             ...                   ...                     ...   \n",
       "251       1.036077              0.500248                   78845   \n",
       "252       0.946525              0.500620                   78855   \n",
       "253       1.055030              0.499258                   78631   \n",
       "254       0.956546              0.499643                   78885   \n",
       "255       0.635729              0.500712                   78937   \n",
       "\n",
       "     random_inverted_nans  window     thr  \n",
       "0                1.090102       1  0.5000  \n",
       "1                0.764911       1  0.5000  \n",
       "2                1.209537       1  0.5000  \n",
       "3                1.087982       1  0.5000  \n",
       "4                1.112939       1  0.5000  \n",
       "..                    ...     ...     ...  \n",
       "251              1.035525       1  0.0025  \n",
       "252              0.949020       1  0.0025  \n",
       "253              1.063397       1  0.0025  \n",
       "254              0.958598       1  0.0025  \n",
       "255              0.636419       1  0.0025  \n",
       "\n",
       "[256 rows x 14 columns]"
      ]
     },
     "execution_count": 38,
     "metadata": {},
     "output_type": "execute_result"
    }
   ],
   "source": [
    "results_w1"
   ]
  },
  {
   "cell_type": "code",
   "execution_count": 42,
   "id": "74dddd27",
   "metadata": {},
   "outputs": [
    {
     "data": {
      "image/png": "[encoded data removed]",
      "text/plain": [
       "<Figure size 1800x720 with 8 Axes>"
      ]
     },
     "metadata": {
      "needs_background": "light"
     },
     "output_type": "display_data"
    }
   ],
   "source": [
    "window = 1\n",
    "f, axs = plt.subplots(1,8)\n",
    "f.set_figwidth(25)\n",
    "f.set_figheight(10)\n",
    "sorted_ = results_w1.thr.unique()\n",
    "sorted_.sort()\n",
    "for thr, ax in zip(sorted_, axs):\n",
    "\n",
    "    results_tmp = results_w1[(results_w1.window==window)&(results_w1.thr==thr)]\n",
    "    langs = ['Direct test', 'Direct Test Random', 'Inverted mean' , 'Inverted Random']\n",
    "    means = [results_tmp.direct_mean.mean(),\n",
    "            results_tmp.random_direct_mean.mean(),\n",
    "            results_tmp.inverted_mean.mean(),\n",
    "            results_tmp.random_inverted_mean.mean()]\n",
    "    errors = [mean_confidence_interval(results_tmp.direct_mean),\n",
    "            mean_confidence_interval(results_tmp.random_direct_mean),\n",
    "            mean_confidence_interval(results_tmp.inverted_mean),\n",
    "            mean_confidence_interval(results_tmp.random_inverted_mean)]\n",
    "    ax.bar(langs,means,yerr=errors)\n",
    "    ax.set_title(thr)\n",
    "    ax.set_ylim(0.4992, 0.5008)\n",
    "    ax.axhline(y=0.5, color='r', linestyle='-')\n"
   ]
  },
  {
   "cell_type": "code",
   "execution_count": 44,
   "id": "775ca62b",
   "metadata": {},
   "outputs": [
    {
     "data": {
      "image/png": "[encoded data removed]",
      "text/plain": [
       "<Figure size 432x288 with 1 Axes>"
      ]
     },
     "metadata": {
      "needs_background": "light"
     },
     "output_type": "display_data"
    }
   ],
   "source": [
    "import matplotlib.pyplot as plt\n",
    "fig = plt.figure()\n",
    "ax = fig.add_axes([0,0,1,1])\n",
    "langs = ['Direct test', 'Direct Test Random', 'Inverted mean' , 'Inverted Random']\n",
    "means = [results_w1.direct_mean.mean(),\n",
    "         results_w1.random_direct_mean.mean(),\n",
    "         results_w1.inverted_mean.mean(),\n",
    "         results_w1.random_inverted_mean.mean()]\n",
    "errors = [mean_confidence_interval(results_w1.direct_mean),\n",
    "         mean_confidence_interval(results_w1.random_direct_mean),\n",
    "         mean_confidence_interval(results_w1.inverted_mean),\n",
    "         mean_confidence_interval(results_w1.random_inverted_mean)]\n",
    "ax.bar(langs,means,yerr=errors)\n",
    "ax.set_ylim(0.4995, 0.5008)\n",
    "ax.axhline(y=0.5, color='r', linestyle='-')\n",
    "\n",
    "plt.show()"
   ]
  }
 ],
 "metadata": {
  "interpreter": {
   "hash": "d40e74b59a84853038b0beb44709dc5354b0cdd7556e474093a858bd19909221"
  },
  "kernelspec": {
   "display_name": "Python 3",
   "language": "python",
   "name": "python3"
  },
  "language_info": {
   "codemirror_mode": {
    "name": "ipython",
    "version": 3
   },
   "file_extension": ".py",
   "mimetype": "text/x-python",
   "name": "python",
   "nbconvert_exporter": "python",
   "pygments_lexer": "ipython3",
   "version": "3.8.8"
  }
 },
 "nbformat": 4,
 "nbformat_minor": 5
}
