{
 "cells": [
  {
   "cell_type": "markdown",
   "source": [
    "# Initial data preparation\n",
    "\n",
    "To download raw data from Princeton Server - see Readme.\n",
    "This file will read and merge 1 year of data to pandas dataframe with no modifications, while keeping the eggs names and NANs for the parts where no data is available.\n",
    "\n",
    "We will also remove \"rotten eggs\", a.k.a. eggs having more than 20% of year data unavailable, having mean yearly value out of 95% expectatition and final cumulative Z score probabily (under DF = seconds_in_year) out of 95% expectation. We know from original experiments that there are rotten eggs. Plus, we know that that there are eggs with non-neutral standart deviation, arising from the fact that XOR filtering method (link) is guaranteed to remove the bias, but not mean. \n",
    "\n",
    "As for the XOR method general - see sketches/XOR_understanding.ipynb to get impressions of how it works and what std bias it introduces."
   ],
   "metadata": {}
  },
  {
   "cell_type": "code",
   "execution_count": 74,
   "source": [
    "import pandas as pd\n",
    "import csv\n",
    "import numpy as np\n",
    "import matplotlib.pyplot as plt\n",
    "import scipy.stats as stats\n",
    "import math\n",
    "from scipy.stats import chi2\n",
    "import gzip\n",
    "from joblib import Parallel, delayed\n",
    "from tqdm.notebook import trange, tqdm\n",
    "import glob"
   ],
   "outputs": [],
   "metadata": {}
  },
  {
   "cell_type": "code",
   "execution_count": 2,
   "source": [
    "#The 200-bit trial sums have expected mean = 100 and standard deviation = 7.071 (sqrt(N)/2)\n"
   ],
   "outputs": [],
   "metadata": {}
  },
  {
   "cell_type": "code",
   "execution_count": 75,
   "source": [
    "STD_200_FLIPS = math.sqrt(200)/2\n",
    "N_JOBS = 8\n",
    "YEAR = 2014\n",
    "\n",
    "COVERAGE_THR = 0.2"
   ],
   "outputs": [],
   "metadata": {}
  },
  {
   "cell_type": "code",
   "execution_count": 76,
   "source": [
    "def split_into_chunks(data, chunks=8):\n",
    "    return [data[i:i + chunks] for i in range(0, len(data), chunks)]\n",
    "\n",
    "def flatten(t):\n",
    "    return [item for sublist in t for item in sublist]"
   ],
   "outputs": [],
   "metadata": {}
  },
  {
   "cell_type": "code",
   "execution_count": 78,
   "source": [
    "filename = glob.glob('eggsummary/'+str(YEAR)+'/*')[0]\n",
    "with gzip.open(filename, mode='rt') as f:\n",
    "    reader = csv.reader(f)\n",
    "    i=0\n",
    "    for line in reader:\n",
    "        i+=1\n",
    "        if line[0]=='12': \n",
    "            egg_names = line[3:]\n",
    "            break\n",
    "data = pd.read_csv(filename, skiprows=i, names=['rowtype','timestamp','HRtimestamp']+egg_names)"
   ],
   "outputs": [],
   "metadata": {}
  },
  {
   "cell_type": "code",
   "execution_count": 79,
   "source": [
    "# Create real data\n",
    "def read_eggs_by_chunk(chunk, gen_synthetic_version=False):\n",
    "    datas = []\n",
    "    for filename in chunk:\n",
    "        with gzip.open(filename, mode='rt') as f:\n",
    "            reader = csv.reader(f)\n",
    "            i=0\n",
    "            for line in reader:\n",
    "                i+=1\n",
    "                if line[0]=='12': \n",
    "                    egg_names = line[3:]\n",
    "                    break\n",
    "        data = pd.read_csv(filename, skiprows=i, names=['rowtype','timestamp','HRtimestamp']+egg_names)\n",
    "\n",
    "        if not gen_synthetic_version:\n",
    "            datas.append(data)\n",
    "            \n",
    "        \n",
    "        # this block allows to generate fully syntethic version of the dataset, that has NANs in the same places\n",
    "        # as original data. Usefull sanity check - we are not to expect to have any deviations on this dataset.\n",
    "        # If any are found - there's a bug and it should be smashed \n",
    "        else:\n",
    "            syn_data = data.copy()\n",
    "            random_set = np.random.default_rng().binomial(200,0.5,(data.shape[0],data.shape[1]-3))\n",
    "\n",
    "            syn_data.iloc[:,3:] = random_set\n",
    "            mask = data.iloc[:,3:].isna()   \n",
    "            syn_data.iloc[:,3:] = syn_data.iloc[:,3:].where(~mask,other=np.nan)\n",
    "\n",
    "            assert data.iloc[:,3:].isna().sum().sum() == syn_data.iloc[:,3:].isna().sum().sum()\n",
    "\n",
    "            datas.append(syn_data)\n",
    "            \n",
    "    return datas\n"
   ],
   "outputs": [],
   "metadata": {}
  },
  {
   "cell_type": "code",
   "execution_count": 80,
   "source": [
    "file_chunks = split_into_chunks(glob.glob('eggsummary/2014/*'), 8)\n",
    "datas =  Parallel(n_jobs=N_JOBS)(delayed(read_eggs_by_chunk)(i) for i in tqdm(file_chunks))"
   ],
   "outputs": [
    {
     "output_type": "display_data",
     "data": {
      "application/vnd.jupyter.widget-view+json": {
       "version_major": 2,
       "version_minor": 0,
       "model_id": "7db11035c9c843ad9e3ca86c3e3b5b39"
      },
      "text/plain": [
       "  0%|          | 0/46 [00:00<?, ?it/s]"
      ]
     },
     "metadata": {}
    },
    {
     "output_type": "stream",
     "name": "stderr",
     "text": [
      "/home/anonymous/anaconda3/lib/python3.8/site-packages/joblib/externals/loky/process_executor.py:688: UserWarning: A worker stopped while some jobs were given to the executor. This can be caused by a too short worker timeout or by a memory leak.\n",
      "  warnings.warn(\n"
     ]
    }
   ],
   "metadata": {}
  },
  {
   "cell_type": "code",
   "execution_count": 81,
   "source": [
    "datas = flatten(datas)\n",
    "data = datas[0].append(datas[1:])"
   ],
   "outputs": [],
   "metadata": {}
  },
  {
   "cell_type": "code",
   "execution_count": 82,
   "source": [
    "del datas # save some RAM"
   ],
   "outputs": [],
   "metadata": {}
  },
  {
   "cell_type": "code",
   "execution_count": 98,
   "source": [
    "# Looking for rotten eggs\n",
    "BAD_EGGS = set()"
   ],
   "outputs": [],
   "metadata": {}
  },
  {
   "cell_type": "code",
   "execution_count": 99,
   "source": [
    "for i in range(3,data.shape[1]):\n",
    "    tmp_normalized = (data.iloc[:,i]-100)/STD_200_FLIPS\n",
    "    tmp_no_na = tmp_normalized[~np.isnan(tmp_normalized)]\n",
    "    \n",
    "    missing_values = (data.iloc[:,i].isna().sum()/ data.shape[0])\n",
    "    if missing_values>COVERAGE_THR:\n",
    "        print('bad egg missing '+ data.columns[i])\n",
    "        BAD_EGGS.add(data.columns[i])\n",
    "        continue\n",
    "\n",
    "    cumulative_sum = np.cumsum(tmp_normalized[~np.isnan(tmp_normalized)]).iloc[-1]\n",
    "    probability_of_bin_dist = stats.binom_test((tmp_no_na>0).sum(), len(tmp_no_na)-(tmp_no_na==0).sum(), 0.5)\n",
    "\n",
    "    if probability_of_bin_dist<0.05:\n",
    "        print('bad egg '+ data.columns[i])\n",
    "        BAD_EGGS.add(data.columns[i])\n",
    "        continue\n",
    "    \n",
    "   \n",
    "\n",
    "    print(i, ' ',data.columns[i], tmp_normalized.mean(), \n",
    "          missing_values,\n",
    "          cumulative_sum,\n",
    "          probability_of_bin_dist)\n",
    "          "
   ],
   "outputs": [
    {
     "output_type": "stream",
     "name": "stdout",
     "text": [
      "3   1 -0.00010486672695884537 0.09970535261288686 -2977.3438128636344 0.7106917069858326\n",
      "4   37 4.983113295345877e-05 3.170979198376459e-07 1571.474110508946 0.4779616266867555\n",
      "bad egg 103\n",
      "6   108 -1.6947367335382404e-05 0.1262579908675799 -466.9733182956127 0.11699612406809227\n",
      "7   110 -0.0003443595922612068 0.026902587519025876 -10567.56942347501 0.09590436198807503\n",
      "8   111 0.00017445208353553923 0.005054477422628108 5473.7135931653675 0.5838044193791835\n",
      "9   112 7.412333831955948e-05 0.0 2337.5535972456278 0.6400574375683606\n",
      "10   116 0.0001815450113151531 0.006652175291730086 5687.118419725942 0.32512024236151993\n",
      "11   118 0.00012706552383493164 0.05839992389649924 3773.1217844116104 0.9488868801330039\n",
      "12   226 -0.00033318215093655206 0.10803012430238458 -9372.134699202725 0.19273663299961774\n",
      "bad egg missing 228\n",
      "14   231 -6.624460110985767e-05 0.0013603500761035009 -2086.2478472128587 0.17226736433407686\n",
      "15   1021 8.748978061316539e-05 0.05564564307458143 2605.547067315796 0.37255095314403563\n",
      "16   1063 -0.00024568580235345607 4.128614916286149e-05 -7747.627580103926 0.24754378681192243\n",
      "17   1237 -0.00014403258531647003 0.14749498985286658 -3872.2581551339995 0.8923112163370588\n",
      "bad egg missing 1251\n",
      "19   1295 -7.767611981814701e-05 0.14728998604769153 -2088.79343162534 0.2521179030875226\n",
      "20   2000 -0.00047927467006945903 0.06918353627600203 -14068.737939843677 0.23819409219863766\n",
      "21   2001 0.0002339811773794684 0.025130422374429223 7193.397285010381 0.3496175761436776\n",
      "bad egg missing 2002\n",
      "23   2028 0.000184055171140993 0.010989694317605277 5740.57569238485 0.7634068051406194\n",
      "24   2060 8.312962057580663e-05 0.052506976154236426 2483.9247009519827 0.8698687925615533\n",
      "25   2073 -8.116480303704421e-05 0.07835698883815322 -2359.0496433946896 0.7591087000846919\n",
      "26   2080 0.00017667852697425096 0.03721267757483511 5364.394884793142 0.7468293116355884\n",
      "27   2083 2.4218509225456775e-05 0.0880579972095383 696.5001794704391 0.41228710113574824\n",
      "28   2173 5.2318859966181277e-05 0.1773201420598681 1357.362177166126 0.7384760219361741\n",
      "29   2178 -9.45744164547904e-05 0.06057299594114662 -2801.839909773836 0.5135973150456835\n",
      "bad egg missing 2201\n",
      "bad egg missing 2202\n",
      "32   2221 -0.00015438624950967508 2.4099441907661087e-06 -4868.713031182151 0.9297879784550476\n",
      "33   2225 0.000139513017272526 0.169378868594622 3654.46926652863 0.9473479879440881\n",
      "34   2232 2.9368279433326474e-05 0.1781859145104008 761.1297392697958 0.8137596851598987\n",
      "bad egg missing 2241\n",
      "36   2250 -2.6008280591578705e-05 0.07649911212582446 -757.4527840075766 0.7341975912734316\n",
      "37   3101 3.271921923562487e-05 0.0033117706747843732 1028.4161025576973 0.8323113652976619\n",
      "bad egg missing 3104\n",
      "39   3106 -3.6339858792539434e-05 0.03498978944698123 -1105.9150057752015 0.4558564210075987\n",
      "40   3247 -0.00014433080586006013 0.11287281202435312 -4037.8625632880385 0.7275564845927917\n",
      "bad egg missing 1223\n",
      "bad egg missing 2027\n",
      "bad egg missing 2052\n",
      "bad egg missing 4101\n",
      "bad egg missing 1101\n",
      "bad egg missing 2084\n",
      "bad egg missing 105\n",
      "bad egg missing 1092\n",
      "bad egg missing 2006\n",
      "bad egg missing 2047\n",
      "bad egg missing 2220\n",
      "bad egg missing 2222\n",
      "bad egg missing 2234\n",
      "bad egg missing 3066\n",
      "bad egg missing 3115\n",
      "bad egg missing 1004\n",
      "bad egg missing 1070\n",
      "bad egg missing 1096\n",
      "bad egg missing 224\n",
      "bad egg missing 2042\n",
      "bad egg missing 2091\n",
      "bad egg missing 4002\n"
     ]
    }
   ],
   "metadata": {}
  },
  {
   "cell_type": "code",
   "execution_count": 100,
   "source": [
    "BAD_EGGS"
   ],
   "outputs": [
    {
     "output_type": "execute_result",
     "data": {
      "text/plain": [
       "{'1004',\n",
       " '103',\n",
       " '105',\n",
       " '1070',\n",
       " '1092',\n",
       " '1096',\n",
       " '1101',\n",
       " '1223',\n",
       " '1251',\n",
       " '2002',\n",
       " '2006',\n",
       " '2027',\n",
       " '2042',\n",
       " '2047',\n",
       " '2052',\n",
       " '2084',\n",
       " '2091',\n",
       " '2201',\n",
       " '2202',\n",
       " '2220',\n",
       " '2222',\n",
       " '2234',\n",
       " '224',\n",
       " '2241',\n",
       " '228',\n",
       " '3066',\n",
       " '3104',\n",
       " '3115',\n",
       " '4002',\n",
       " '4101'}"
      ]
     },
     "metadata": {},
     "execution_count": 100
    }
   ],
   "metadata": {}
  },
  {
   "cell_type": "code",
   "execution_count": 101,
   "source": [
    "\n",
    "data.sort_values('timestamp',inplace=True)\n",
    "data.drop(BAD_EGGS,axis=1,inplace=True) "
   ],
   "outputs": [],
   "metadata": {}
  },
  {
   "cell_type": "code",
   "execution_count": 102,
   "source": [
    "data.to_parquet('data'+str(YEAR)+'.parquet')"
   ],
   "outputs": [],
   "metadata": {}
  },
  {
   "cell_type": "code",
   "execution_count": 103,
   "source": [
    "del data"
   ],
   "outputs": [],
   "metadata": {}
  },
  {
   "cell_type": "markdown",
   "source": [
    "## data created successfully"
   ],
   "metadata": {}
  },
  {
   "cell_type": "code",
   "execution_count": 104,
   "source": [
    "# here would be nice to do the same but with synthetic data - I haven't done it yet"
   ],
   "outputs": [],
   "metadata": {}
  }
 ],
 "metadata": {
  "kernelspec": {
   "name": "python3",
   "display_name": "Python 3.8.8 64-bit ('base': conda)"
  },
  "language_info": {
   "codemirror_mode": {
    "name": "ipython",
    "version": 3
   },
   "file_extension": ".py",
   "mimetype": "text/x-python",
   "name": "python",
   "nbconvert_exporter": "python",
   "pygments_lexer": "ipython3",
   "version": "3.8.8"
  },
  "interpreter": {
   "hash": "d40e74b59a84853038b0beb44709dc5354b0cdd7556e474093a858bd19909221"
  }
 },
 "nbformat": 4,
 "nbformat_minor": 5
}