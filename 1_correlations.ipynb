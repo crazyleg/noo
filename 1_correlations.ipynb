{
 "cells": [
  {
   "cell_type": "markdown",
   "id": "cc6f60eb-c689-49e3-a804-030bf81e09c1",
   "metadata": {},
   "source": [
    "# Hypothesis\n",
    "1. Simulation owners apply improbability \"force\". \n",
    "1.1. It is constant. \n",
    "1.2. It is applied at \"windows\". \n",
    "\n",
    "How is it applied? Some parts of space start to have more improbable behavior ( Z score -> ). But the whole system has to be balanced, so some parts will have ( Z <- ) -?\n",
    "The points of application will be not in RNG? Then RNG should \"compensate\" for that by beeing \"very probable\" - Z < 0.05?\n",
    "\n",
    "Or it will \"dancing close\" to 0.5 expectation?\n",
    "\n",
    "# Correlations\n",
    "1. We assume that effect is strong the behavior will be syncronized. Bootstaping idea. Select 50% generators - find regions of z>0.05, check other 50% same time. if their Z is >0.05 in 5% cases -> we win.\n",
    "\n",
    "\n",
    "# if for such things and solar ecclipse it has indeed local effects, than "
   ]
  },
  {
   "cell_type": "code",
   "execution_count": 1,
   "id": "1d3f29ab-d9b4-42f6-920c-55a76ed894a4",
   "metadata": {},
   "outputs": [],
   "source": [
    "# I think that 6 hours timeslot is interesting"
   ]
  },
  {
   "cell_type": "code",
   "execution_count": 4,
   "id": "83567ca7-955e-4fcb-baa4-2d1a1671280b",
   "metadata": {},
   "outputs": [],
   "source": [
    "import pandas as pd\n",
    "import csv\n",
    "import numpy as np\n",
    "import matplotlib.pyplot as plt\n",
    "import scipy.stats as stats\n",
    "import math\n",
    "from scipy.stats import chi2\n",
    "import gzip\n",
    "from tqdm.notebook import trange, tqdm\n",
    "import glob\n",
    "import random\n",
    "import seaborn as sns\n",
    "from joblib import Parallel, delayed\n",
    "import scipy as sp\n",
    "from statsmodels.stats.proportion import proportion_confint\n"
   ]
  },
  {
   "cell_type": "code",
   "execution_count": 3,
   "id": "acdf68aa-4ecf-4646-99d0-e143c1b349cb",
   "metadata": {},
   "outputs": [],
   "source": [
    "STD_200_FLIPS = math.sqrt(200)/2"
   ]
  },
  {
   "cell_type": "code",
   "execution_count": 4,
   "id": "3a9cf96a-a58a-4bf0-8c73-f65c844bb332",
   "metadata": {},
   "outputs": [],
   "source": [
    "data = pd.read_parquet('data2019.parquet')\n",
    "# data.drop(['2049','2232'],axis=1,inplace=True)"
   ]
  },
  {
   "cell_type": "code",
   "execution_count": 5,
   "id": "a53de5db-dcbc-4dfb-9160-01e257125e4b",
   "metadata": {},
   "outputs": [],
   "source": [
    "eggs = list(set(data.columns[3:]))"
   ]
  },
  {
   "cell_type": "code",
   "execution_count": 6,
   "id": "e90a69af-969d-434d-894e-fb85bce7bb7a",
   "metadata": {},
   "outputs": [
    {
     "name": "stdout",
     "output_type": "stream",
     "text": [
      "(31278900, 28) 362.0243055555556\n"
     ]
    }
   ],
   "source": [
    "print(data.shape, data.shape[0]/60/60/24)"
   ]
  },
  {
   "cell_type": "code",
   "execution_count": 7,
   "id": "2652f37d-4e8b-4731-8c10-9ba227933781",
   "metadata": {},
   "outputs": [
    {
     "name": "stdout",
     "output_type": "stream",
     "text": [
      "3   1 -9.04855753439853e-05 9.014901419167554 0.8228697517392679\n",
      "4   37 -0.00025007338868176447 0.027187656854940553 0.8334557276167558\n",
      "5   112 0.0002967970207749757 0.030691616393159607 0.10802056346131722\n",
      "6   226 0.0002726799484135822 46.872866373178084 0.5432883609104624\n",
      "7   1021 0.0002949898752944855 0.334819958502377 0.07067149850565532\n",
      "8   1070 2.0618740657938224e-07 47.372513099885225 0.7940335043671601\n",
      "9   1092 -0.00022830272202011868 49.10773716467011 0.2844938688812735\n",
      "10   1237 1.8087446459459115e-05 16.635316459338405 0.7668173125389681\n",
      "11   2000 -0.0001681997460102941 0.004344781945656657 0.28460852571763384\n",
      "12   2028 -7.970531928963866e-05 6.630281116023901 0.6874613314713868\n",
      "13   2080 0.00018930503439899233 7.295470748651647 0.5129945973485107\n",
      "14   2083 3.3318477831303945e-05 17.304700612873212 0.667700321188304\n",
      "15   2178 -0.00015557768516716132 0.1276643360220468 0.6375573075205551\n",
      "16   2221 0.0001282880497192171 12.395576570787336 0.4972289550268238\n",
      "17   2241 -0.00016569771832132784 22.143579217939248 0.6392577823569585\n",
      "18   2250 8.173987516318527e-05 21.20067521556065 0.5399326207682388\n",
      "19   3101 0.000145993942505516 6.971897988740013 0.32158751071680863\n",
      "20   3106 7.413621652789488e-05 2.2021842200333133 0.35534190920280934\n",
      "21   3247 -0.00028436942322356516 3.7736749054474426 0.07544817509816773\n",
      "22   4234 -5.469263684798786e-05 8.346572289946257 0.7081496468698256\n",
      "23   3066 0.00047674469888531423 32.95121311810838 0.08941190425712128\n",
      "24   3108 3.2988201170557206e-05 17.55951775797742 0.49654979707720825\n"
     ]
    }
   ],
   "source": [
    "# there is an issue this one egg it seems - looking for it\n",
    "# \n",
    "for i in range(3,data.shape[1]-3):\n",
    "    tmp = (data.iloc[:,i]-100)/STD_200_FLIPS\n",
    "    tmp_no_na = tmp[~np.isnan(tmp)]\n",
    "    print(i, ' ',data.columns[i], tmp.mean(), \n",
    "          (data.iloc[:,i].isna().sum()/ data.shape[0])*100, \n",
    "#           np.cumsum(tmp[~np.isnan(tmp)]).iloc[-1],\n",
    "          stats.binom_test((tmp_no_na>0).sum(),len(tmp_no_na)-(tmp_no_na==0).sum(),0.5))"
   ]
  },
  {
   "cell_type": "code",
   "execution_count": 8,
   "id": "76184cc1",
   "metadata": {},
   "outputs": [
    {
     "data": {
      "text/plain": [
       "7.0710678118654755"
      ]
     },
     "execution_count": 8,
     "metadata": {},
     "output_type": "execute_result"
    }
   ],
   "source": [
    "STD_200_FLIPS"
   ]
  },
  {
   "cell_type": "code",
   "execution_count": 9,
   "id": "7ddfcd86",
   "metadata": {},
   "outputs": [],
   "source": [
    "data_std = data.std(axis=0)[3:]"
   ]
  },
  {
   "cell_type": "code",
   "execution_count": 19,
   "id": "9902c54e-655a-42a5-8cf2-dc98d9b9c8be",
   "metadata": {},
   "outputs": [],
   "source": [
    "def make_a_data_split(data, use_real_std=False):\n",
    "    eggs = set(data.columns[3:])\n",
    "    \n",
    "    if use_real_std:\n",
    "        STD_200_FLIPS = data_std\n",
    "    else:\n",
    "        STD_200_FLIPS = math.sqrt(200)/2\n",
    "        \n",
    "    \n",
    "    test_eggs = list(random.sample(eggs,len(eggs)//2))\n",
    "    control_eggs = list(set(eggs) - set(test_eggs))\n",
    "\n",
    "    assert set(test_eggs) - set(control_eggs) == set(test_eggs)\n",
    "\n",
    "    test_data = data[test_eggs]\n",
    "    z_norm_test = ((test_data-100)/STD_200_FLIPS).sum(axis=1)/np.sqrt(test_data.shape[1]-test_data.isna().sum(axis=1))\n",
    "\n",
    "    control_data = data[control_eggs]\n",
    "    z_norm_control = ((control_data-100)/STD_200_FLIPS).sum(axis=1)/np.sqrt(control_data.shape[1]-control_data.isna().sum(axis=1))\n",
    "    \n",
    "    return z_norm_test, z_norm_control"
   ]
  },
  {
   "cell_type": "code",
   "execution_count": 20,
   "id": "8dfcff77-8cf0-4aca-8b37-a9f0391b0d84",
   "metadata": {},
   "outputs": [],
   "source": [
    "z_norm_test, z_norm_control = make_a_data_split(data, use_real_std=True)"
   ]
  },
  {
   "cell_type": "code",
   "execution_count": 21,
   "id": "be1a428d-7556-411d-a0d8-55fd8e9fc0ed",
   "metadata": {},
   "outputs": [
    {
     "data": {
      "text/plain": [
       "[<matplotlib.lines.Line2D at 0x2619f383fa0>]"
      ]
     },
     "execution_count": 21,
     "metadata": {},
     "output_type": "execute_result"
    },
    {
     "data": {
      "image/png": "[encoded data removed]",
      "text/plain": [
       "<Figure size 432x288 with 1 Axes>"
      ]
     },
     "metadata": {
      "needs_background": "light"
     },
     "output_type": "display_data"
    }
   ],
   "source": [
    "plt.plot(list(range(len(z_norm_test))), np.cumsum(z_norm_test**2-1))\n",
    "plt.plot(list(range(len(z_norm_control))), np.cumsum(z_norm_control**2-1))"
   ]
  },
  {
   "cell_type": "code",
   "execution_count": 22,
   "id": "c8b9d4f5-1113-4c34-a787-dd160e9aab3e",
   "metadata": {},
   "outputs": [],
   "source": [
    "def divisorGenerator(n):\n",
    "    large_divisors = []\n",
    "    for i in range(1, int(math.sqrt(n) + 1)):\n",
    "        if n % i == 0:\n",
    "            yield i\n",
    "            if i*i != n:\n",
    "                large_divisors.append(n / i)\n",
    "    for divisor in reversed(large_divisors):\n",
    "        yield divisor"
   ]
  },
  {
   "cell_type": "code",
   "execution_count": 23,
   "id": "040a9a52",
   "metadata": {},
   "outputs": [
    {
     "data": {
      "text/plain": [
       "index\n",
       "0        1.609872\n",
       "1       -0.983636\n",
       "2        0.134559\n",
       "3        0.402465\n",
       "4       -0.804795\n",
       "           ...   \n",
       "86395   -0.750282\n",
       "86396    1.099878\n",
       "86397    1.149703\n",
       "86398    0.249310\n",
       "86399    0.799573\n",
       "Length: 31278900, dtype: float64"
      ]
     },
     "execution_count": 23,
     "metadata": {},
     "output_type": "execute_result"
    }
   ],
   "source": [
    "z_norm_test"
   ]
  },
  {
   "cell_type": "markdown",
   "id": "9218d000-4f7b-429a-a587-3df628cc1722",
   "metadata": {},
   "source": [
    "# Idea 1.\n",
    "\n",
    "The direction of Z-score change will correlate. We can analyse by splitting in chunk, or having sliding windows scan.\n",
    "P.S. Side note - this is mostly sanity check. I don't think DIRECTION actually matters as per original motivation behind XOR approach."
   ]
  },
  {
   "cell_type": "markdown",
   "id": "f02b4037-fe2f-4ee5-a634-bf0eb275a48a",
   "metadata": {},
   "source": [
    "### splits hypothesis"
   ]
  },
  {
   "cell_type": "code",
   "execution_count": 24,
   "id": "45f13289-2d54-4c19-a8c5-5a8f5c3c95eb",
   "metadata": {},
   "outputs": [],
   "source": [
    "r = np.sign(np.array(z_norm_control).reshape(-1,1).cumsum(axis=1)[:,-1]) == \\\n",
    "            np.sign(np.array(z_norm_test).reshape(-1,1).cumsum(axis=1)[:,-1])"
   ]
  },
  {
   "cell_type": "code",
   "execution_count": 25,
   "id": "d10269a0",
   "metadata": {},
   "outputs": [
    {
     "data": {
      "text/plain": [
       "(31278900, 1)"
      ]
     },
     "execution_count": 25,
     "metadata": {},
     "output_type": "execute_result"
    }
   ],
   "source": [
    "np.array(z_norm_control).reshape(-1,1).cumsum(axis=1).shape"
   ]
  },
  {
   "cell_type": "code",
   "execution_count": 26,
   "id": "3227c3d4-9e1b-4df2-a683-3b946500c88e",
   "metadata": {},
   "outputs": [
    {
     "data": {
      "text/plain": [
       "0.4999492309512163"
      ]
     },
     "execution_count": 26,
     "metadata": {},
     "output_type": "execute_result"
    }
   ],
   "source": [
    "r.mean()"
   ]
  },
  {
   "cell_type": "code",
   "execution_count": 28,
   "id": "69b44a52-3778-44df-b0f0-7e5073bc9d36",
   "metadata": {},
   "outputs": [
    {
     "data": {
      "application/vnd.jupyter.widget-view+json": {
       "model_id": "360a1276e04443b7a01e7fe3c34953a5",
       "version_major": 2,
       "version_minor": 0
      },
      "text/plain": [
       "  0%|          | 0/5 [00:00<?, ?it/s]"
      ]
     },
     "metadata": {},
     "output_type": "display_data"
    },
    {
     "data": {
      "application/vnd.jupyter.widget-view+json": {
       "model_id": "5d17532f82974c70b185dfb778dbd633",
       "version_major": 2,
       "version_minor": 0
      },
      "text/plain": [
       "  0%|          | 0/72 [00:00<?, ?it/s]"
      ]
     },
     "metadata": {},
     "output_type": "display_data"
    },
    {
     "data": {
      "application/vnd.jupyter.widget-view+json": {
       "model_id": "daed2f7f703b4784a13c266619180dec",
       "version_major": 2,
       "version_minor": 0
      },
      "text/plain": [
       "  0%|          | 0/72 [00:00<?, ?it/s]"
      ]
     },
     "metadata": {},
     "output_type": "display_data"
    },
    {
     "data": {
      "application/vnd.jupyter.widget-view+json": {
       "model_id": "fd668073229e4d08bc4cd18541d3207a",
       "version_major": 2,
       "version_minor": 0
      },
      "text/plain": [
       "  0%|          | 0/72 [00:00<?, ?it/s]"
      ]
     },
     "metadata": {},
     "output_type": "display_data"
    },
    {
     "data": {
      "application/vnd.jupyter.widget-view+json": {
       "model_id": "244496e148984f6c86711f55337f3d0e",
       "version_major": 2,
       "version_minor": 0
      },
      "text/plain": [
       "  0%|          | 0/72 [00:00<?, ?it/s]"
      ]
     },
     "metadata": {},
     "output_type": "display_data"
    },
    {
     "data": {
      "application/vnd.jupyter.widget-view+json": {
       "model_id": "2c8df4702e1e4c8fa253fd12ffa50093",
       "version_major": 2,
       "version_minor": 0
      },
      "text/plain": [
       "  0%|          | 0/72 [00:00<?, ?it/s]"
      ]
     },
     "metadata": {},
     "output_type": "display_data"
    }
   ],
   "source": [
    "result = []\n",
    "\n",
    "for iteration in tqdm(range(5)):\n",
    "    z_norm_test, z_norm_control = make_a_data_split(data, use_real_std=True)\n",
    "    for divisor in tqdm(list(divisorGenerator(z_norm_control.shape[0]))):\n",
    "        divisor=int(divisor)\n",
    "        zc = np.array(z_norm_control).reshape(-1,divisor).cumsum(axis=1)[:,-1]\n",
    "        zt = np.array(z_norm_test).reshape(-1,divisor).cumsum(axis=1)[:,-1]\n",
    "        \n",
    "        r = np.sign(zc) == \\\n",
    "            np.sign(zt)\n",
    "        r = r[~((np.isnan(zc)) | (np.isnan(zt)) | (zc==0) | (zt==0))]\n",
    "        result.append({'it':iteration, 'div':divisor, 'p':stats.binom_test(r.sum(),len(r),0.5,'two-sided')})\n"
   ]
  },
  {
   "cell_type": "code",
   "execution_count": 29,
   "id": "54972787-984e-4665-822e-a58b1375811d",
   "metadata": {
    "scrolled": true
   },
   "outputs": [
    {
     "data": {
      "text/plain": [
       "<AxesSubplot:xlabel='div', ylabel='p'>"
      ]
     },
     "execution_count": 29,
     "metadata": {},
     "output_type": "execute_result"
    },
    {
     "data": {
      "image/png": "[encoded data removed]",
      "text/plain": [
       "<Figure size 432x288 with 1 Axes>"
      ]
     },
     "metadata": {
      "needs_background": "light"
     },
     "output_type": "display_data"
    }
   ],
   "source": [
    "tmp = pd.DataFrame(result).groupby('div').mean()\n",
    "tmp = tmp.reset_index()\n",
    "f, ax = plt.subplots()\n",
    "ax.set(xscale='log')\n",
    "sns.lineplot(x=tmp['div'],y=tmp['p'])"
   ]
  },
  {
   "cell_type": "markdown",
   "id": "0606ce18-8fb5-4088-8cb4-c898cb7af234",
   "metadata": {},
   "source": [
    "Ok, sanity passed, nothing unexpected in general. \n",
    "\n",
    "## Idea 2. Moments of High Z score ( irrespectfull of direction ) are correlated"
   ]
  },
  {
   "cell_type": "code",
   "execution_count": 30,
   "id": "660e1ef7",
   "metadata": {},
   "outputs": [
    {
     "data": {
      "text/plain": [
       "[1,\n",
       " 2,\n",
       " 3,\n",
       " 4,\n",
       " 5,\n",
       " 6,\n",
       " 10,\n",
       " 12,\n",
       " 15,\n",
       " 20,\n",
       " 25,\n",
       " 30,\n",
       " 41,\n",
       " 50,\n",
       " 60,\n",
       " 75,\n",
       " 82,\n",
       " 100,\n",
       " 123,\n",
       " 150,\n",
       " 164,\n",
       " 205,\n",
       " 246,\n",
       " 300,\n",
       " 410,\n",
       " 492,\n",
       " 615,\n",
       " 820,\n",
       " 1025,\n",
       " 1230,\n",
       " 2050,\n",
       " 2460,\n",
       " 2543,\n",
       " 3075,\n",
       " 4100,\n",
       " 5086,\n",
       " 6150.0,\n",
       " 7629.0]"
      ]
     },
     "execution_count": 30,
     "metadata": {},
     "output_type": "execute_result"
    }
   ],
   "source": [
    "list(divisorGenerator(z_norm_control.shape[0]))[:38]"
   ]
  },
  {
   "cell_type": "code",
   "execution_count": 13,
   "id": "4f3e955a",
   "metadata": {},
   "outputs": [],
   "source": [
    "thrs = [0.15, 0.1, 0.05, 0.025, 0.01,0.0075, 0.005, 0.0025, 0.001]"
   ]
  },
  {
   "cell_type": "code",
   "execution_count": 31,
   "id": "3135dabd-0a2c-4e88-a40a-f5774ebf36d8",
   "metadata": {},
   "outputs": [
    {
     "data": {
      "application/vnd.jupyter.widget-view+json": {
       "model_id": "afcc88d9d2eb460f96c81e4252eb5ee9",
       "version_major": 2,
       "version_minor": 0
      },
      "text/plain": [
       "  0%|          | 0/50 [00:00<?, ?it/s]"
      ]
     },
     "metadata": {},
     "output_type": "display_data"
    },
    {
     "name": "stderr",
     "output_type": "stream",
     "text": [
      "<ipython-input-31-b7c4d619d03d>:36: RuntimeWarning: Mean of empty slice.\n",
      "  'mean2':second_control.mean(),\n",
      "C:\\ProgramData\\Anaconda3\\lib\\site-packages\\numpy\\core\\_methods.py:188: RuntimeWarning: invalid value encountered in double_scalars\n",
      "  ret = ret.dtype.type(ret / rcount)\n",
      "C:\\ProgramData\\Anaconda3\\lib\\site-packages\\numpy\\core\\_methods.py:261: RuntimeWarning: Degrees of freedom <= 0 for slice\n",
      "  ret = _var(a, axis=axis, dtype=dtype, out=out, ddof=ddof,\n",
      "C:\\ProgramData\\Anaconda3\\lib\\site-packages\\numpy\\core\\_methods.py:221: RuntimeWarning: invalid value encountered in true_divide\n",
      "  arrmean = um.true_divide(arrmean, div, out=arrmean, casting='unsafe',\n",
      "C:\\ProgramData\\Anaconda3\\lib\\site-packages\\numpy\\core\\_methods.py:253: RuntimeWarning: invalid value encountered in double_scalars\n",
      "  ret = ret.dtype.type(ret / rcount)\n",
      "C:\\ProgramData\\Anaconda3\\lib\\site-packages\\numpy\\core\\fromnumeric.py:3419: RuntimeWarning: Mean of empty slice.\n",
      "  return _methods._mean(a, axis=axis, dtype=dtype,\n",
      "<ipython-input-31-b7c4d619d03d>:32: RuntimeWarning: Mean of empty slice.\n",
      "  'mean':test_probas.mean(),\n"
     ]
    }
   ],
   "source": [
    "# TODO Make this computation parallel\n",
    "# Todo account for standart deviations\n",
    "# check on another year\n",
    "# find a \"opportunity window\" and scan with sliding window\n",
    "\n",
    "result = []\n",
    "for iteration in tqdm(range(50)):\n",
    "    z_norm_test, z_norm_control = make_a_data_split(data, use_real_std=True)\n",
    "    z_norm_control = np.array(z_norm_control)**2\n",
    "    z_norm_test = np.array(z_norm_test)**2\n",
    "    \n",
    "    for divisor in list(divisorGenerator(z_norm_control.shape[0]))[:40]:\n",
    "        divisor = int(divisor)\n",
    "        \n",
    "        zc_raw = z_norm_control.reshape(-1,divisor).cumsum(axis=1)[:,-1]\n",
    "        zt_raw = z_norm_test.reshape(-1,divisor).cumsum(axis=1)[:,-1]\n",
    "        \n",
    "        for thr in thrs:\n",
    "            control_probas = stats.chi2.sf(zc_raw,df=divisor)\n",
    "            r1 = ~((np.isnan(zc_raw)) | (zc_raw==0)| (zt_raw==0)|(np.isnan(zt_raw))) & (control_probas<thr)\n",
    "            \n",
    "            q=(control_probas<thr).mean()\n",
    "            r2 = ~((np.isnan(zc_raw)) | (zc_raw==0)| (zt_raw==0)|(np.isnan(zt_raw))) & (np.random.choice(a=[False, True], size=control_probas.shape, p=[1-q,q]))\n",
    "            \n",
    "            \n",
    "            test_probas = stats.chi2.sf(zt_raw[r1],df=divisor)\n",
    "            second_control =stats.chi2.sf(zt_raw[r2],df=divisor)\n",
    "\n",
    "            result.append({    'it':iteration, \n",
    "                               'div':divisor, \n",
    "                               'thr':thr,\n",
    "                               'mean':test_probas.mean(),\n",
    "                               'std':test_probas.std(),\n",
    "                               'median':np.median(test_probas),\n",
    "                               'raw_values':test_probas,\n",
    "                               'mean2':second_control.mean(),\n",
    "                               'std2':second_control.std(),\n",
    "                               'median2':np.median(second_control),\n",
    "                               'raw_values2':second_control})\n",
    "    "
   ]
  },
  {
   "cell_type": "code",
   "execution_count": 32,
   "id": "ec9ea965-c47d-4cae-82c8-071f6e30c78f",
   "metadata": {},
   "outputs": [],
   "source": [
    "tmp = pd.DataFrame(result)"
   ]
  },
  {
   "cell_type": "code",
   "execution_count": 35,
   "id": "ecacf0ad",
   "metadata": {},
   "outputs": [],
   "source": [
    "tmp.to_pickle('results.pickle')"
   ]
  },
  {
   "cell_type": "code",
   "execution_count": 6,
   "id": "f5104482",
   "metadata": {},
   "outputs": [],
   "source": [
    "tmp = pd.read_pickle('results.pickle')"
   ]
  },
  {
   "cell_type": "code",
   "execution_count": 7,
   "id": "7804c2ae-41f4-40a2-945a-0cf697db5416",
   "metadata": {},
   "outputs": [],
   "source": [
    "tmp['m1_ci']=1.96*tmp['std']/np.sqrt(tmp['div'].shape[0])\n",
    "tmp['m2_ci']=1.96*tmp['std2']/np.sqrt(tmp['div'].shape[0])"
   ]
  },
  {
   "cell_type": "code",
   "execution_count": 34,
   "id": "360402dc-be12-40ff-8aea-8b87e9573cd2",
   "metadata": {},
   "outputs": [
    {
     "data": {
      "image/png": "[encoded data removed]",
      "text/plain": [
       "<Figure size 1080x1080 with 6 Axes>"
      ]
     },
     "metadata": {
      "needs_background": "light"
     },
     "output_type": "display_data"
    }
   ],
   "source": [
    "fig, axs = plt.subplots(3, 2,figsize=(15,15))\n",
    "\n",
    "i = 0\n",
    "for ax_x in axs:\n",
    "    for ax in ax_x:\n",
    "        \n",
    "        q = tmp[tmp['thr']==thrs[i]]\n",
    "        ci = q.groupby(['div']).std()/math.sqrt(30)*1.96\n",
    "        q = q.groupby('div').mean()\n",
    "        ax.scatter(q.index, q['mean'], alpha=0.5)\n",
    "        ax.scatter(q.index, q['mean2'], alpha=0.5)\n",
    "        ax.fill_between(q.index, (q['mean']-ci['mean']), (q['mean']+ci['mean']), color='b', alpha=.1)\n",
    "        ax.fill_between(q.index, (q['mean2']-ci['mean2']), (q['mean2']+ci['mean2']), color='r', alpha=.1)\n",
    "        ax.set_xscale('log')\n",
    "        ax.set_ylim([0.497,0.503])\n",
    "        ax.set_xlim([0.9,1000])\n",
    "        ax.set_title(thrs[i])\n",
    "        \n",
    "        i+=1"
   ]
  },
  {
   "cell_type": "code",
   "execution_count": 31,
   "id": "afbd8d4c",
   "metadata": {},
   "outputs": [],
   "source": [
    "tmp['size_vec']=tmp.raw_values.apply(lambda x: len(x))"
   ]
  },
  {
   "cell_type": "code",
   "execution_count": 32,
   "id": "28f81480",
   "metadata": {},
   "outputs": [
    {
     "data": {
      "text/plain": [
       "div    thr   \n",
       "1      0.0010     31383.08\n",
       "       0.0025     78267.22\n",
       "       0.0050    159999.26\n",
       "       0.0075    239520.32\n",
       "       0.0100    312207.72\n",
       "                   ...    \n",
       "12300  0.0050        12.42\n",
       "       0.0075        18.78\n",
       "       0.0100        24.84\n",
       "       0.0250        65.28\n",
       "       0.0500       127.62\n",
       "Name: size_vec, Length: 280, dtype: float64"
      ]
     },
     "execution_count": 32,
     "metadata": {},
     "output_type": "execute_result"
    }
   ],
   "source": [
    "tmp.groupby(['div','thr']).mean().size_vec"
   ]
  },
  {
   "cell_type": "code",
   "execution_count": 9,
   "id": "23bb5fa3-31de-4a36-bf7b-b8b5b9a7b534",
   "metadata": {},
   "outputs": [
    {
     "name": "stderr",
     "output_type": "stream",
     "text": [
      "<ipython-input-9-dec4e013e8dc>:7: UserWarning: Attempted to set non-positive left xlim on a log-scaled axis.\n",
      "Invalid limit will be ignored.\n",
      "  plt.xlim([0,1000])\n"
     ]
    },
    {
     "data": {
      "text/plain": [
       "(0.6244601721267029, 1000)"
      ]
     },
     "execution_count": 9,
     "metadata": {},
     "output_type": "execute_result"
    },
    {
     "data": {
      "image/png": "[encoded data removed]",
      "text/plain": [
       "<Figure size 432x288 with 1 Axes>"
      ]
     },
     "metadata": {
      "needs_background": "light"
     },
     "output_type": "display_data"
    }
   ],
   "source": []
  },
  {
   "cell_type": "code",
   "execution_count": 21,
   "id": "cfdc5ad5-1cbb-46d4-bb30-3198a54f8ff7",
   "metadata": {},
   "outputs": [],
   "source": [
    "def plot_ci_manual(t, s_err, n, x, x2, y2, ax=None):\n",
    "    \"\"\"Return an axes of confidence bands using a simple approach.\n",
    "\n",
    "    Notes\n",
    "    -----\n",
    "    .. math:: \\left| \\: \\hat{\\mu}_{y|x0} - \\mu_{y|x0} \\: \\right| \\; \\leq \\; T_{n-2}^{.975} \\; \\hat{\\sigma} \\; \\sqrt{\\frac{1}{n}+\\frac{(x_0-\\bar{x})^2}{\\sum_{i=1}^n{(x_i-\\bar{x})^2}}}\n",
    "    .. math:: \\hat{\\sigma} = \\sqrt{\\sum_{i=1}^n{\\frac{(y_i-\\hat{y})^2}{n-2}}}\n",
    "\n",
    "    References\n",
    "    ----------\n",
    "    .. [1] M. Duarte.  \"Curve fitting,\" Jupyter Notebook.\n",
    "       http://nbviewer.ipython.org/github/demotu/BMC/blob/master/notebooks/CurveFitting.ipynb\n",
    "\n",
    "    \"\"\"\n",
    "    if ax is None:\n",
    "        ax = plt.gca()\n",
    "\n",
    "    ci = t * s_err * np.sqrt(1/n + (x2 - np.mean(x))**2 / np.sum((x - np.mean(x))**2))\n",
    "    ax.fill_between(x2, y2 + ci, y2 - ci, color=\"b\", alpha=.1)\n",
    "\n",
    "    return ax\n",
    "\n",
    "def plot_ci_bootstrap(xs, ys, resid, nboot=500, ax=None):\n",
    "    \"\"\"Return an axes of confidence bands using a bootstrap approach.\n",
    "\n",
    "    Notes\n",
    "    -----\n",
    "    The bootstrap approach iteratively resampling residuals.\n",
    "    It plots `nboot` number of straight lines and outlines the shape of a band.\n",
    "    The density of overlapping lines indicates improved confidence.\n",
    "\n",
    "    Returns\n",
    "    -------\n",
    "    ax : axes\n",
    "        - Cluster of lines\n",
    "        - Upper and Lower bounds (high and low) (optional)  Note: sensitive to outliers\n",
    "\n",
    "    References\n",
    "    ----------\n",
    "    .. [1] J. Stults. \"Visualizing Confidence Intervals\", Various Consequences.\n",
    "       http://www.variousconsequences.com/2010/02/visualizing-confidence-intervals.html\n",
    "\n",
    "    \"\"\" \n",
    "    if ax is None:\n",
    "        ax = plt.gca()\n",
    "\n",
    "    bootindex = sp.random.randint\n",
    "\n",
    "    for _ in range(nboot):\n",
    "        resamp_resid = resid[bootindex(0, len(resid) - 1, len(resid))]\n",
    "#         print(xs.shape,ys.shape,resid.shape, resamp_resid.shape)\n",
    "        # Make coeffs of for polys\n",
    "        pc = np.polyfit(xs, ys + resamp_resid, 1)                   \n",
    "        # Plot bootstrap cluster\n",
    "        ax.plot(xs, np.polyval(pc, xs), \"b-\", linewidth=2, alpha=3.0 / float(nboot))\n",
    "\n",
    "    return ax\n",
    "\n",
    "def equation(a, b):\n",
    "    \"\"\"Return a 1D polynomial.\"\"\"\n",
    "    return np.polyval(a, b) \n",
    "\n",
    "# y_model = equation(p, q.index)     "
   ]
  },
  {
   "cell_type": "code",
   "execution_count": null,
   "id": "37486544",
   "metadata": {},
   "outputs": [],
   "source": []
  },
  {
   "cell_type": "code",
   "execution_count": 22,
   "id": "a1c0099a-9356-4a7f-b4f5-2983300675a1",
   "metadata": {},
   "outputs": [
    {
     "data": {
      "text/plain": [
       "<AxesSubplot:>"
      ]
     },
     "execution_count": 22,
     "metadata": {},
     "output_type": "execute_result"
    },
    {
     "data": {
      "image/png": "[encoded data removed]",
      "text/plain": [
       "<Figure size 432x288 with 1 Axes>"
      ]
     },
     "metadata": {
      "needs_background": "light"
     },
     "output_type": "display_data"
    }
   ],
   "source": [
    "q = tmp[tmp['thr']==0.01].groupby('div').mean()\n",
    "q = q[q.index<1e5]\n",
    "\n",
    "x=q.index[~np.isnan(q['mean'])]\n",
    "y=q[~np.isnan(q['mean'])]['mean']\n",
    "p, cov = np.polyfit(x, y, 1, cov=True)\n",
    "\n",
    "y_model = equation(p, x)   \n",
    "\n",
    "# Statistics\n",
    "n = x.shape[0]                                           # number of observations\n",
    "m = p.size                                                 # number of parameters\n",
    "dof = n - m                                                # degrees of freedom\n",
    "t = stats.t.ppf(0.95, n - m)   \n",
    "\n",
    "\n",
    "x2 = np.linspace(np.min(x), np.max(x), 100)\n",
    "y2 = equation(p, x2)\n",
    "\n",
    "# Estimates of Error in Data/Model\n",
    "resid = x - y_model                           \n",
    "chi2 = np.sum((resid / y_model)**2)                        # chi-squared; estimates error in data\n",
    "chi2_red = chi2 / dof                                      # reduced chi-squared; measures goodness of fit\n",
    "s_err = np.sqrt(np.sum(resid**2) / dof)                    # standard deviation of the error\n",
    "\n",
    "\n",
    "            \n",
    "plt.scatter(x, y, alpha=0.5)\n",
    "plt.plot(x, y_model)\n",
    "plt.xscale('log')\n",
    "plt.ylim([0.,1])\n",
    "\n",
    "\n",
    "\n",
    "\n",
    "plot_ci_manual(t, s_err, n, x, x2, y2)\n",
    "# plot_ci_bootstrap(x, y, resid)\n",
    "\n",
    "# q = tmp[tmp['thr']==0.01].groupby('div').mean()\n",
    "# # q = q[q.index<1e6]\n",
    "# x=q.index[~np.isnan(q['mean2'])]\n",
    "# y=q[~np.isnan(q['mean2'])]['mean2']\n",
    "# p, cov = np.polyfit(q.index[~np.isnan(q['mean2'])], q[~np.isnan(q['mean2'])]['mean2'], 3, cov=True)\n",
    "\n",
    "# y_model = equation(p, q.index)   \n",
    "\n",
    "# # Statistics\n",
    "# n = q.shape[0]                                           # number of observations\n",
    "# m = p.size                                                 # number of parameters\n",
    "# dof = n - m                                                # degrees of freedom\n",
    "# t = stats.t.ppf(0.95, n - m)   \n",
    "\n",
    "\n",
    "# x2 = np.linspace(np.min(x), np.max(x), 100)\n",
    "# y2 = equation(p, x2)\n",
    "\n",
    "# # Estimates of Error in Data/Model\n",
    "# resid = q['mean2'] - y_model                           \n",
    "# chi2 = np.sum((resid / y_model)**2)                        # chi-squared; estimates error in data\n",
    "# chi2_red = chi2 / dof                                      # reduced chi-squared; measures goodness of fit\n",
    "# s_err = np.sqrt(np.sum(resid**2) / dof)  \n",
    "\n",
    "# plt.scatter(q.index, q['mean2'], alpha=0.5)\n",
    "# plt.plot(q.index, y_model)\n",
    "\n",
    "# # plot_ci_manual(t, s_err, n, x, x2, y2)\n",
    "# plot_ci_bootstrap(x, y, resid)"
   ]
  },
  {
   "cell_type": "code",
   "execution_count": 23,
   "id": "6a0907e5-ef1a-4f39-9dba-70a3b76cd4f2",
   "metadata": {},
   "outputs": [
    {
     "data": {
      "text/plain": [
       "Float64Index([0.5004291192945887, 1.5004288883124983,  2.500428657330408,\n",
       "               3.500428426348318, 4.5004281953662275,  5.500427964384137,\n",
       "               9.500427040455776, 11.500426578491595, 14.500425885545324,\n",
       "              19.500424730634872, 24.500423575724422,  29.50042242081397,\n",
       "               40.50041988001097,  49.50041780117216,  59.50041549135126,\n",
       "                74.5004120266199,  81.50041040974527,  99.50040625206765,\n",
       "              122.50040093947956, 149.50039470296312, 163.50039146921387,\n",
       "              204.50038199894817, 245.50037252868245,  299.5003600556496,\n",
       "              409.50033464761964, 491.50031570708825,  614.5002872962912,\n",
       "               819.5002399449626,  1024.500192593634, 1229.5001452423055,\n",
       "              2049.4999558369914, 2459.4998611343344,  2542.499841962821,\n",
       "              3074.4997190803488,  4099.499482323707,  5085.499254575365,\n",
       "               6149.499008810421,   7628.49866718791, 10171.498079800454,\n",
       "              12299.497588270566, 12714.497492412998, 15257.496905025542,\n",
       "              25429.494555475718,  30515.49338070081,  38144.49161853844,\n",
       "              50859.488681601164, 63574.485744663885,   76289.4828077266],\n",
       "             dtype='float64', name='div')"
      ]
     },
     "execution_count": 23,
     "metadata": {},
     "output_type": "execute_result"
    }
   ],
   "source": [
    "resid"
   ]
  },
  {
   "cell_type": "code",
   "execution_count": 24,
   "id": "57418c7b-c344-4b9d-a15d-a338e519f28d",
   "metadata": {},
   "outputs": [],
   "source": [
    "rrr = []\n",
    "for i in tmp['div'].unique():\n",
    "    q = tmp[(tmp['thr']==0.05)&(tmp['div']==i)]\n",
    "    try:\n",
    "        rrr.append({'i':i,\n",
    "                'm1':stats.ks_2samp(q['median'], q['median']).pvalue,\n",
    "                'm2':stats.ks_2samp(np.concatenate([i for i in q['raw_values']]), np.concatenate([i for i in q['raw_values2']])).pvalue})\n",
    "    except:\n",
    "        pass\n",
    "    \n",
    "#     print(stats.ks_2samp(np.concatenate([i for i in q['raw_values']]), np.concatenate([i for i in q['raw_values2']])))\n",
    "#     print(stats.ks_2samp(q['mean'], q['mean2']).pvalue)"
   ]
  },
  {
   "cell_type": "code",
   "execution_count": 25,
   "id": "8c76db03-94b6-4066-885b-400b539c1abe",
   "metadata": {},
   "outputs": [
    {
     "data": {
      "text/html": [
       "<div>\n",
       "<style scoped>\n",
       "    .dataframe tbody tr th:only-of-type {\n",
       "        vertical-align: middle;\n",
       "    }\n",
       "\n",
       "    .dataframe tbody tr th {\n",
       "        vertical-align: top;\n",
       "    }\n",
       "\n",
       "    .dataframe thead th {\n",
       "        text-align: right;\n",
       "    }\n",
       "</style>\n",
       "<table border=\"1\" class=\"dataframe\">\n",
       "  <thead>\n",
       "    <tr style=\"text-align: right;\">\n",
       "      <th></th>\n",
       "      <th>i</th>\n",
       "      <th>m1</th>\n",
       "      <th>m2</th>\n",
       "    </tr>\n",
       "  </thead>\n",
       "  <tbody>\n",
       "    <tr>\n",
       "      <th>0</th>\n",
       "      <td>1</td>\n",
       "      <td>1.0</td>\n",
       "      <td>0.065029</td>\n",
       "    </tr>\n",
       "    <tr>\n",
       "      <th>1</th>\n",
       "      <td>2</td>\n",
       "      <td>1.0</td>\n",
       "      <td>0.475523</td>\n",
       "    </tr>\n",
       "    <tr>\n",
       "      <th>2</th>\n",
       "      <td>3</td>\n",
       "      <td>1.0</td>\n",
       "      <td>0.002092</td>\n",
       "    </tr>\n",
       "    <tr>\n",
       "      <th>3</th>\n",
       "      <td>4</td>\n",
       "      <td>1.0</td>\n",
       "      <td>0.660099</td>\n",
       "    </tr>\n",
       "    <tr>\n",
       "      <th>4</th>\n",
       "      <td>5</td>\n",
       "      <td>1.0</td>\n",
       "      <td>0.091192</td>\n",
       "    </tr>\n",
       "    <tr>\n",
       "      <th>...</th>\n",
       "      <td>...</td>\n",
       "      <td>...</td>\n",
       "      <td>...</td>\n",
       "    </tr>\n",
       "    <tr>\n",
       "      <th>65</th>\n",
       "      <td>3127890</td>\n",
       "      <td>1.0</td>\n",
       "      <td>0.023089</td>\n",
       "    </tr>\n",
       "    <tr>\n",
       "      <th>66</th>\n",
       "      <td>5213150</td>\n",
       "      <td>1.0</td>\n",
       "      <td>0.895272</td>\n",
       "    </tr>\n",
       "    <tr>\n",
       "      <th>67</th>\n",
       "      <td>6255780</td>\n",
       "      <td>1.0</td>\n",
       "      <td>0.949787</td>\n",
       "    </tr>\n",
       "    <tr>\n",
       "      <th>68</th>\n",
       "      <td>7819725</td>\n",
       "      <td>1.0</td>\n",
       "      <td>0.905926</td>\n",
       "    </tr>\n",
       "    <tr>\n",
       "      <th>69</th>\n",
       "      <td>10426300</td>\n",
       "      <td>1.0</td>\n",
       "      <td>1.000000</td>\n",
       "    </tr>\n",
       "  </tbody>\n",
       "</table>\n",
       "<p>70 rows × 3 columns</p>\n",
       "</div>"
      ],
      "text/plain": [
       "           i   m1        m2\n",
       "0          1  1.0  0.065029\n",
       "1          2  1.0  0.475523\n",
       "2          3  1.0  0.002092\n",
       "3          4  1.0  0.660099\n",
       "4          5  1.0  0.091192\n",
       "..       ...  ...       ...\n",
       "65   3127890  1.0  0.023089\n",
       "66   5213150  1.0  0.895272\n",
       "67   6255780  1.0  0.949787\n",
       "68   7819725  1.0  0.905926\n",
       "69  10426300  1.0  1.000000\n",
       "\n",
       "[70 rows x 3 columns]"
      ]
     },
     "execution_count": 25,
     "metadata": {},
     "output_type": "execute_result"
    }
   ],
   "source": [
    "rrr1=pd.DataFrame(rrr)\n",
    "rrr1\n",
    "# plt.scatter(rrr1['i'], rrr1['m2'], alpha=0.5)\n",
    "# plt.scatter(rrr1['i'], rrr1['m1'], alpha=0.5)\n",
    "# plt.xscale('log')"
   ]
  },
  {
   "cell_type": "code",
   "execution_count": 26,
   "id": "f1a9aa9d-0525-466b-8068-c26cce7dea03",
   "metadata": {},
   "outputs": [
    {
     "data": {
      "image/png": "[encoded data removed]",
      "text/plain": [
       "<Figure size 432x288 with 1 Axes>"
      ]
     },
     "metadata": {
      "needs_background": "light"
     },
     "output_type": "display_data"
    }
   ],
   "source": [
    "plt.scatter(q.index, q['mean'], alpha=0.5)\n",
    "plt.scatter(q.index, q['mean2'], alpha=0.5)\n",
    "plt.xscale('log')\n",
    "# plt.ylim([0.495,0.5025])"
   ]
  },
  {
   "cell_type": "code",
   "execution_count": 275,
   "id": "416137f3-8f5c-41e2-9c10-b9bb8437f852",
   "metadata": {},
   "outputs": [],
   "source": []
  },
  {
   "cell_type": "code",
   "execution_count": 288,
   "id": "93fb68cf-054c-4006-8e60-34a088a41fed",
   "metadata": {},
   "outputs": [
    {
     "data": {
      "text/plain": [
       "0      -0.342493\n",
       "1      -0.310172\n",
       "2      -0.282719\n",
       "3      -0.313946\n",
       "4      -0.283553\n",
       "          ...   \n",
       "5125   -0.335033\n",
       "5126   -0.335033\n",
       "5127   -0.382791\n",
       "5128   -0.382791\n",
       "5129   -0.382791\n",
       "Length: 5130, dtype: float64"
      ]
     },
     "execution_count": 288,
     "metadata": {},
     "output_type": "execute_result"
    }
   ],
   "source": [
    "stats.binom_test(473,len(tmp_no_na)-(tmp_no_na==0).sum(),0.5))"
   ]
  },
  {
   "cell_type": "code",
   "execution_count": 286,
   "id": "b2182bce-42e5-4113-ac7d-849f8cc0c851",
   "metadata": {},
   "outputs": [
    {
     "data": {
      "text/html": [
       "<div>\n",
       "<style scoped>\n",
       "    .dataframe tbody tr th:only-of-type {\n",
       "        vertical-align: middle;\n",
       "    }\n",
       "\n",
       "    .dataframe tbody tr th {\n",
       "        vertical-align: top;\n",
       "    }\n",
       "\n",
       "    .dataframe thead th {\n",
       "        text-align: right;\n",
       "    }\n",
       "</style>\n",
       "<table border=\"1\" class=\"dataframe\">\n",
       "  <thead>\n",
       "    <tr style=\"text-align: right;\">\n",
       "      <th></th>\n",
       "      <th>it</th>\n",
       "      <th>thr</th>\n",
       "      <th>mean</th>\n",
       "      <th>std</th>\n",
       "      <th>median</th>\n",
       "    </tr>\n",
       "    <tr>\n",
       "      <th>div</th>\n",
       "      <th></th>\n",
       "      <th></th>\n",
       "      <th></th>\n",
       "      <th></th>\n",
       "      <th></th>\n",
       "    </tr>\n",
       "  </thead>\n",
       "  <tbody>\n",
       "    <tr>\n",
       "      <th>4</th>\n",
       "      <td>14.5</td>\n",
       "      <td>0.05</td>\n",
       "      <td>0.473052</td>\n",
       "      <td>0.287885</td>\n",
       "      <td>0.461180</td>\n",
       "    </tr>\n",
       "    <tr>\n",
       "      <th>5</th>\n",
       "      <td>14.5</td>\n",
       "      <td>0.05</td>\n",
       "      <td>0.480094</td>\n",
       "      <td>0.287830</td>\n",
       "      <td>0.471438</td>\n",
       "    </tr>\n",
       "    <tr>\n",
       "      <th>6</th>\n",
       "      <td>14.5</td>\n",
       "      <td>0.05</td>\n",
       "      <td>0.484992</td>\n",
       "      <td>0.287861</td>\n",
       "      <td>0.478482</td>\n",
       "    </tr>\n",
       "    <tr>\n",
       "      <th>10</th>\n",
       "      <td>14.5</td>\n",
       "      <td>0.05</td>\n",
       "      <td>0.494458</td>\n",
       "      <td>0.288218</td>\n",
       "      <td>0.492095</td>\n",
       "    </tr>\n",
       "    <tr>\n",
       "      <th>12</th>\n",
       "      <td>14.5</td>\n",
       "      <td>0.05</td>\n",
       "      <td>0.496224</td>\n",
       "      <td>0.288326</td>\n",
       "      <td>0.494654</td>\n",
       "    </tr>\n",
       "    <tr>\n",
       "      <th>15</th>\n",
       "      <td>14.5</td>\n",
       "      <td>0.05</td>\n",
       "      <td>0.497584</td>\n",
       "      <td>0.288452</td>\n",
       "      <td>0.496572</td>\n",
       "    </tr>\n",
       "    <tr>\n",
       "      <th>20</th>\n",
       "      <td>14.5</td>\n",
       "      <td>0.05</td>\n",
       "      <td>0.498399</td>\n",
       "      <td>0.288533</td>\n",
       "      <td>0.497738</td>\n",
       "    </tr>\n",
       "    <tr>\n",
       "      <th>25</th>\n",
       "      <td>14.5</td>\n",
       "      <td>0.05</td>\n",
       "      <td>0.498739</td>\n",
       "      <td>0.288569</td>\n",
       "      <td>0.498243</td>\n",
       "    </tr>\n",
       "    <tr>\n",
       "      <th>30</th>\n",
       "      <td>14.5</td>\n",
       "      <td>0.05</td>\n",
       "      <td>0.498902</td>\n",
       "      <td>0.288563</td>\n",
       "      <td>0.498452</td>\n",
       "    </tr>\n",
       "    <tr>\n",
       "      <th>41</th>\n",
       "      <td>14.5</td>\n",
       "      <td>0.05</td>\n",
       "      <td>0.499136</td>\n",
       "      <td>0.288581</td>\n",
       "      <td>0.498841</td>\n",
       "    </tr>\n",
       "    <tr>\n",
       "      <th>50</th>\n",
       "      <td>14.5</td>\n",
       "      <td>0.05</td>\n",
       "      <td>0.499237</td>\n",
       "      <td>0.288573</td>\n",
       "      <td>0.498886</td>\n",
       "    </tr>\n",
       "    <tr>\n",
       "      <th>60</th>\n",
       "      <td>14.5</td>\n",
       "      <td>0.05</td>\n",
       "      <td>0.499269</td>\n",
       "      <td>0.288522</td>\n",
       "      <td>0.498952</td>\n",
       "    </tr>\n",
       "    <tr>\n",
       "      <th>75</th>\n",
       "      <td>14.5</td>\n",
       "      <td>0.05</td>\n",
       "      <td>0.499326</td>\n",
       "      <td>0.288600</td>\n",
       "      <td>0.499019</td>\n",
       "    </tr>\n",
       "    <tr>\n",
       "      <th>82</th>\n",
       "      <td>14.5</td>\n",
       "      <td>0.05</td>\n",
       "      <td>0.499323</td>\n",
       "      <td>0.288549</td>\n",
       "      <td>0.499068</td>\n",
       "    </tr>\n",
       "    <tr>\n",
       "      <th>100</th>\n",
       "      <td>14.5</td>\n",
       "      <td>0.05</td>\n",
       "      <td>0.499275</td>\n",
       "      <td>0.288517</td>\n",
       "      <td>0.498949</td>\n",
       "    </tr>\n",
       "    <tr>\n",
       "      <th>123</th>\n",
       "      <td>14.5</td>\n",
       "      <td>0.05</td>\n",
       "      <td>0.499272</td>\n",
       "      <td>0.288577</td>\n",
       "      <td>0.499071</td>\n",
       "    </tr>\n",
       "    <tr>\n",
       "      <th>150</th>\n",
       "      <td>14.5</td>\n",
       "      <td>0.05</td>\n",
       "      <td>0.499225</td>\n",
       "      <td>0.288598</td>\n",
       "      <td>0.498938</td>\n",
       "    </tr>\n",
       "    <tr>\n",
       "      <th>164</th>\n",
       "      <td>14.5</td>\n",
       "      <td>0.05</td>\n",
       "      <td>0.499176</td>\n",
       "      <td>0.288650</td>\n",
       "      <td>0.498850</td>\n",
       "    </tr>\n",
       "    <tr>\n",
       "      <th>205</th>\n",
       "      <td>14.5</td>\n",
       "      <td>0.05</td>\n",
       "      <td>0.499046</td>\n",
       "      <td>0.288644</td>\n",
       "      <td>0.498773</td>\n",
       "    </tr>\n",
       "    <tr>\n",
       "      <th>246</th>\n",
       "      <td>14.5</td>\n",
       "      <td>0.05</td>\n",
       "      <td>0.498972</td>\n",
       "      <td>0.288575</td>\n",
       "      <td>0.498776</td>\n",
       "    </tr>\n",
       "    <tr>\n",
       "      <th>300</th>\n",
       "      <td>14.5</td>\n",
       "      <td>0.05</td>\n",
       "      <td>0.498814</td>\n",
       "      <td>0.288571</td>\n",
       "      <td>0.498339</td>\n",
       "    </tr>\n",
       "    <tr>\n",
       "      <th>410</th>\n",
       "      <td>14.5</td>\n",
       "      <td>0.05</td>\n",
       "      <td>0.498596</td>\n",
       "      <td>0.288647</td>\n",
       "      <td>0.498019</td>\n",
       "    </tr>\n",
       "    <tr>\n",
       "      <th>492</th>\n",
       "      <td>14.5</td>\n",
       "      <td>0.05</td>\n",
       "      <td>0.498377</td>\n",
       "      <td>0.288377</td>\n",
       "      <td>0.497574</td>\n",
       "    </tr>\n",
       "    <tr>\n",
       "      <th>615</th>\n",
       "      <td>14.5</td>\n",
       "      <td>0.05</td>\n",
       "      <td>0.498235</td>\n",
       "      <td>0.288646</td>\n",
       "      <td>0.497175</td>\n",
       "    </tr>\n",
       "    <tr>\n",
       "      <th>820</th>\n",
       "      <td>14.5</td>\n",
       "      <td>0.05</td>\n",
       "      <td>0.497940</td>\n",
       "      <td>0.288572</td>\n",
       "      <td>0.496698</td>\n",
       "    </tr>\n",
       "    <tr>\n",
       "      <th>1025</th>\n",
       "      <td>14.5</td>\n",
       "      <td>0.05</td>\n",
       "      <td>0.497776</td>\n",
       "      <td>0.288403</td>\n",
       "      <td>0.496531</td>\n",
       "    </tr>\n",
       "    <tr>\n",
       "      <th>1230</th>\n",
       "      <td>14.5</td>\n",
       "      <td>0.05</td>\n",
       "      <td>0.497572</td>\n",
       "      <td>0.288355</td>\n",
       "      <td>0.496308</td>\n",
       "    </tr>\n",
       "    <tr>\n",
       "      <th>2050</th>\n",
       "      <td>14.5</td>\n",
       "      <td>0.05</td>\n",
       "      <td>0.496904</td>\n",
       "      <td>0.287877</td>\n",
       "      <td>0.495358</td>\n",
       "    </tr>\n",
       "    <tr>\n",
       "      <th>2460</th>\n",
       "      <td>14.5</td>\n",
       "      <td>0.05</td>\n",
       "      <td>0.496545</td>\n",
       "      <td>0.287891</td>\n",
       "      <td>0.494964</td>\n",
       "    </tr>\n",
       "    <tr>\n",
       "      <th>2543</th>\n",
       "      <td>14.5</td>\n",
       "      <td>0.05</td>\n",
       "      <td>0.496467</td>\n",
       "      <td>0.287708</td>\n",
       "      <td>0.495049</td>\n",
       "    </tr>\n",
       "    <tr>\n",
       "      <th>3075</th>\n",
       "      <td>14.5</td>\n",
       "      <td>0.05</td>\n",
       "      <td>0.495996</td>\n",
       "      <td>0.288076</td>\n",
       "      <td>0.493357</td>\n",
       "    </tr>\n",
       "    <tr>\n",
       "      <th>4100</th>\n",
       "      <td>14.5</td>\n",
       "      <td>0.05</td>\n",
       "      <td>0.495718</td>\n",
       "      <td>0.287583</td>\n",
       "      <td>0.493646</td>\n",
       "    </tr>\n",
       "    <tr>\n",
       "      <th>5086</th>\n",
       "      <td>14.5</td>\n",
       "      <td>0.05</td>\n",
       "      <td>0.495256</td>\n",
       "      <td>0.288252</td>\n",
       "      <td>0.493894</td>\n",
       "    </tr>\n",
       "    <tr>\n",
       "      <th>6150</th>\n",
       "      <td>14.5</td>\n",
       "      <td>0.05</td>\n",
       "      <td>0.494619</td>\n",
       "      <td>0.288438</td>\n",
       "      <td>0.492171</td>\n",
       "    </tr>\n",
       "    <tr>\n",
       "      <th>7629</th>\n",
       "      <td>14.5</td>\n",
       "      <td>0.05</td>\n",
       "      <td>0.494093</td>\n",
       "      <td>0.288210</td>\n",
       "      <td>0.491629</td>\n",
       "    </tr>\n",
       "    <tr>\n",
       "      <th>10172</th>\n",
       "      <td>14.5</td>\n",
       "      <td>0.05</td>\n",
       "      <td>0.493416</td>\n",
       "      <td>0.287730</td>\n",
       "      <td>0.492107</td>\n",
       "    </tr>\n",
       "    <tr>\n",
       "      <th>12300</th>\n",
       "      <td>14.5</td>\n",
       "      <td>0.05</td>\n",
       "      <td>0.492251</td>\n",
       "      <td>0.288251</td>\n",
       "      <td>0.489694</td>\n",
       "    </tr>\n",
       "    <tr>\n",
       "      <th>12715</th>\n",
       "      <td>14.5</td>\n",
       "      <td>0.05</td>\n",
       "      <td>0.492253</td>\n",
       "      <td>0.288081</td>\n",
       "      <td>0.490005</td>\n",
       "    </tr>\n",
       "    <tr>\n",
       "      <th>15258</th>\n",
       "      <td>14.5</td>\n",
       "      <td>0.05</td>\n",
       "      <td>0.491937</td>\n",
       "      <td>0.288755</td>\n",
       "      <td>0.488264</td>\n",
       "    </tr>\n",
       "    <tr>\n",
       "      <th>25430</th>\n",
       "      <td>14.5</td>\n",
       "      <td>0.05</td>\n",
       "      <td>0.489091</td>\n",
       "      <td>0.288295</td>\n",
       "      <td>0.485204</td>\n",
       "    </tr>\n",
       "    <tr>\n",
       "      <th>30516</th>\n",
       "      <td>14.5</td>\n",
       "      <td>0.05</td>\n",
       "      <td>0.487991</td>\n",
       "      <td>0.289675</td>\n",
       "      <td>0.482412</td>\n",
       "    </tr>\n",
       "    <tr>\n",
       "      <th>38145</th>\n",
       "      <td>14.5</td>\n",
       "      <td>0.05</td>\n",
       "      <td>0.486603</td>\n",
       "      <td>0.288894</td>\n",
       "      <td>0.484203</td>\n",
       "    </tr>\n",
       "    <tr>\n",
       "      <th>50860</th>\n",
       "      <td>14.5</td>\n",
       "      <td>0.05</td>\n",
       "      <td>0.484277</td>\n",
       "      <td>0.287363</td>\n",
       "      <td>0.476624</td>\n",
       "    </tr>\n",
       "    <tr>\n",
       "      <th>63575</th>\n",
       "      <td>14.5</td>\n",
       "      <td>0.05</td>\n",
       "      <td>0.482713</td>\n",
       "      <td>0.286973</td>\n",
       "      <td>0.474200</td>\n",
       "    </tr>\n",
       "    <tr>\n",
       "      <th>76290</th>\n",
       "      <td>14.5</td>\n",
       "      <td>0.05</td>\n",
       "      <td>0.480181</td>\n",
       "      <td>0.287666</td>\n",
       "      <td>0.471076</td>\n",
       "    </tr>\n",
       "    <tr>\n",
       "      <th>104263</th>\n",
       "      <td>14.5</td>\n",
       "      <td>0.05</td>\n",
       "      <td>0.476049</td>\n",
       "      <td>0.287283</td>\n",
       "      <td>0.461577</td>\n",
       "    </tr>\n",
       "    <tr>\n",
       "      <th>127150</th>\n",
       "      <td>14.5</td>\n",
       "      <td>0.05</td>\n",
       "      <td>0.474804</td>\n",
       "      <td>0.289047</td>\n",
       "      <td>0.459416</td>\n",
       "    </tr>\n",
       "    <tr>\n",
       "      <th>152580</th>\n",
       "      <td>14.5</td>\n",
       "      <td>0.05</td>\n",
       "      <td>0.474832</td>\n",
       "      <td>0.286360</td>\n",
       "      <td>0.466296</td>\n",
       "    </tr>\n",
       "    <tr>\n",
       "      <th>190725</th>\n",
       "      <td>14.5</td>\n",
       "      <td>0.05</td>\n",
       "      <td>0.470032</td>\n",
       "      <td>0.287366</td>\n",
       "      <td>0.461714</td>\n",
       "    </tr>\n",
       "    <tr>\n",
       "      <th>208526</th>\n",
       "      <td>14.5</td>\n",
       "      <td>0.05</td>\n",
       "      <td>0.466751</td>\n",
       "      <td>0.289997</td>\n",
       "      <td>0.449602</td>\n",
       "    </tr>\n",
       "    <tr>\n",
       "      <th>254300</th>\n",
       "      <td>14.5</td>\n",
       "      <td>0.05</td>\n",
       "      <td>0.466075</td>\n",
       "      <td>0.285587</td>\n",
       "      <td>0.453595</td>\n",
       "    </tr>\n",
       "    <tr>\n",
       "      <th>312789</th>\n",
       "      <td>14.5</td>\n",
       "      <td>0.05</td>\n",
       "      <td>0.459153</td>\n",
       "      <td>0.282617</td>\n",
       "      <td>0.442136</td>\n",
       "    </tr>\n",
       "    <tr>\n",
       "      <th>381450</th>\n",
       "      <td>14.5</td>\n",
       "      <td>0.05</td>\n",
       "      <td>0.456272</td>\n",
       "      <td>0.283897</td>\n",
       "      <td>0.436518</td>\n",
       "    </tr>\n",
       "    <tr>\n",
       "      <th>417052</th>\n",
       "      <td>14.5</td>\n",
       "      <td>0.05</td>\n",
       "      <td>0.451633</td>\n",
       "      <td>0.285133</td>\n",
       "      <td>0.430654</td>\n",
       "    </tr>\n",
       "    <tr>\n",
       "      <th>521315</th>\n",
       "      <td>14.5</td>\n",
       "      <td>0.05</td>\n",
       "      <td>0.448950</td>\n",
       "      <td>0.284058</td>\n",
       "      <td>0.431020</td>\n",
       "    </tr>\n",
       "    <tr>\n",
       "      <th>625578</th>\n",
       "      <td>14.5</td>\n",
       "      <td>0.05</td>\n",
       "      <td>0.442495</td>\n",
       "      <td>0.272244</td>\n",
       "      <td>0.421853</td>\n",
       "    </tr>\n",
       "    <tr>\n",
       "      <th>762900</th>\n",
       "      <td>14.5</td>\n",
       "      <td>0.05</td>\n",
       "      <td>0.437138</td>\n",
       "      <td>0.278898</td>\n",
       "      <td>0.415777</td>\n",
       "    </tr>\n",
       "  </tbody>\n",
       "</table>\n",
       "</div>"
      ],
      "text/plain": [
       "          it   thr      mean       std    median\n",
       "div                                             \n",
       "4       14.5  0.05  0.473052  0.287885  0.461180\n",
       "5       14.5  0.05  0.480094  0.287830  0.471438\n",
       "6       14.5  0.05  0.484992  0.287861  0.478482\n",
       "10      14.5  0.05  0.494458  0.288218  0.492095\n",
       "12      14.5  0.05  0.496224  0.288326  0.494654\n",
       "15      14.5  0.05  0.497584  0.288452  0.496572\n",
       "20      14.5  0.05  0.498399  0.288533  0.497738\n",
       "25      14.5  0.05  0.498739  0.288569  0.498243\n",
       "30      14.5  0.05  0.498902  0.288563  0.498452\n",
       "41      14.5  0.05  0.499136  0.288581  0.498841\n",
       "50      14.5  0.05  0.499237  0.288573  0.498886\n",
       "60      14.5  0.05  0.499269  0.288522  0.498952\n",
       "75      14.5  0.05  0.499326  0.288600  0.499019\n",
       "82      14.5  0.05  0.499323  0.288549  0.499068\n",
       "100     14.5  0.05  0.499275  0.288517  0.498949\n",
       "123     14.5  0.05  0.499272  0.288577  0.499071\n",
       "150     14.5  0.05  0.499225  0.288598  0.498938\n",
       "164     14.5  0.05  0.499176  0.288650  0.498850\n",
       "205     14.5  0.05  0.499046  0.288644  0.498773\n",
       "246     14.5  0.05  0.498972  0.288575  0.498776\n",
       "300     14.5  0.05  0.498814  0.288571  0.498339\n",
       "410     14.5  0.05  0.498596  0.288647  0.498019\n",
       "492     14.5  0.05  0.498377  0.288377  0.497574\n",
       "615     14.5  0.05  0.498235  0.288646  0.497175\n",
       "820     14.5  0.05  0.497940  0.288572  0.496698\n",
       "1025    14.5  0.05  0.497776  0.288403  0.496531\n",
       "1230    14.5  0.05  0.497572  0.288355  0.496308\n",
       "2050    14.5  0.05  0.496904  0.287877  0.495358\n",
       "2460    14.5  0.05  0.496545  0.287891  0.494964\n",
       "2543    14.5  0.05  0.496467  0.287708  0.495049\n",
       "3075    14.5  0.05  0.495996  0.288076  0.493357\n",
       "4100    14.5  0.05  0.495718  0.287583  0.493646\n",
       "5086    14.5  0.05  0.495256  0.288252  0.493894\n",
       "6150    14.5  0.05  0.494619  0.288438  0.492171\n",
       "7629    14.5  0.05  0.494093  0.288210  0.491629\n",
       "10172   14.5  0.05  0.493416  0.287730  0.492107\n",
       "12300   14.5  0.05  0.492251  0.288251  0.489694\n",
       "12715   14.5  0.05  0.492253  0.288081  0.490005\n",
       "15258   14.5  0.05  0.491937  0.288755  0.488264\n",
       "25430   14.5  0.05  0.489091  0.288295  0.485204\n",
       "30516   14.5  0.05  0.487991  0.289675  0.482412\n",
       "38145   14.5  0.05  0.486603  0.288894  0.484203\n",
       "50860   14.5  0.05  0.484277  0.287363  0.476624\n",
       "63575   14.5  0.05  0.482713  0.286973  0.474200\n",
       "76290   14.5  0.05  0.480181  0.287666  0.471076\n",
       "104263  14.5  0.05  0.476049  0.287283  0.461577\n",
       "127150  14.5  0.05  0.474804  0.289047  0.459416\n",
       "152580  14.5  0.05  0.474832  0.286360  0.466296\n",
       "190725  14.5  0.05  0.470032  0.287366  0.461714\n",
       "208526  14.5  0.05  0.466751  0.289997  0.449602\n",
       "254300  14.5  0.05  0.466075  0.285587  0.453595\n",
       "312789  14.5  0.05  0.459153  0.282617  0.442136\n",
       "381450  14.5  0.05  0.456272  0.283897  0.436518\n",
       "417052  14.5  0.05  0.451633  0.285133  0.430654\n",
       "521315  14.5  0.05  0.448950  0.284058  0.431020\n",
       "625578  14.5  0.05  0.442495  0.272244  0.421853\n",
       "762900  14.5  0.05  0.437138  0.278898  0.415777"
      ]
     },
     "execution_count": 286,
     "metadata": {},
     "output_type": "execute_result"
    }
   ],
   "source": [
    "tmp[tmp['thr']==0.05].groupby('div').mean()"
   ]
  },
  {
   "cell_type": "markdown",
   "id": "355fee4e-442a-41a6-8cec-5d255f4940fc",
   "metadata": {},
   "source": [
    "Ok, now I want to work out sliding window approach. Based on GCP main experiment, they observed fluctuations in\n",
    "around 6-24 hours range. We are going to monitor 6 12 24 hours sliding windows.\n",
    "\n",
    "Plus based on previous analysis we \"see\" few other candidantes - 60 seconds"
   ]
  },
  {
   "cell_type": "code",
   "execution_count": 516,
   "id": "eb8ab9e9-ad5e-43dd-984d-7e6948001814",
   "metadata": {},
   "outputs": [
    {
     "data": {
      "text/plain": [
       "[1, 3]"
      ]
     },
     "execution_count": 516,
     "metadata": {},
     "output_type": "execute_result"
    }
   ],
   "source": [
    "list(range(1,5,2))"
   ]
  },
  {
   "cell_type": "code",
   "execution_count": null,
   "id": "91f76796-7a3e-4a02-a0a2-24c05024d933",
   "metadata": {},
   "outputs": [],
   "source": [
    "result = []\n",
    "INTERVAL = 3\n",
    "for i in tqdm(range(0,z_norm_test.shape[0]-INTERVAL-1,INTERVAL)):\n",
    "    sign_test_positive = False \n",
    "    q_test = z_norm_test.iloc[i:i+INTERVAL]\n",
    "    if np.cumsum(q_test).iloc[-1]>0:\n",
    "        sign_test_positive = True\n",
    "        \n",
    "    sign_control_positive = False\n",
    "    q_control = z_norm_control.iloc[i:i+INTERVAL]\n",
    "    if np.cumsum(q_control).iloc[-1]>0:\n",
    "        sign_control_positive = True\n",
    "    result.append(1 if sign_test_positive==sign_control_positive else 0)\n",
    "    \n",
    "\n",
    "    \n",
    "result = np.array(result)"
   ]
  },
  {
   "cell_type": "code",
   "execution_count": 696,
   "id": "74d5cfd6-58b8-4444-afcc-c404dd90344c",
   "metadata": {},
   "outputs": [
    {
     "ename": "AttributeError",
     "evalue": "'list' object has no attribute 'sum'",
     "output_type": "error",
     "traceback": [
      "\u001b[0;31m---------------------------------------------------------------------------\u001b[0m",
      "\u001b[0;31mAttributeError\u001b[0m                            Traceback (most recent call last)",
      "\u001b[0;32m<ipython-input-696-6685cebf0895>\u001b[0m in \u001b[0;36m<module>\u001b[0;34m\u001b[0m\n\u001b[0;32m----> 1\u001b[0;31m \u001b[0mstats\u001b[0m\u001b[0;34m.\u001b[0m\u001b[0mbinom_test\u001b[0m\u001b[0;34m(\u001b[0m\u001b[0mresult\u001b[0m\u001b[0;34m.\u001b[0m\u001b[0msum\u001b[0m\u001b[0;34m(\u001b[0m\u001b[0;34m)\u001b[0m\u001b[0;34m,\u001b[0m\u001b[0mlen\u001b[0m\u001b[0;34m(\u001b[0m\u001b[0mresult\u001b[0m\u001b[0;34m)\u001b[0m\u001b[0;34m,\u001b[0m\u001b[0;36m0.5\u001b[0m\u001b[0;34m,\u001b[0m\u001b[0;34m'lefss'\u001b[0m\u001b[0;34m)\u001b[0m\u001b[0;34m\u001b[0m\u001b[0;34m\u001b[0m\u001b[0m\n\u001b[0m",
      "\u001b[0;31mAttributeError\u001b[0m: 'list' object has no attribute 'sum'"
     ]
    }
   ],
   "source": []
  },
  {
   "cell_type": "code",
   "execution_count": 544,
   "id": "6c9d0ba7-ef40-49fa-80b2-b0595f294726",
   "metadata": {},
   "outputs": [
    {
     "data": {
      "text/plain": [
       "[<matplotlib.lines.Line2D at 0x1314bc0d0>]"
      ]
     },
     "execution_count": 544,
     "metadata": {},
     "output_type": "execute_result"
    },
    {
     "data": {
      "image/png": "[encoded data removed]",
      "text/plain": [
       "<Figure size 432x288 with 1 Axes>"
      ]
     },
     "metadata": {
      "needs_background": "light"
     },
     "output_type": "display_data"
    }
   ],
   "source": [
    "plt.plot(list(range(len(result))), np.cumsum(result-0.5))"
   ]
  },
  {
   "cell_type": "code",
   "execution_count": 508,
   "id": "85256685-dfea-4eb1-8492-7681e6757327",
   "metadata": {},
   "outputs": [
    {
     "data": {
      "text/plain": [
       "index\n",
       "85400   -0.389335\n",
       "85401    0.940893\n",
       "85402    1.622230\n",
       "85403   -1.135561\n",
       "85404    0.811115\n",
       "           ...   \n",
       "85895    0.778670\n",
       "85896   -0.194668\n",
       "85897   -1.979120\n",
       "85898   -0.129778\n",
       "85899   -0.519114\n",
       "Length: 500, dtype: float64"
      ]
     },
     "execution_count": 508,
     "metadata": {},
     "output_type": "execute_result"
    }
   ],
   "source": [
    "z_norm_test.iloc[i:i+INTERVAL]"
   ]
  },
  {
   "cell_type": "code",
   "execution_count": 509,
   "id": "8e731cfc-e23a-40e2-967b-5d19f6231f81",
   "metadata": {},
   "outputs": [
    {
     "data": {
      "text/plain": [
       "index\n",
       "85400   -0.600006\n",
       "85401   -1.166678\n",
       "85402   -0.266669\n",
       "85403    1.800017\n",
       "85404   -0.500005\n",
       "           ...   \n",
       "85895    0.333337\n",
       "85896    0.600006\n",
       "85897    1.100011\n",
       "85898    0.866675\n",
       "85899    1.266679\n",
       "Length: 500, dtype: float64"
      ]
     },
     "execution_count": 509,
     "metadata": {},
     "output_type": "execute_result"
    }
   ],
   "source": [
    "z_norm_control.iloc[i:i+INTERVAL]"
   ]
  },
  {
   "cell_type": "code",
   "execution_count": 575,
   "id": "1003e4bb-6378-4ef7-a250-99cd327fb524",
   "metadata": {},
   "outputs": [
    {
     "data": {
      "text/plain": [
       "(21600, 120)"
      ]
     },
     "execution_count": 575,
     "metadata": {},
     "output_type": "execute_result"
    }
   ],
   "source": [
    "np.array(z_norm_control).reshape(-1,120).cumsum(axis=1).shape"
   ]
  },
  {
   "cell_type": "code",
   "execution_count": 596,
   "id": "5a9d1c33-72a8-4a62-a3c1-76dca3836cee",
   "metadata": {},
   "outputs": [
    {
     "data": {
      "text/plain": [
       "array([ -0.98031548,  -2.24523867,   9.39205472, ...,   1.23334516,\n",
       "        10.46676704, -18.93351491])"
      ]
     },
     "execution_count": 596,
     "metadata": {},
     "output_type": "execute_result"
    }
   ],
   "source": [
    "np.array(z_norm_control).reshape(-1,120).cumsum(axis=1)[:,-1]"
   ]
  },
  {
   "cell_type": "code",
   "execution_count": 598,
   "id": "f7697bda-3d9e-489c-914f-71723ed7ab59",
   "metadata": {},
   "outputs": [
    {
     "data": {
      "text/plain": [
       "array([-6.75710906,  6.68850896, -3.97880533, ..., -1.20045003,\n",
       "       11.97205569, 14.92451387])"
      ]
     },
     "execution_count": 598,
     "metadata": {},
     "output_type": "execute_result"
    }
   ],
   "source": [
    "np.array(z_norm_test).reshape(-1,120).cumsum(axis=1)[:,-1]"
   ]
  },
  {
   "cell_type": "code",
   "execution_count": 600,
   "id": "2f78356a-696d-45d8-8511-7e3ff7ae0d32",
   "metadata": {},
   "outputs": [],
   "source": [
    "r = np.sign(np.array(z_norm_control).reshape(-1,120).cumsum(axis=1)[:,-1]) == np.sign(np.array(z_norm_test).reshape(-1,120).cumsum(axis=1)[:,-1])"
   ]
  },
  {
   "cell_type": "code",
   "execution_count": 601,
   "id": "6913c18e-46a9-462f-9699-4e5518bde072",
   "metadata": {},
   "outputs": [
    {
     "data": {
      "text/plain": [
       "0.4986111111111111"
      ]
     },
     "execution_count": 601,
     "metadata": {},
     "output_type": "execute_result"
    }
   ],
   "source": [
    "r.mean()"
   ]
  },
  {
   "cell_type": "code",
   "execution_count": 605,
   "id": "e2d685f0-644c-4da0-9918-c1da69d2dc31",
   "metadata": {},
   "outputs": [
    {
     "data": {
      "application/vnd.jupyter.widget-view+json": {
       "model_id": "8f74c3f8b29c4a27a6e75c788059372e",
       "version_major": 2,
       "version_minor": 0
      },
      "text/plain": [
       "  0%|          | 0/2591880 [00:00<?, ?it/s]"
      ]
     },
     "metadata": {},
     "output_type": "display_data"
    }
   ],
   "source": [
    "INTERVAL=120\n",
    "q= np.array(z_norm_control).cumsum()\n",
    "scores = []\n",
    "\n",
    "for i in tqdm(range(0,len(z_norm_control)-INTERVAL,1)):\n",
    "    scores.append(q[i+INTERVAL]-q[i])"
   ]
  },
  {
   "cell_type": "code",
   "execution_count": 609,
   "id": "c8843bc2-e60c-46bb-87fc-0c838fcfaf7e",
   "metadata": {},
   "outputs": [
    {
     "data": {
      "text/plain": [
       "49.59357228245504"
      ]
     },
     "execution_count": 609,
     "metadata": {},
     "output_type": "execute_result"
    }
   ],
   "source": [
    "max(scores)"
   ]
  },
  {
   "cell_type": "code",
   "execution_count": 611,
   "id": "06b28739-5d9d-4e95-a04e-8bab0323aa83",
   "metadata": {},
   "outputs": [
    {
     "data": {
      "text/plain": [
       "-53.85238558362357"
      ]
     },
     "execution_count": 611,
     "metadata": {},
     "output_type": "execute_result"
    }
   ],
   "source": [
    "min(scores)"
   ]
  },
  {
   "cell_type": "code",
   "execution_count": null,
   "id": "5bf70382-e0c3-425a-b32b-918b7375849d",
   "metadata": {},
   "outputs": [],
   "source": [
    "# second hypothesis would be after high Z - is should be compensated by low Z, so it will not follow the \"normal distribution\""
   ]
  }
 ],
 "metadata": {
  "kernelspec": {
   "display_name": "Python 3",
   "language": "python",
   "name": "python3"
  },
  "language_info": {
   "codemirror_mode": {
    "name": "ipython",
    "version": 3
   },
   "file_extension": ".py",
   "mimetype": "text/x-python",
   "name": "python",
   "nbconvert_exporter": "python",
   "pygments_lexer": "ipython3",
   "version": "3.8.8"
  }
 },
 "nbformat": 4,
 "nbformat_minor": 5
}
